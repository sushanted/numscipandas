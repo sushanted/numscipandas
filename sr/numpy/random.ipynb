{
 "cells": [
  {
   "cell_type": "code",
   "execution_count": 1,
   "metadata": {},
   "outputs": [],
   "source": [
    "import numpy as np"
   ]
  },
  {
   "cell_type": "markdown",
   "metadata": {},
   "source": [
    "### Random float between 0 to 1"
   ]
  },
  {
   "cell_type": "code",
   "execution_count": 6,
   "metadata": {},
   "outputs": [
    {
     "data": {
      "text/plain": [
       "0.5638084189017718"
      ]
     },
     "execution_count": 6,
     "metadata": {},
     "output_type": "execute_result"
    }
   ],
   "source": [
    "# single value\n",
    "np.random.random()"
   ]
  },
  {
   "cell_type": "code",
   "execution_count": 5,
   "metadata": {},
   "outputs": [
    {
     "name": "stdout",
     "output_type": "stream",
     "text": [
      "[0.81493786 0.08485511 0.0776805  0.15531197 0.48518124 0.32922354\n",
      " 0.12256783 0.00419276 0.70167108 0.81905979]\n"
     ]
    }
   ],
   "source": [
    "# as array\n",
    "print(np.random.random(10))"
   ]
  },
  {
   "cell_type": "code",
   "execution_count": 8,
   "metadata": {},
   "outputs": [
    {
     "name": "stdout",
     "output_type": "stream",
     "text": [
      "[[[0.66237688 0.30744371 0.82377537 0.52497615 0.75839555]\n",
      "  [0.98395756 0.06603815 0.933216   0.78262404 0.67647749]\n",
      "  [0.80052682 0.37320875 0.77657412 0.46328965 0.47015138]\n",
      "  [0.57597436 0.87257466 0.50859737 0.10254686 0.91128671]]\n",
      "\n",
      " [[0.63028405 0.02217668 0.33582141 0.40138445 0.2536396 ]\n",
      "  [0.05249009 0.5523969  0.61584198 0.02924334 0.59803534]\n",
      "  [0.54293188 0.15891522 0.7626963  0.03620698 0.84054286]\n",
      "  [0.7675408  0.19278597 0.97599986 0.24516262 0.86922716]]\n",
      "\n",
      " [[0.97179154 0.54157765 0.90838837 0.73604841 0.3559766 ]\n",
      "  [0.60497297 0.82216136 0.71820455 0.5365716  0.28919361]\n",
      "  [0.43519605 0.58783988 0.64953648 0.88301668 0.40969486]\n",
      "  [0.47365103 0.83934929 0.30609199 0.03542741 0.6630026 ]]]\n"
     ]
    }
   ],
   "source": [
    "# as multidimensional array\n",
    "print(np.random.random((3,4,5)))"
   ]
  },
  {
   "cell_type": "code",
   "execution_count": 12,
   "metadata": {},
   "outputs": [
    {
     "name": "stdout",
     "output_type": "stream",
     "text": [
      "[[9.48320184 8.1312598  8.12483397]\n",
      " [6.37146627 8.95898071 9.50954482]\n",
      " [6.18813972 8.91180492 9.23942009]\n",
      " [5.64104354 8.00952012 5.15291021]\n",
      " [8.10702303 9.91929651 7.06533398]]\n"
     ]
    }
   ],
   "source": [
    "# An array with random floats between 5 and 10\n",
    "\n",
    "print(5+5*np.random.random((5,3)))"
   ]
  },
  {
   "cell_type": "code",
   "execution_count": 15,
   "metadata": {},
   "outputs": [
    {
     "name": "stdout",
     "output_type": "stream",
     "text": [
      "[0.02559759 0.22822578 0.04448121 0.09084176 0.09879452 0.15972954\n",
      " 0.0142107  0.12008929 0.2006864  0.01734322]\n",
      "1.0\n"
     ]
    }
   ],
   "source": [
    "# array of random numbers with sum 1\n",
    "\n",
    "numbers = np.random.random(10)\n",
    "\n",
    "numbers /= numbers.sum()\n",
    "\n",
    "print(numbers)\n",
    "\n",
    "print(numbers.sum())"
   ]
  },
  {
   "cell_type": "markdown",
   "metadata": {},
   "source": [
    "### Random integers"
   ]
  },
  {
   "cell_type": "code",
   "execution_count": 16,
   "metadata": {},
   "outputs": [
    {
     "data": {
      "text/plain": [
       "5"
      ]
     },
     "execution_count": 16,
     "metadata": {},
     "output_type": "execute_result"
    }
   ],
   "source": [
    "# single number : exclusive of the end\n",
    "np.random.randint(20)"
   ]
  },
  {
   "cell_type": "code",
   "execution_count": 25,
   "metadata": {},
   "outputs": [
    {
     "data": {
      "text/plain": [
       "2"
      ]
     },
     "execution_count": 25,
     "metadata": {},
     "output_type": "execute_result"
    }
   ],
   "source": [
    "# number in a range\n",
    "\n",
    "np.random.randint(1,7)"
   ]
  },
  {
   "cell_type": "code",
   "execution_count": 26,
   "metadata": {},
   "outputs": [
    {
     "data": {
      "text/plain": [
       "array([[[6, 1],\n",
       "        [3, 6],\n",
       "        [5, 5]],\n",
       "\n",
       "       [[6, 5],\n",
       "        [3, 7],\n",
       "        [2, 3]]])"
      ]
     },
     "execution_count": 26,
     "metadata": {},
     "output_type": "execute_result"
    }
   ],
   "source": [
    "# An array of specific size\n",
    "\n",
    "np.random.randint(1,10,size=(2,3,2))"
   ]
  },
  {
   "cell_type": "markdown",
   "metadata": {},
   "source": [
    "### Random choice"
   ]
  },
  {
   "cell_type": "code",
   "execution_count": 34,
   "metadata": {},
   "outputs": [
    {
     "data": {
      "text/plain": [
       "'Thursday'"
      ]
     },
     "execution_count": 34,
     "metadata": {},
     "output_type": "execute_result"
    }
   ],
   "source": [
    "days = ['Monday','Tuesday','Wednesday','Thursday','Friday','Saturday','Sunday']\n",
    "\n",
    "\n",
    "# single choice\n",
    "np.random.choice(days)"
   ]
  },
  {
   "cell_type": "code",
   "execution_count": 33,
   "metadata": {},
   "outputs": [
    {
     "data": {
      "text/plain": [
       "array([['Wednesday', 'Thursday', 'Wednesday'],\n",
       "       ['Saturday', 'Saturday', 'Saturday']], dtype='<U9')"
      ]
     },
     "execution_count": 33,
     "metadata": {},
     "output_type": "execute_result"
    }
   ],
   "source": [
    "# Choice array\n",
    "np.random.choice(days,size=(2,3))"
   ]
  },
  {
   "cell_type": "code",
   "execution_count": 38,
   "metadata": {},
   "outputs": [
    {
     "name": "stdout",
     "output_type": "stream",
     "text": [
      "['Tuesday' 'Wednesday' 'Thursday' 'Saturday' 'Monday' 'Sunday' 'Friday']\n"
     ]
    }
   ],
   "source": [
    "# Choice with no repeat\n",
    "\n",
    "print(np.random.choice(days,size=(7),replace=False))"
   ]
  },
  {
   "cell_type": "markdown",
   "metadata": {},
   "source": [
    "### Random Sample"
   ]
  },
  {
   "cell_type": "code",
   "execution_count": 42,
   "metadata": {},
   "outputs": [
    {
     "name": "stdout",
     "output_type": "stream",
     "text": [
      "True\n"
     ]
    }
   ],
   "source": [
    "# random_sample is an alias to random\n",
    "\n",
    "print(np.random.random is np.random.random_sample)"
   ]
  },
  {
   "cell_type": "markdown",
   "metadata": {},
   "source": [
    "### Weighted randoms"
   ]
  },
  {
   "cell_type": "code",
   "execution_count": 51,
   "metadata": {},
   "outputs": [
    {
     "data": {
      "text/plain": [
       "'Saturday'"
      ]
     },
     "execution_count": 51,
     "metadata": {},
     "output_type": "execute_result"
    }
   ],
   "source": [
    "# p is respective probability of the population\n",
    "\n",
    "np.random.choice(days,p=[0.04,0.04,0.04,0.04,0.04,0.4,0.4])"
   ]
  },
  {
   "cell_type": "code",
   "execution_count": 63,
   "metadata": {},
   "outputs": [
    {
     "name": "stdout",
     "output_type": "stream",
     "text": [
      "{'Monday': 0.04030000000000013, 'Tuesday': 0.03610000000000001, 'Wednesday': 0.037800000000000056, 'Thursday': 0.040200000000000125, 'Friday': 0.03860000000000008, 'Saturday': 0.4032999999999719, 'Sunday': 0.40369999999997186}\n"
     ]
    }
   ],
   "source": [
    "# tesing probability\n",
    "prob_map = { day:0 for day in days }\n",
    "for _ in range(10000):\n",
    "    day = np.random.choice(days,p=[0.04,0.04,0.04,0.04,0.04,0.4,0.4])\n",
    "    prob_map[day]+=(1/10000)\n",
    "    \n",
    "print(prob_map)"
   ]
  },
  {
   "cell_type": "code",
   "execution_count": 64,
   "metadata": {},
   "outputs": [
    {
     "name": "stdout",
     "output_type": "stream",
     "text": [
      "[['Saturday' 'Sunday' 'Saturday']\n",
      " ['Saturday' 'Saturday' 'Saturday']]\n"
     ]
    }
   ],
   "source": [
    "# Multiple values\n",
    "\n",
    "print(np.random.choice(days,p=[0.04,0.04,0.04,0.04,0.04,0.4,0.4],size=(2,3)))"
   ]
  },
  {
   "cell_type": "code",
   "execution_count": 71,
   "metadata": {},
   "outputs": [
    {
     "name": "stdout",
     "output_type": "stream",
     "text": [
      "[['Tuesday' 'Wednesday' 'Sunday']\n",
      " ['Saturday' 'Monday' 'Thursday']]\n"
     ]
    }
   ],
   "source": [
    "# Multiple value without repeat/replace\n",
    "\n",
    "print(np.random.choice(days,p=[0.04,0.04,0.04,0.04,0.04,0.4,0.4],size=(2,3),replace=False))"
   ]
  },
  {
   "cell_type": "markdown",
   "metadata": {},
   "source": [
    "### Cartesian choice"
   ]
  },
  {
   "cell_type": "code",
   "execution_count": 91,
   "metadata": {},
   "outputs": [
    {
     "name": "stdout",
     "output_type": "stream",
     "text": [
      "The girl in yellow shirt has 4 grey dogs\n"
     ]
    }
   ],
   "source": [
    "person = (['girl','boy','man','woman','lady'],[0.5,0.3,0.1,0.05,0.05])\n",
    "shirt_color = (['red','green','yellow','white','blue','orange'],[0.1,0.2,0.2,0.3,0.1,0.1])\n",
    "number = (np.arange(2,5),[0.5,0.25,0.25])\n",
    "animal_color = (['black','white','grey','orange'],[0.2,0.3,0.4,0.1])\n",
    "animal = (['cat','dog','cow','goat','horse'],[0.4,0.5,0.04,0.04,0.02])\n",
    "\n",
    "def cartesian_choice(*iterables):\n",
    "        \n",
    "    return [np.random.choice(item[0],p=item[1]) for item in iterables]\n",
    "\n",
    "choices = cartesian_choice(person,shirt_color,number,animal_color,animal)\n",
    "\n",
    "print(\"The %s in %s shirt has %d %s %ss\"% tuple(choices))\n",
    "    "
   ]
  },
  {
   "cell_type": "code",
   "execution_count": null,
   "metadata": {},
   "outputs": [],
   "source": []
  },
  {
   "cell_type": "code",
   "execution_count": null,
   "metadata": {},
   "outputs": [],
   "source": []
  }
 ],
 "metadata": {
  "kernelspec": {
   "display_name": "Python 3",
   "language": "python",
   "name": "python3"
  },
  "language_info": {
   "codemirror_mode": {
    "name": "ipython",
    "version": 3
   },
   "file_extension": ".py",
   "mimetype": "text/x-python",
   "name": "python",
   "nbconvert_exporter": "python",
   "pygments_lexer": "ipython3",
   "version": "3.6.4"
  }
 },
 "nbformat": 4,
 "nbformat_minor": 2
}
