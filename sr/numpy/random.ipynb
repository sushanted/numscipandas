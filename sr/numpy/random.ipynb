{
 "cells": [
  {
   "cell_type": "code",
   "execution_count": 4,
   "metadata": {},
   "outputs": [],
   "source": [
    "import numpy as np"
   ]
  },
  {
   "cell_type": "markdown",
   "metadata": {},
   "source": [
    "### Random float between 0 to 1"
   ]
  },
  {
   "cell_type": "code",
   "execution_count": 6,
   "metadata": {},
   "outputs": [
    {
     "data": {
      "text/plain": [
       "0.5638084189017718"
      ]
     },
     "execution_count": 6,
     "metadata": {},
     "output_type": "execute_result"
    }
   ],
   "source": [
    "# single value\n",
    "np.random.random()"
   ]
  },
  {
   "cell_type": "code",
   "execution_count": 15,
   "metadata": {},
   "outputs": [
    {
     "name": "stdout",
     "output_type": "stream",
     "text": [
      "[-0.268543   -0.66267821  0.49675826 -0.41425815 -0.42774245 -1.9335648\n",
      " -2.32149652 -0.47771276 -0.06103394 -1.9361826   0.76164688 -1.49751763\n",
      "  0.03556214 -1.5933038   0.39007701  1.47656219  0.07613076 -0.72604849\n",
      " -0.35180222 -0.86696747  0.89037022 -0.49355783 -0.23520914  0.09063762\n",
      "  0.23626988 -0.95523494  0.96235974 -1.68508516  0.16943335  1.05720206]\n"
     ]
    }
   ],
   "source": [
    "# as array\n",
    "print(np.random.random(10))"
   ]
  },
  {
   "cell_type": "code",
   "execution_count": 10,
   "metadata": {},
   "outputs": [
    {
     "name": "stdout",
     "output_type": "stream",
     "text": [
      "[[[0.07006442 0.23070622 0.38741443 0.23550553 0.80217595]\n",
      "  [0.56977969 0.60258589 0.8373512  0.04971338 0.96688684]\n",
      "  [0.39568845 0.40924032 0.5602141  0.48896213 0.20863573]\n",
      "  [0.12700544 0.02331006 0.78923924 0.76917428 0.54076428]]\n",
      "\n",
      " [[0.03967166 0.28794473 0.80776434 0.59253191 0.73629691]\n",
      "  [0.24744529 0.76120063 0.17648242 0.70497473 0.39654903]\n",
      "  [0.62894097 0.32621511 0.20485733 0.19145658 0.66494359]\n",
      "  [0.54375927 0.40118359 0.80284755 0.48905492 0.19916691]]\n",
      "\n",
      " [[0.74082419 0.54797219 0.45167609 0.07431955 0.32821674]\n",
      "  [0.76430824 0.62051288 0.44386829 0.3022082  0.48285068]\n",
      "  [0.74593872 0.70166745 0.5948375  0.01094624 0.0468124 ]\n",
      "  [0.67681506 0.09065698 0.02232496 0.34883398 0.88803832]]]\n"
     ]
    }
   ],
   "source": [
    "# as multidimensional array\n",
    "print(np.random.random((3,4,5)))"
   ]
  },
  {
   "cell_type": "code",
   "execution_count": 11,
   "metadata": {},
   "outputs": [
    {
     "name": "stdout",
     "output_type": "stream",
     "text": [
      "[[9.29754741 8.355361   5.37308713]\n",
      " [8.83495435 6.30260187 8.12763388]\n",
      " [7.77674906 5.82404328 6.37989514]\n",
      " [6.96155634 9.16234465 8.06053199]\n",
      " [8.29748826 5.59647034 5.27756243]]\n"
     ]
    }
   ],
   "source": [
    "# An array with random floats between 5 and 10\n",
    "\n",
    "print(5+5*np.random.random((5,3)))"
   ]
  },
  {
   "cell_type": "code",
   "execution_count": 15,
   "metadata": {},
   "outputs": [
    {
     "name": "stdout",
     "output_type": "stream",
     "text": [
      "[0.02559759 0.22822578 0.04448121 0.09084176 0.09879452 0.15972954\n",
      " 0.0142107  0.12008929 0.2006864  0.01734322]\n",
      "1.0\n"
     ]
    }
   ],
   "source": [
    "# array of random numbers with sum 1\n",
    "\n",
    "numbers = np.random.random(10)\n",
    "\n",
    "numbers /= numbers.sum()\n",
    "\n",
    "print(numbers)\n",
    "\n",
    "print(numbers.sum())"
   ]
  },
  {
   "cell_type": "markdown",
   "metadata": {},
   "source": [
    "### Random integers"
   ]
  },
  {
   "cell_type": "code",
   "execution_count": 16,
   "metadata": {},
   "outputs": [
    {
     "data": {
      "text/plain": [
       "5"
      ]
     },
     "execution_count": 16,
     "metadata": {},
     "output_type": "execute_result"
    }
   ],
   "source": [
    "# single number : exclusive of the end\n",
    "np.random.randint(20)"
   ]
  },
  {
   "cell_type": "code",
   "execution_count": 25,
   "metadata": {},
   "outputs": [
    {
     "data": {
      "text/plain": [
       "2"
      ]
     },
     "execution_count": 25,
     "metadata": {},
     "output_type": "execute_result"
    }
   ],
   "source": [
    "# number in a range\n",
    "\n",
    "np.random.randint(1,7)"
   ]
  },
  {
   "cell_type": "code",
   "execution_count": 26,
   "metadata": {},
   "outputs": [
    {
     "data": {
      "text/plain": [
       "array([[[6, 1],\n",
       "        [3, 6],\n",
       "        [5, 5]],\n",
       "\n",
       "       [[6, 5],\n",
       "        [3, 7],\n",
       "        [2, 3]]])"
      ]
     },
     "execution_count": 26,
     "metadata": {},
     "output_type": "execute_result"
    }
   ],
   "source": [
    "# An array of specific size\n",
    "\n",
    "np.random.randint(1,10,size=(2,3,2))"
   ]
  },
  {
   "cell_type": "code",
   "execution_count": 16,
   "metadata": {},
   "outputs": [
    {
     "data": {
      "text/plain": [
       "array([ 0.69460668, -0.13464202, -0.8233955 , -0.40702111,  0.34554403,\n",
       "        0.0061588 , -0.34825507, -2.27256165,  0.33593302, -0.36076423,\n",
       "       -0.20852098,  0.51608668,  0.4597924 ,  1.13983313,  1.26197621,\n",
       "       -0.86952285, -0.05019714,  0.06843893,  0.450219  ,  0.81675458])"
      ]
     },
     "execution_count": 16,
     "metadata": {},
     "output_type": "execute_result"
    }
   ],
   "source": [
    "# Normal distribution (Bell curve, more probability for values around mean, lesser to extreme ends )\n",
    "\n",
    "np.random.randn(20)"
   ]
  },
  {
   "cell_type": "markdown",
   "metadata": {},
   "source": [
    "### Random choice"
   ]
  },
  {
   "cell_type": "code",
   "execution_count": 34,
   "metadata": {},
   "outputs": [
    {
     "data": {
      "text/plain": [
       "'Thursday'"
      ]
     },
     "execution_count": 34,
     "metadata": {},
     "output_type": "execute_result"
    }
   ],
   "source": [
    "days = ['Monday','Tuesday','Wednesday','Thursday','Friday','Saturday','Sunday']\n",
    "\n",
    "\n",
    "# single choice\n",
    "np.random.choice(days)"
   ]
  },
  {
   "cell_type": "code",
   "execution_count": 33,
   "metadata": {},
   "outputs": [
    {
     "data": {
      "text/plain": [
       "array([['Wednesday', 'Thursday', 'Wednesday'],\n",
       "       ['Saturday', 'Saturday', 'Saturday']], dtype='<U9')"
      ]
     },
     "execution_count": 33,
     "metadata": {},
     "output_type": "execute_result"
    }
   ],
   "source": [
    "# Choice array\n",
    "np.random.choice(days,size=(2,3))"
   ]
  },
  {
   "cell_type": "code",
   "execution_count": 38,
   "metadata": {},
   "outputs": [
    {
     "name": "stdout",
     "output_type": "stream",
     "text": [
      "['Tuesday' 'Wednesday' 'Thursday' 'Saturday' 'Monday' 'Sunday' 'Friday']\n"
     ]
    }
   ],
   "source": [
    "# Choice with no repeat\n",
    "\n",
    "print(np.random.choice(days,size=(7),replace=False))"
   ]
  },
  {
   "cell_type": "markdown",
   "metadata": {},
   "source": [
    "### Random Sample"
   ]
  },
  {
   "cell_type": "code",
   "execution_count": 42,
   "metadata": {},
   "outputs": [
    {
     "name": "stdout",
     "output_type": "stream",
     "text": [
      "True\n"
     ]
    }
   ],
   "source": [
    "# random_sample is an alias to random\n",
    "\n",
    "print(np.random.random is np.random.random_sample)"
   ]
  },
  {
   "cell_type": "markdown",
   "metadata": {},
   "source": [
    "### Weighted randoms"
   ]
  },
  {
   "cell_type": "code",
   "execution_count": 51,
   "metadata": {},
   "outputs": [
    {
     "data": {
      "text/plain": [
       "'Saturday'"
      ]
     },
     "execution_count": 51,
     "metadata": {},
     "output_type": "execute_result"
    }
   ],
   "source": [
    "# p is respective probability of the population\n",
    "\n",
    "np.random.choice(days,p=[0.04,0.04,0.04,0.04,0.04,0.4,0.4])"
   ]
  },
  {
   "cell_type": "code",
   "execution_count": 63,
   "metadata": {},
   "outputs": [
    {
     "name": "stdout",
     "output_type": "stream",
     "text": [
      "{'Monday': 0.04030000000000013, 'Tuesday': 0.03610000000000001, 'Wednesday': 0.037800000000000056, 'Thursday': 0.040200000000000125, 'Friday': 0.03860000000000008, 'Saturday': 0.4032999999999719, 'Sunday': 0.40369999999997186}\n"
     ]
    }
   ],
   "source": [
    "# tesing probability\n",
    "prob_map = { day:0 for day in days }\n",
    "for _ in range(10000):\n",
    "    day = np.random.choice(days,p=[0.04,0.04,0.04,0.04,0.04,0.4,0.4])\n",
    "    prob_map[day]+=(1/10000)\n",
    "    \n",
    "print(prob_map)"
   ]
  },
  {
   "cell_type": "code",
   "execution_count": 64,
   "metadata": {},
   "outputs": [
    {
     "name": "stdout",
     "output_type": "stream",
     "text": [
      "[['Saturday' 'Sunday' 'Saturday']\n",
      " ['Saturday' 'Saturday' 'Saturday']]\n"
     ]
    }
   ],
   "source": [
    "# Multiple values\n",
    "\n",
    "print(np.random.choice(days,p=[0.04,0.04,0.04,0.04,0.04,0.4,0.4],size=(2,3)))"
   ]
  },
  {
   "cell_type": "code",
   "execution_count": 71,
   "metadata": {},
   "outputs": [
    {
     "name": "stdout",
     "output_type": "stream",
     "text": [
      "[['Tuesday' 'Wednesday' 'Sunday']\n",
      " ['Saturday' 'Monday' 'Thursday']]\n"
     ]
    }
   ],
   "source": [
    "# Multiple value without repeat/replace\n",
    "\n",
    "print(np.random.choice(days,p=[0.04,0.04,0.04,0.04,0.04,0.4,0.4],size=(2,3),replace=False))"
   ]
  },
  {
   "cell_type": "markdown",
   "metadata": {},
   "source": [
    "### Cartesian choice"
   ]
  },
  {
   "cell_type": "code",
   "execution_count": 91,
   "metadata": {},
   "outputs": [
    {
     "name": "stdout",
     "output_type": "stream",
     "text": [
      "The girl in yellow shirt has 4 grey dogs\n"
     ]
    }
   ],
   "source": [
    "person = (['girl','boy','man','woman','lady'],[0.5,0.3,0.1,0.05,0.05])\n",
    "shirt_color = (['red','green','yellow','white','blue','orange'],[0.1,0.2,0.2,0.3,0.1,0.1])\n",
    "number = (np.arange(2,5),[0.5,0.25,0.25])\n",
    "animal_color = (['black','white','grey','orange'],[0.2,0.3,0.4,0.1])\n",
    "animal = (['cat','dog','cow','goat','horse'],[0.4,0.5,0.04,0.04,0.02])\n",
    "\n",
    "def cartesian_choice(*iterables):\n",
    "        \n",
    "    return [np.random.choice(item[0],p=item[1]) for item in iterables]\n",
    "\n",
    "choices = cartesian_choice(person,shirt_color,number,animal_color,animal)\n",
    "\n",
    "print(\"The %s in %s shirt has %d %s %ss\"% tuple(choices))\n",
    "    "
   ]
  },
  {
   "cell_type": "code",
   "execution_count": 3,
   "metadata": {},
   "outputs": [
    {
     "data": {
      "text/plain": [
       "array([[ 0.86605639,  0.1911869 ,  0.37318966,  1.61821503,  0.85651128,\n",
       "        -0.37948731],\n",
       "       [ 0.50718148,  1.30387803,  0.54408291, -1.46095749,  0.74356016,\n",
       "         0.96771299]])"
      ]
     },
     "execution_count": 3,
     "metadata": {},
     "output_type": "execute_result"
    }
   ],
   "source": [
    "np.random.randn(2,6)"
   ]
  },
  {
   "cell_type": "code",
   "execution_count": null,
   "metadata": {},
   "outputs": [],
   "source": []
  }
 ],
 "metadata": {
  "kernelspec": {
   "display_name": "Python 3",
   "language": "python",
   "name": "python3"
  },
  "language_info": {
   "codemirror_mode": {
    "name": "ipython",
    "version": 3
   },
   "file_extension": ".py",
   "mimetype": "text/x-python",
   "name": "python",
   "nbconvert_exporter": "python",
   "pygments_lexer": "ipython3",
   "version": "3.6.4"
  }
 },
 "nbformat": 4,
 "nbformat_minor": 2
}
