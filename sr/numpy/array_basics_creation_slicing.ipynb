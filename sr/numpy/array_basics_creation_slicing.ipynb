{
 "cells": [
  {
   "cell_type": "markdown",
   "metadata": {},
   "source": [
    "### Creating from list/tuples"
   ]
  },
  {
   "cell_type": "code",
   "execution_count": 1,
   "metadata": {},
   "outputs": [],
   "source": [
    "import numpy as np"
   ]
  },
  {
   "cell_type": "code",
   "execution_count": 2,
   "metadata": {},
   "outputs": [
    {
     "name": "stdout",
     "output_type": "stream",
     "text": [
      "[23 45 23 45 23]\n"
     ]
    }
   ],
   "source": [
    "# From lists, tuples\n",
    "print(np.array([23,45,23,45,23]))"
   ]
  },
  {
   "cell_type": "code",
   "execution_count": 3,
   "metadata": {},
   "outputs": [
    {
     "name": "stdout",
     "output_type": "stream",
     "text": [
      "[2.3 4.5 6.7 8.9]\n"
     ]
    }
   ],
   "source": [
    "print(np.array((2.3,4.5,6.7,8.9)))"
   ]
  },
  {
   "cell_type": "code",
   "execution_count": 4,
   "metadata": {},
   "outputs": [],
   "source": [
    "# size depends on data-type, small numbers would consume lesser space as compared to plain python lists\n",
    "from sys import getsizeof as size\n",
    "the_list = [23,12,34,45,56,67,34,12,34,55]\n",
    "empty_array_size = size(np.array([]))"
   ]
  },
  {
   "cell_type": "code",
   "execution_count": 5,
   "metadata": {},
   "outputs": [
    {
     "name": "stdout",
     "output_type": "stream",
     "text": [
      "size for type int8 = 10\n",
      "size for type int16 = 20\n",
      "size for type int32 = 40\n",
      "size for type int64 = 80\n",
      "size for type float = 80\n"
     ]
    }
   ],
   "source": [
    "for data_type in (np.int8,np.int16,np.int32,np.int64,np.float):\n",
    "    print(f\"size for type {data_type.__name__} = {size(np.array(the_list,data_type))-empty_array_size}\")"
   ]
  },
  {
   "cell_type": "markdown",
   "metadata": {},
   "source": [
    "### Creating from ranges"
   ]
  },
  {
   "cell_type": "code",
   "execution_count": 6,
   "metadata": {},
   "outputs": [
    {
     "name": "stdout",
     "output_type": "stream",
     "text": [
      "[0 1 2 3 4 5 6 7 8 9]\n"
     ]
    }
   ],
   "source": [
    "print(np.arange(10))"
   ]
  },
  {
   "cell_type": "code",
   "execution_count": 7,
   "metadata": {},
   "outputs": [
    {
     "name": "stdout",
     "output_type": "stream",
     "text": [
      "[-5 -4 -3 -2 -1  0  1  2  3  4]\n"
     ]
    }
   ],
   "source": [
    "print(np.arange(-5,5))"
   ]
  },
  {
   "cell_type": "code",
   "execution_count": 8,
   "metadata": {},
   "outputs": [
    {
     "name": "stdout",
     "output_type": "stream",
     "text": [
      "[0 2 4 6 8]\n"
     ]
    }
   ],
   "source": [
    "print(np.arange(0,10,2))"
   ]
  },
  {
   "cell_type": "code",
   "execution_count": 9,
   "metadata": {},
   "outputs": [
    {
     "name": "stdout",
     "output_type": "stream",
     "text": [
      "[0.2 0.7 1.2 1.7]\n"
     ]
    }
   ],
   "source": [
    "print(np.arange(0.2,2,0.5))"
   ]
  },
  {
   "cell_type": "code",
   "execution_count": 10,
   "metadata": {},
   "outputs": [
    {
     "name": "stdout",
     "output_type": "stream",
     "text": [
      "[0.5 1.2 1.9 2.6 3.3 4.  4.7 5.4 6.1]\n"
     ]
    }
   ],
   "source": [
    "print(np.arange(0.5, 6.3, 0.7))"
   ]
  },
  {
   "cell_type": "code",
   "execution_count": 11,
   "metadata": {},
   "outputs": [
    {
     "name": "stdout",
     "output_type": "stream",
     "text": [
      "[0 1 2 3 4 5 6 7 8]\n"
     ]
    }
   ],
   "source": [
    "print(np.arange(0.5, 6.3, 0.7,int))"
   ]
  },
  {
   "cell_type": "markdown",
   "metadata": {},
   "source": [
    "### Uniformly spaced samples in a range : linspace"
   ]
  },
  {
   "cell_type": "code",
   "execution_count": 12,
   "metadata": {},
   "outputs": [
    {
     "name": "stdout",
     "output_type": "stream",
     "text": [
      "[ 1.  2.  3.  4.  5.  6.  7.  8.  9. 10. 11. 12. 13. 14. 15. 16. 17. 18.\n",
      " 19. 20. 21. 22. 23. 24. 25. 26. 27. 28. 29. 30. 31. 32. 33. 34. 35. 36.\n",
      " 37. 38. 39. 40. 41. 42. 43. 44. 45. 46. 47. 48. 49. 50.]\n"
     ]
    }
   ],
   "source": [
    "print(np.linspace(1,50)) # by default number of samples is 50"
   ]
  },
  {
   "cell_type": "code",
   "execution_count": 13,
   "metadata": {},
   "outputs": [
    {
     "name": "stdout",
     "output_type": "stream",
     "text": [
      "1 [0.]\n",
      "2 [ 0. 24.]\n",
      "3 [ 0. 12. 24.]\n",
      "4 [ 0.  8. 16. 24.]\n",
      "5 [ 0.  6. 12. 18. 24.]\n",
      "6 [ 0.   4.8  9.6 14.4 19.2 24. ]\n",
      "7 [ 0.  4.  8. 12. 16. 20. 24.]\n",
      "8 [ 0.          3.42857143  6.85714286 10.28571429 13.71428571 17.14285714\n",
      " 20.57142857 24.        ]\n",
      "9 [ 0.  3.  6.  9. 12. 15. 18. 21. 24.]\n",
      "10 [ 0.          2.66666667  5.33333333  8.         10.66666667 13.33333333\n",
      " 16.         18.66666667 21.33333333 24.        ]\n",
      "11 [ 0.   2.4  4.8  7.2  9.6 12.  14.4 16.8 19.2 21.6 24. ]\n"
     ]
    }
   ],
   "source": [
    "for i in range(1,12):\n",
    "    print(i,np.linspace(0,24,i))"
   ]
  },
  {
   "cell_type": "code",
   "execution_count": 14,
   "metadata": {},
   "outputs": [
    {
     "name": "stdout",
     "output_type": "stream",
     "text": [
      "step = 1\tdistance=nan\tvalues=[0.]\n",
      "step = 2\tdistance=24.0\tvalues=[ 0. 24.]\n",
      "step = 3\tdistance=12.0\tvalues=[ 0. 12. 24.]\n",
      "step = 4\tdistance=8.0\tvalues=[ 0.  8. 16. 24.]\n",
      "step = 5\tdistance=6.0\tvalues=[ 0.  6. 12. 18. 24.]\n",
      "step = 6\tdistance=4.8\tvalues=[ 0.   4.8  9.6 14.4 19.2 24. ]\n",
      "step = 7\tdistance=4.0\tvalues=[ 0.  4.  8. 12. 16. 20. 24.]\n",
      "step = 8\tdistance=3.4285714285714284\tvalues=[ 0.          3.42857143  6.85714286 10.28571429 13.71428571 17.14285714\n",
      " 20.57142857 24.        ]\n",
      "step = 9\tdistance=3.0\tvalues=[ 0.  3.  6.  9. 12. 15. 18. 21. 24.]\n",
      "step = 10\tdistance=2.6666666666666665\tvalues=[ 0.          2.66666667  5.33333333  8.         10.66666667 13.33333333\n",
      " 16.         18.66666667 21.33333333 24.        ]\n",
      "step = 11\tdistance=2.4\tvalues=[ 0.   2.4  4.8  7.2  9.6 12.  14.4 16.8 19.2 21.6 24. ]\n"
     ]
    }
   ],
   "source": [
    "# return the distance between two consecutive samples\n",
    "# i is number of equi-distant samples required\n",
    "# formula to get distance(d) between two consecutive samples between H and L  : (H-L)/i-1\n",
    "# i-1 : because for i points there would be i-1 intervals\n",
    "# Then the points would be : L, L+d, L+2d, L+3d, ..., H\n",
    "for i in range(1,12):\n",
    "    values = np.linspace(0,24,i,retstep=True)\n",
    "    print(f\"step = {i}\\tdistance={values[1]}\\tvalues={values[0]}\")\n"
   ]
  },
  {
   "cell_type": "code",
   "execution_count": 15,
   "metadata": {},
   "outputs": [
    {
     "name": "stdout",
     "output_type": "stream",
     "text": [
      "step = 1\tdistance=nan\tvalues=[0.]\n",
      "step = 2\tdistance=12.0\tvalues=[ 0. 12.]\n",
      "step = 3\tdistance=8.0\tvalues=[ 0.  8. 16.]\n",
      "step = 4\tdistance=6.0\tvalues=[ 0.  6. 12. 18.]\n",
      "step = 5\tdistance=4.8\tvalues=[ 0.   4.8  9.6 14.4 19.2]\n",
      "step = 6\tdistance=4.0\tvalues=[ 0.  4.  8. 12. 16. 20.]\n",
      "step = 7\tdistance=3.4285714285714284\tvalues=[ 0.          3.42857143  6.85714286 10.28571429 13.71428571 17.14285714\n",
      " 20.57142857]\n",
      "step = 8\tdistance=3.0\tvalues=[ 0.  3.  6.  9. 12. 15. 18. 21.]\n",
      "step = 9\tdistance=2.6666666666666665\tvalues=[ 0.          2.66666667  5.33333333  8.         10.66666667 13.33333333\n",
      " 16.         18.66666667 21.33333333]\n",
      "step = 10\tdistance=2.4\tvalues=[ 0.   2.4  4.8  7.2  9.6 12.  14.4 16.8 19.2 21.6]\n",
      "step = 11\tdistance=2.1818181818181817\tvalues=[ 0.          2.18181818  4.36363636  6.54545455  8.72727273 10.90909091\n",
      " 13.09090909 15.27272727 17.45454545 19.63636364 21.81818182]\n"
     ]
    }
   ],
   "source": [
    "# endpoint = False : Don't include the end point in array, but refer it while counting the distance\n",
    "# i is number of equi-distant samples required\n",
    "# formula to get distance(d) between two consecutive samples between H and L  : (H-L)/i\n",
    "# i : because for i points there would be i-1 intervals, but now we need to exclude the endpoint so i-1+1 = i\n",
    "# Then the points would be : L, L+d, L+2d, L+3d, ...\n",
    "for i in range(1,12):\n",
    "    values = np.linspace(0,24,i,retstep=True,endpoint=False)\n",
    "    print(f\"step = {i}\\tdistance={values[1]}\\tvalues={values[0]}\")"
   ]
  },
  {
   "cell_type": "markdown",
   "metadata": {},
   "source": [
    "### Array Dimensions : \n",
    "<b>Idea : better think in terms of a tree, an array with shape (3,4,5) : 3 nodes at level 2, 3 \\* 4 nodes at level 3, 3 \\* 4 \\* 5 nodes at level 4\n",
    "TODO : insert a tree figure here"
   ]
  },
  {
   "cell_type": "code",
   "execution_count": 16,
   "metadata": {},
   "outputs": [
    {
     "name": "stdout",
     "output_type": "stream",
     "text": [
      "Array: 3\n",
      "Dimensions: 0\n",
      "Data Type: int64\n",
      "Shape:  ()\n"
     ]
    }
   ],
   "source": [
    "# 0 dimensions : a scaler value : no axis : A tree with a single root node\n",
    "zd_array = np.array(3)\n",
    "print(\"Array:\",zd_array)\n",
    "print(\"Dimensions:\", np.ndim(zd_array))\n",
    "print(\"Data Type:\", zd_array.dtype)\n",
    "print(\"Shape: \",zd_array.shape)"
   ]
  },
  {
   "cell_type": "code",
   "execution_count": 17,
   "metadata": {},
   "outputs": [
    {
     "name": "stdout",
     "output_type": "stream",
     "text": [
      "Array: [2 3 5 6]\n",
      "Dimensions: 1\n",
      "Data Type: int64\n",
      "Shape:  (4,)\n"
     ]
    }
   ],
   "source": [
    "# 1 dimension : only x-axis : A 2 level tree\n",
    "one_d_array = np.array([2,3,5,6])\n",
    "print(\"Array:\",one_d_array)\n",
    "print(\"Dimensions:\", np.ndim(one_d_array))\n",
    "print(\"Data Type:\", one_d_array.dtype)\n",
    "print(\"Shape: \",one_d_array.shape)"
   ]
  },
  {
   "cell_type": "code",
   "execution_count": 18,
   "metadata": {},
   "outputs": [
    {
     "name": "stdout",
     "output_type": "stream",
     "text": [
      "Array: [[ 2  3  5  6  8]\n",
      " [ 1  2  0  4  9]\n",
      " [ 7  4  1  6 -1]]\n",
      "Dimensions: 2\n",
      "Data Type: int64\n",
      "Shape:  (3, 5)\n"
     ]
    }
   ],
   "source": [
    "# 2 dimensions : x and y axis : A 3 level tree\n",
    "two_d_array = np.array([\n",
    "    [2,3,5,6,8],\n",
    "    [1,2,0,4,9],\n",
    "    [7,4,1,6,-1]\n",
    "])\n",
    "print(\"Array:\",two_d_array)\n",
    "print(\"Dimensions:\", np.ndim(two_d_array))\n",
    "print(\"Data Type:\", two_d_array.dtype)\n",
    "print(\"Shape: \",two_d_array.shape)"
   ]
  },
  {
   "cell_type": "code",
   "execution_count": 19,
   "metadata": {},
   "outputs": [
    {
     "name": "stdout",
     "output_type": "stream",
     "text": [
      "Array: [[[ 2  3  5  6  8]\n",
      "  [ 1  2  0  4  9]\n",
      "  [ 7  4  1  6 -1]]\n",
      "\n",
      " [[ 6  1  5  6  8]\n",
      "  [ 1  2  3  4  9]\n",
      "  [ 7  4  1  6 -3]]]\n",
      "Dimensions: 3\n",
      "Data Type: int64\n",
      "Shape:  (2, 3, 5)\n"
     ]
    }
   ],
   "source": [
    "# 3 dimensions : x,y and z axis : A 4 level tree\n",
    "three_d_array = np.array([\n",
    "    # z[0]\n",
    "    [\n",
    "        # y[0]\n",
    "        [2,3,5,6,8],# x[0]=2, x[1]=3, ... x[4]=8\n",
    "        # y[1]\n",
    "        [1,2,0,4,9],\n",
    "        # y[2]\n",
    "        [7,4,1,6,-1]\n",
    "    ],\n",
    "    # z[1]\n",
    "    [\n",
    "        [6,1,5,6,8],\n",
    "        [1,2,3,4,9],\n",
    "        [7,4,1,6,-3]\n",
    "    ],\n",
    "])\n",
    "print(\"Array:\",three_d_array)\n",
    "print(\"Dimensions:\", np.ndim(three_d_array))\n",
    "print(\"Data Type:\", three_d_array.dtype)\n",
    "print(\"Shape: \",three_d_array.shape)"
   ]
  },
  {
   "cell_type": "markdown",
   "metadata": {},
   "source": [
    "### Re-shaping an array : changing dimensions"
   ]
  },
  {
   "cell_type": "code",
   "execution_count": 20,
   "metadata": {},
   "outputs": [
    {
     "name": "stdout",
     "output_type": "stream",
     "text": [
      "Original array:  [2 3 5 6]\n",
      "array re-shaped to (3,4):  [[ 1  2  3  4]\n",
      " [ 5  6  7  8]\n",
      " [ 9 10 11 12]]\n",
      "array re-shaped to (4,3):  [[ 1  2  3]\n",
      " [ 4  5  6]\n",
      " [ 7  8  9]\n",
      " [10 11 12]]\n",
      "array re-shaped to (2,3,2):  [[[ 1  2]\n",
      "  [ 3  4]\n",
      "  [ 5  6]]\n",
      "\n",
      " [[ 7  8]\n",
      "  [ 9 10]\n",
      "  [11 12]]]\n",
      "array re-shaped to (2,3,2,1):  [[[[ 1]\n",
      "   [ 2]]\n",
      "\n",
      "  [[ 3]\n",
      "   [ 4]]\n",
      "\n",
      "  [[ 5]\n",
      "   [ 6]]]\n",
      "\n",
      "\n",
      " [[[ 7]\n",
      "   [ 8]]\n",
      "\n",
      "  [[ 9]\n",
      "   [10]]\n",
      "\n",
      "  [[11]\n",
      "   [12]]]]\n"
     ]
    }
   ],
   "source": [
    "the_array = np.array([1,2,3,4,5,6,7,8,9,10,11,12])\n",
    "print(\"Original array: \",one_d_array)\n",
    "the_array.shape = (3,4)\n",
    "print(\"array re-shaped to (3,4): \",the_array)\n",
    "the_array.shape = (4,3)\n",
    "print(\"array re-shaped to (4,3): \",the_array)\n",
    "the_array.shape = (2,3,2)\n",
    "print(\"array re-shaped to (2,3,2): \",the_array)\n",
    "the_array.shape = (2,3,2,1)\n",
    "print(\"array re-shaped to (2,3,2,1): \",the_array)"
   ]
  },
  {
   "cell_type": "markdown",
   "metadata": {},
   "source": [
    "### Indexing and slicing"
   ]
  },
  {
   "cell_type": "markdown",
   "metadata": {},
   "source": [
    "#### Slicing one dimensional array is very similar to the list"
   ]
  },
  {
   "cell_type": "code",
   "execution_count": 21,
   "metadata": {},
   "outputs": [],
   "source": [
    "\n",
    "one_d_array = np.array([0,1,2,3,4,5,6])"
   ]
  },
  {
   "cell_type": "code",
   "execution_count": 22,
   "metadata": {},
   "outputs": [
    {
     "name": "stdout",
     "output_type": "stream",
     "text": [
      "6\n"
     ]
    }
   ],
   "source": [
    "print(one_d_array[-1]) # single element"
   ]
  },
  {
   "cell_type": "code",
   "execution_count": 23,
   "metadata": {},
   "outputs": [
    {
     "name": "stdout",
     "output_type": "stream",
     "text": [
      "[0 4 5]\n"
     ]
    }
   ],
   "source": [
    "print(one_d_array[[0,4,5]]) # multiple elements (Note this doesn't work for simple list)"
   ]
  },
  {
   "cell_type": "code",
   "execution_count": 24,
   "metadata": {},
   "outputs": [
    {
     "name": "stdout",
     "output_type": "stream",
     "text": [
      "[0 2 4 6]\n"
     ]
    }
   ],
   "source": [
    "print(one_d_array[0:7:2]) # range with step 2"
   ]
  },
  {
   "cell_type": "code",
   "execution_count": 25,
   "metadata": {},
   "outputs": [
    {
     "name": "stdout",
     "output_type": "stream",
     "text": [
      "[6 5 4 3 2 1]\n"
     ]
    }
   ],
   "source": [
    "print(one_d_array[6:0:-1]) # reverse"
   ]
  },
  {
   "cell_type": "markdown",
   "metadata": {},
   "source": [
    "#### Slicing multi-dimensional array"
   ]
  },
  {
   "cell_type": "code",
   "execution_count": 26,
   "metadata": {},
   "outputs": [],
   "source": [
    "two_d_array = np.array([\n",
    "    [0,1,2,3],\n",
    "    [4,5,6,7],\n",
    "    [8,9,10,11]\n",
    "])"
   ]
  },
  {
   "cell_type": "code",
   "execution_count": 27,
   "metadata": {},
   "outputs": [
    {
     "data": {
      "text/plain": [
       "array([0, 1, 2, 3])"
      ]
     },
     "execution_count": 27,
     "metadata": {},
     "output_type": "execute_result"
    }
   ],
   "source": [
    "two_d_array[0]"
   ]
  },
  {
   "cell_type": "code",
   "execution_count": 28,
   "metadata": {},
   "outputs": [
    {
     "data": {
      "text/plain": [
       "2"
      ]
     },
     "execution_count": 28,
     "metadata": {},
     "output_type": "execute_result"
    }
   ],
   "source": [
    "two_d_array[0][2] # This creates an intermediate 1 d array and then index into it"
   ]
  },
  {
   "cell_type": "code",
   "execution_count": 29,
   "metadata": {},
   "outputs": [
    {
     "data": {
      "text/plain": [
       "2"
      ]
     },
     "execution_count": 29,
     "metadata": {},
     "output_type": "execute_result"
    }
   ],
   "source": [
    "# NOTE : the comma notation : selection of elements in that dimentions\n",
    "# More performant way to access a single element in multi-dimensional array:\n",
    "two_d_array[0,2] # 0th array : second element"
   ]
  },
  {
   "cell_type": "code",
   "execution_count": 30,
   "metadata": {},
   "outputs": [
    {
     "data": {
      "text/plain": [
       "array([4, 6, 7])"
      ]
     },
     "execution_count": 30,
     "metadata": {},
     "output_type": "execute_result"
    }
   ],
   "source": [
    "two_d_array[1,[0,2,3]] # First array, elements at 0,2,3 positions"
   ]
  },
  {
   "cell_type": "code",
   "execution_count": 31,
   "metadata": {},
   "outputs": [
    {
     "data": {
      "text/plain": [
       "array([[ 0,  1,  2,  3],\n",
       "       [ 8,  9, 10, 11]])"
      ]
     },
     "execution_count": 31,
     "metadata": {},
     "output_type": "execute_result"
    }
   ],
   "source": [
    "two_d_array[[0,2]] # Array 0 and 2 : this is consistent with one_d_array"
   ]
  },
  {
   "cell_type": "code",
   "execution_count": 32,
   "metadata": {},
   "outputs": [
    {
     "data": {
      "text/plain": [
       "array([1, 9])"
      ]
     },
     "execution_count": 32,
     "metadata": {},
     "output_type": "execute_result"
    }
   ],
   "source": [
    "two_d_array[[0,2],1] # [two_d_array[0,1],two_d_array[2,1]]"
   ]
  },
  {
   "cell_type": "code",
   "execution_count": 33,
   "metadata": {},
   "outputs": [
    {
     "data": {
      "text/plain": [
       "array([1, 9])"
      ]
     },
     "execution_count": 33,
     "metadata": {},
     "output_type": "execute_result"
    }
   ],
   "source": [
    "two_d_array[[0,2],[1]] # [two_d_array[0,1],two_d_array[2,1]] - Same as above"
   ]
  },
  {
   "cell_type": "code",
   "execution_count": 34,
   "metadata": {},
   "outputs": [
    {
     "data": {
      "text/plain": [
       "array([0, 9])"
      ]
     },
     "execution_count": 34,
     "metadata": {},
     "output_type": "execute_result"
    }
   ],
   "source": [
    "two_d_array[[0,2],[0,1]] # [two_d_array[0,0],two_d_array[2,1]]"
   ]
  },
  {
   "cell_type": "code",
   "execution_count": 35,
   "metadata": {},
   "outputs": [
    {
     "data": {
      "text/plain": [
       "array([ 0, 11])"
      ]
     },
     "execution_count": 35,
     "metadata": {},
     "output_type": "execute_result"
    }
   ],
   "source": [
    "two_d_array[[0,-1],[0,-1]] # [two_d_array[0,0],two_d_array[-1,-1]] - first and last elements "
   ]
  },
  {
   "cell_type": "code",
   "execution_count": 36,
   "metadata": {},
   "outputs": [
    {
     "data": {
      "text/plain": [
       "array([[0, 1, 2, 3],\n",
       "       [4, 5, 6, 7]])"
      ]
     },
     "execution_count": 36,
     "metadata": {},
     "output_type": "execute_result"
    }
   ],
   "source": [
    "two_d_array[0:2] # It is same as two_d_array[0:2][:]"
   ]
  },
  {
   "cell_type": "code",
   "execution_count": 37,
   "metadata": {},
   "outputs": [
    {
     "data": {
      "text/plain": [
       "array([[ 0,  1,  2,  3],\n",
       "       [ 8,  9, 10, 11]])"
      ]
     },
     "execution_count": 37,
     "metadata": {},
     "output_type": "execute_result"
    }
   ],
   "source": [
    "two_d_array[0:3:2] # odd rows"
   ]
  },
  {
   "cell_type": "code",
   "execution_count": 38,
   "metadata": {},
   "outputs": [
    {
     "data": {
      "text/plain": [
       "array([[0, 3],\n",
       "       [4, 7]])"
      ]
     },
     "execution_count": 38,
     "metadata": {},
     "output_type": "execute_result"
    }
   ],
   "source": [
    "two_d_array[0:2,[0,3]] # 0th and 3rd elements from 0-2 arrays - selective elements from range of arrays"
   ]
  },
  {
   "cell_type": "code",
   "execution_count": 39,
   "metadata": {},
   "outputs": [
    {
     "data": {
      "text/plain": [
       "array([[ 1,  2],\n",
       "       [ 9, 10]])"
      ]
     },
     "execution_count": 39,
     "metadata": {},
     "output_type": "execute_result"
    }
   ],
   "source": [
    "two_d_array[[0,2],1:3] # 1-3 elements from array 0 and array 2 - range of elements from selective arrays"
   ]
  },
  {
   "cell_type": "code",
   "execution_count": 40,
   "metadata": {},
   "outputs": [
    {
     "data": {
      "text/plain": [
       "array([[ 1,  3],\n",
       "       [ 9, 11]])"
      ]
     },
     "execution_count": 40,
     "metadata": {},
     "output_type": "execute_result"
    }
   ],
   "source": [
    "two_d_array[0::2,1::2] # Even rows (arrays) odd columns (elements)"
   ]
  },
  {
   "cell_type": "code",
   "execution_count": 41,
   "metadata": {},
   "outputs": [
    {
     "data": {
      "text/plain": [
       "array([[ 0,  1,  2,  3],\n",
       "       [ 4,  5,  6,  7],\n",
       "       [ 8,  9, 10, 11]])"
      ]
     },
     "execution_count": 41,
     "metadata": {},
     "output_type": "execute_result"
    }
   ],
   "source": [
    "two_d_array[:,:] # All of all"
   ]
  },
  {
   "cell_type": "code",
   "execution_count": 42,
   "metadata": {},
   "outputs": [],
   "source": [
    "three_d_array = np.arange(0,27).reshape(3,3,3)"
   ]
  },
  {
   "cell_type": "code",
   "execution_count": 43,
   "metadata": {},
   "outputs": [
    {
     "name": "stdout",
     "output_type": "stream",
     "text": [
      "[[[ 0  1  2]\n",
      "  [ 3  4  5]\n",
      "  [ 6  7  8]]\n",
      "\n",
      " [[ 9 10 11]\n",
      "  [12 13 14]\n",
      "  [15 16 17]]\n",
      "\n",
      " [[18 19 20]\n",
      "  [21 22 23]\n",
      "  [24 25 26]]]\n"
     ]
    }
   ],
   "source": [
    "print(three_d_array)"
   ]
  },
  {
   "cell_type": "code",
   "execution_count": 44,
   "metadata": {},
   "outputs": [
    {
     "name": "stdout",
     "output_type": "stream",
     "text": [
      "[[ 7  8]\n",
      " [16 17]]\n"
     ]
    }
   ],
   "source": [
    "print(three_d_array[0:2,2,1:3])"
   ]
  },
  {
   "cell_type": "code",
   "execution_count": 45,
   "metadata": {},
   "outputs": [
    {
     "name": "stdout",
     "output_type": "stream",
     "text": [
      "[[[ 0  1  2]\n",
      "  [ 3  4  5]\n",
      "  [ 6  7  8]]\n",
      "\n",
      " [[ 9 10 11]\n",
      "  [12 13 14]\n",
      "  [15 16 17]]]\n"
     ]
    }
   ],
   "source": [
    "print(three_d_array[0:2]) # It is same as three_d_array[0:2,:,:]"
   ]
  },
  {
   "cell_type": "markdown",
   "metadata": {},
   "source": [
    "<b>Important: Slicing creates a view instead of new objects, if views are modified, original objects get modified<b>"
   ]
  },
  {
   "cell_type": "code",
   "execution_count": 46,
   "metadata": {},
   "outputs": [
    {
     "name": "stdout",
     "output_type": "stream",
     "text": [
      "Before: [0 1 2 3 4 5 6 7]\n",
      "After: [   0    1 2000    3    4    5    6    7]\n"
     ]
    }
   ],
   "source": [
    "an_array = np.arange(0,8)\n",
    "print(\"Before:\",an_array)\n",
    "view = an_array[2:4]\n",
    "view[0] = 2000\n",
    "print(\"After:\",an_array)"
   ]
  },
  {
   "cell_type": "code",
   "execution_count": 47,
   "metadata": {},
   "outputs": [
    {
     "name": "stdout",
     "output_type": "stream",
     "text": [
      "True\n"
     ]
    }
   ],
   "source": [
    "print(np.may_share_memory(an_array,view)) # The memory overlap for the two arrays"
   ]
  },
  {
   "cell_type": "markdown",
   "metadata": {},
   "source": [
    "### Arrays of zeros and ones"
   ]
  },
  {
   "cell_type": "code",
   "execution_count": 48,
   "metadata": {},
   "outputs": [
    {
     "name": "stdout",
     "output_type": "stream",
     "text": [
      "[0 0 0 0 0]\n"
     ]
    }
   ],
   "source": [
    "print(np.zeros(5,dtype= int))"
   ]
  },
  {
   "cell_type": "code",
   "execution_count": 49,
   "metadata": {},
   "outputs": [
    {
     "name": "stdout",
     "output_type": "stream",
     "text": [
      "[[0 0 0]\n",
      " [0 0 0]\n",
      " [0 0 0]\n",
      " [0 0 0]\n",
      " [0 0 0]]\n"
     ]
    }
   ],
   "source": [
    "print(np.zeros((5,3),dtype= int))"
   ]
  },
  {
   "cell_type": "code",
   "execution_count": 50,
   "metadata": {},
   "outputs": [
    {
     "name": "stdout",
     "output_type": "stream",
     "text": [
      "[[[1]\n",
      "  [1]]\n",
      "\n",
      " [[1]\n",
      "  [1]]\n",
      "\n",
      " [[1]\n",
      "  [1]]]\n"
     ]
    }
   ],
   "source": [
    "print(np.ones((3,2,1),dtype= int))"
   ]
  },
  {
   "cell_type": "code",
   "execution_count": 51,
   "metadata": {},
   "outputs": [
    {
     "name": "stdout",
     "output_type": "stream",
     "text": [
      "[0 0 0 0]\n"
     ]
    }
   ],
   "source": [
    "model = np.array([3,5,2,3])\n",
    "print(np.zeros_like(model))"
   ]
  },
  {
   "cell_type": "code",
   "execution_count": 52,
   "metadata": {},
   "outputs": [
    {
     "name": "stdout",
     "output_type": "stream",
     "text": [
      "[[0 0]\n",
      " [0 0]\n",
      " [0 0]\n",
      " [0 0]\n",
      " [0 0]]\n"
     ]
    }
   ],
   "source": [
    "print(np.zeros_like(np.arange(0,10).reshape(5,2)))"
   ]
  },
  {
   "cell_type": "markdown",
   "metadata": {},
   "source": [
    "### Array copy"
   ]
  },
  {
   "cell_type": "code",
   "execution_count": 53,
   "metadata": {},
   "outputs": [
    {
     "name": "stdout",
     "output_type": "stream",
     "text": [
      "original (not changed)) [0 1 2 3 4 5 6 7 8 9]\n",
      "duplicate [-1  1  2  3  4  5  6  7  8  9]\n"
     ]
    }
   ],
   "source": [
    "original = np.arange(0,10)\n",
    "duplicate = original.copy()\n",
    "duplicate[0] = -1\n",
    "print(\"original (not changed))\",original)\n",
    "print(\"duplicate\",duplicate)"
   ]
  },
  {
   "cell_type": "markdown",
   "metadata": {},
   "source": [
    "### Identitiy array : an array having value 1 at diagonal and 0 elsewhere \n",
    "When multiplied with another matrix, the result is another matrix"
   ]
  },
  {
   "cell_type": "code",
   "execution_count": 54,
   "metadata": {},
   "outputs": [
    {
     "name": "stdout",
     "output_type": "stream",
     "text": [
      "[[1. 0. 0. 0. 0. 0.]\n",
      " [0. 1. 0. 0. 0. 0.]\n",
      " [0. 0. 1. 0. 0. 0.]\n",
      " [0. 0. 0. 1. 0. 0.]\n",
      " [0. 0. 0. 0. 1. 0.]\n",
      " [0. 0. 0. 0. 0. 1.]]\n"
     ]
    }
   ],
   "source": [
    "print(np.identity(6))"
   ]
  },
  {
   "cell_type": "code",
   "execution_count": 55,
   "metadata": {},
   "outputs": [
    {
     "name": "stdout",
     "output_type": "stream",
     "text": [
      "[[1 0 0]\n",
      " [0 1 0]\n",
      " [0 0 1]]\n"
     ]
    }
   ],
   "source": [
    "print(np.identity(3,dtype=int))"
   ]
  },
  {
   "cell_type": "code",
   "execution_count": 56,
   "metadata": {},
   "outputs": [
    {
     "name": "stdout",
     "output_type": "stream",
     "text": [
      "[[1 0 0 0]\n",
      " [0 1 0 0]\n",
      " [0 0 1 0]\n",
      " [0 0 0 1]]\n"
     ]
    }
   ],
   "source": [
    "print(np.eye(4,dtype=int)) # same as identity but can work with assymetric arrays as well"
   ]
  },
  {
   "cell_type": "code",
   "execution_count": 57,
   "metadata": {},
   "outputs": [
    {
     "name": "stdout",
     "output_type": "stream",
     "text": [
      "[[1 0 0 0 0 0]\n",
      " [0 1 0 0 0 0]\n",
      " [0 0 1 0 0 0]]\n"
     ]
    }
   ],
   "source": [
    "print(np.eye(3,6,dtype=int))"
   ]
  },
  {
   "cell_type": "code",
   "execution_count": 58,
   "metadata": {},
   "outputs": [
    {
     "name": "stdout",
     "output_type": "stream",
     "text": [
      "k = -3\n",
      "[[0 0 0 0 0]\n",
      " [0 0 0 0 0]\n",
      " [0 0 0 0 0]\n",
      " [1 0 0 0 0]]\n",
      "k = -2\n",
      "[[0 0 0 0 0]\n",
      " [0 0 0 0 0]\n",
      " [1 0 0 0 0]\n",
      " [0 1 0 0 0]]\n",
      "k = -1\n",
      "[[0 0 0 0 0]\n",
      " [1 0 0 0 0]\n",
      " [0 1 0 0 0]\n",
      " [0 0 1 0 0]]\n",
      "k = 0\n",
      "[[1 0 0 0 0]\n",
      " [0 1 0 0 0]\n",
      " [0 0 1 0 0]\n",
      " [0 0 0 1 0]]\n",
      "k = 1\n",
      "[[0 1 0 0 0]\n",
      " [0 0 1 0 0]\n",
      " [0 0 0 1 0]\n",
      " [0 0 0 0 1]]\n",
      "k = 2\n",
      "[[0 0 1 0 0]\n",
      " [0 0 0 1 0]\n",
      " [0 0 0 0 1]\n",
      " [0 0 0 0 0]]\n",
      "k = 3\n",
      "[[0 0 0 1 0]\n",
      " [0 0 0 0 1]\n",
      " [0 0 0 0 0]\n",
      " [0 0 0 0 0]]\n",
      "k = 4\n",
      "[[0 0 0 0 1]\n",
      " [0 0 0 0 0]\n",
      " [0 0 0 0 0]\n",
      " [0 0 0 0 0]]\n"
     ]
    }
   ],
   "source": [
    "# k is the index for the diagonal, default value = 0 i.e. starting at element [0,0]\n",
    "# negative value : starts from lower row\n",
    "# positive value : starts from higher column\n",
    "for i in range(-3,5):\n",
    "    print(\"k =\",i)\n",
    "    print(np.eye(4,5,k=i,dtype=int))"
   ]
  },
  {
   "cell_type": "code",
   "execution_count": null,
   "metadata": {},
   "outputs": [],
   "source": []
  }
 ],
 "metadata": {
  "kernelspec": {
   "display_name": "Python 3",
   "language": "python",
   "name": "python3"
  },
  "language_info": {
   "codemirror_mode": {
    "name": "ipython",
    "version": 3
   },
   "file_extension": ".py",
   "mimetype": "text/x-python",
   "name": "python",
   "nbconvert_exporter": "python",
   "pygments_lexer": "ipython3",
   "version": "3.6.4"
  }
 },
 "nbformat": 4,
 "nbformat_minor": 2
}
