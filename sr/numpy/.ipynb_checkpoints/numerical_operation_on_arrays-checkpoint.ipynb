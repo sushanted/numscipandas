{
 "cells": [
  {
   "cell_type": "markdown",
   "metadata": {},
   "source": [
    "## Numerical Operations"
   ]
  },
  {
   "cell_type": "markdown",
   "metadata": {},
   "source": [
    "### Array and scaler operations"
   ]
  },
  {
   "cell_type": "code",
   "execution_count": 2,
   "metadata": {},
   "outputs": [],
   "source": [
    "import numpy as np\n",
    "the_array = np.array([3,5,6,1,4-1,6,-3])"
   ]
  },
  {
   "cell_type": "code",
   "execution_count": 4,
   "metadata": {},
   "outputs": [
    {
     "name": "stdout",
     "output_type": "stream",
     "text": [
      "[6 8 9 4 6 9 0]\n"
     ]
    }
   ],
   "source": [
    "print(the_array+3)"
   ]
  },
  {
   "cell_type": "code",
   "execution_count": 5,
   "metadata": {},
   "outputs": [
    {
     "name": "stdout",
     "output_type": "stream",
     "text": [
      "[-1  1  2 -3 -1  2 -7]\n"
     ]
    }
   ],
   "source": [
    "print(the_array-4)"
   ]
  },
  {
   "cell_type": "code",
   "execution_count": 6,
   "metadata": {},
   "outputs": [
    {
     "name": "stdout",
     "output_type": "stream",
     "text": [
      "[ 9 25 36  1  9 36  9]\n"
     ]
    }
   ],
   "source": [
    "print(the_array ** 2)"
   ]
  },
  {
   "cell_type": "code",
   "execution_count": 7,
   "metadata": {},
   "outputs": [
    {
     "name": "stdout",
     "output_type": "stream",
     "text": [
      "[ 5  7  8  3  5  8 -1]\n"
     ]
    }
   ],
   "source": [
    "the_array += 2 # Array is re-assigned with the mutated version\n",
    "print(the_array)"
   ]
  },
  {
   "cell_type": "code",
   "execution_count": 3,
   "metadata": {},
   "outputs": [
    {
     "name": "stdout",
     "output_type": "stream",
     "text": [
      "Difference between successive numbers [ 2  1 -5  2  3 -9]\n",
      "Cumulitive sum [ 3  8 14 15 18 24 21]\n"
     ]
    }
   ],
   "source": [
    "print(\"Difference between successive numbers\",np.diff(the_array))\n",
    "print(\"Cumulitive sum\",np.cumsum(the_array))"
   ]
  },
  {
   "cell_type": "markdown",
   "metadata": {},
   "source": [
    "### Multiple array operations"
   ]
  },
  {
   "cell_type": "code",
   "execution_count": 10,
   "metadata": {},
   "outputs": [],
   "source": [
    "array_one = np.array([1,2,3,-3,2,-1])\n",
    "array_two = np.array([2,1,4,3,-2,1])\n"
   ]
  },
  {
   "cell_type": "code",
   "execution_count": 11,
   "metadata": {},
   "outputs": [
    {
     "name": "stdout",
     "output_type": "stream",
     "text": [
      "[3 3 7 0 0 0]\n"
     ]
    }
   ],
   "source": [
    "print(array_one + array_two)"
   ]
  },
  {
   "cell_type": "code",
   "execution_count": 13,
   "metadata": {},
   "outputs": [
    {
     "name": "stdout",
     "output_type": "stream",
     "text": [
      "[ 0  2  0 -1 -1 -1]\n"
     ]
    }
   ],
   "source": [
    "print(array_one // array_two)"
   ]
  },
  {
   "cell_type": "code",
   "execution_count": 16,
   "metadata": {},
   "outputs": [
    {
     "name": "stdout",
     "output_type": "stream",
     "text": [
      "[[0 1 2]\n",
      " [3 4 5]\n",
      " [6 7 8]]\n",
      "[[1 1 1]\n",
      " [1 1 1]\n",
      " [1 1 1]]\n"
     ]
    }
   ],
   "source": [
    "two_d_array_one = np.arange(0,9).reshape((3,3))\n",
    "identitiy_array = np.ones_like(two_d_array_one)\n",
    "print(two_d_array_one)\n",
    "print(identitiy_array)"
   ]
  },
  {
   "cell_type": "code",
   "execution_count": 15,
   "metadata": {},
   "outputs": [
    {
     "name": "stdout",
     "output_type": "stream",
     "text": [
      "[[1 2 3]\n",
      " [4 5 6]\n",
      " [7 8 9]]\n"
     ]
    }
   ],
   "source": [
    "print(two_d_array_one + identitiy_array)"
   ]
  },
  {
   "cell_type": "code",
   "execution_count": 22,
   "metadata": {},
   "outputs": [
    {
     "name": "stdout",
     "output_type": "stream",
     "text": [
      "[[ 0  2  4]\n",
      " [ 6  8 10]\n",
      " [12 14 16]]\n"
     ]
    }
   ],
   "source": [
    "print(two_d_array_one * (2*identitiy_array)) \n",
    "# Note is it element to element operation result[i][j] = a[i][j] + b[i][j] for all i and j"
   ]
  },
  {
   "cell_type": "markdown",
   "metadata": {},
   "source": [
    "### dot product"
   ]
  },
  {
   "cell_type": "code",
   "execution_count": 42,
   "metadata": {},
   "outputs": [
    {
     "name": "stdout",
     "output_type": "stream",
     "text": [
      "12\n"
     ]
    }
   ],
   "source": [
    "print(np.dot(np.array([3]),np.array([4]))) # Note the result is always scalar"
   ]
  },
  {
   "cell_type": "code",
   "execution_count": 43,
   "metadata": {},
   "outputs": [
    {
     "name": "stdout",
     "output_type": "stream",
     "text": [
      "14\n"
     ]
    }
   ],
   "source": [
    "# 1D : every vector has 3 components below x,y,z , total dot product = Ax * Bx + Ay * By + Az * Bz\n",
    "#    sum(A's progress in each of x,y,z direction * B's progress in each of x,y,z direction)\n",
    "\n",
    "A = np.array([1,2,3])\n",
    "B = np.array([1,2,3])\n",
    "\n",
    "print(np.dot(A,B)) # 1*1 + 2*2 + 3*3"
   ]
  },
  {
   "cell_type": "code",
   "execution_count": 45,
   "metadata": {},
   "outputs": [
    {
     "data": {
      "text/plain": [
       "array([[ 3,  3,  3,  5, -1],\n",
       "       [ 9,  1,  5, -1,  9]])"
      ]
     },
     "execution_count": 45,
     "metadata": {},
     "output_type": "execute_result"
    }
   ],
   "source": [
    "# 2D\n",
    "\n",
    "# 2 vectors\n",
    "X = np.array([\n",
    "    [1,2,-1],\n",
    "    [3,-2,1]\n",
    "]);\n",
    "\n",
    "# 5 vectors\n",
    "Y = np.array([\n",
    "    [3,1,2,1,2],\n",
    "    [1,2,1,2,-1],\n",
    "    [2,2,1,0,1]\n",
    "])\n",
    "\n",
    "# Do dot product of each pair of vector (one from A and another from B), total 2*5=10 pairs\n",
    "# Represent each dot product as an element in the result arrays\n",
    "# An array in the result for an array in first 2D array \n",
    "np.dot(X,Y)"
   ]
  },
  {
   "cell_type": "markdown",
   "metadata": {},
   "source": [
    "Matrix multiplication :\n",
    "\n",
    "\n",
    "Why dot product is rows of first matrix * colums of second matrix?\n",
    "\n",
    "One argument : From the resultanat matrix it can be quickly deduced, how the perticular result was obtained. if i,j is the index of the element in resultant matrix, it is dot product of i'th row in first matrix and j'th column in second matrix.\n",
    "\n",
    "The problem with having both matrices oriented the same way is that then we would have no system for determining which cell in the result matrix we should store the result of performing the dot product of two vectors.\n",
    "\n",
    "![title](matrix_dot_product.jpg)"
   ]
  },
  {
   "cell_type": "code",
   "execution_count": 69,
   "metadata": {},
   "outputs": [
    {
     "name": "stdout",
     "output_type": "stream",
     "text": [
      "A.shape =  (4, 2, 3)\n",
      "B.shape =  (2, 3, 5)\n",
      "dot(A,B).shape =  (4, 2, 2, 5)\n",
      "dot(A,B) =  array([[[[ 4,  2, -1, -2,  4],\n",
      "         [ 2, -2,  1,  1,  4]],\n",
      "\n",
      "        [[ 1,  1, -3,  1, -3],\n",
      "         [ 1,  2, -1,  0,  1]]],\n",
      "\n",
      "\n",
      "       [[[ 3,  4, -2,  1, -2],\n",
      "         [ 4,  1, -3,  2,  3]],\n",
      "\n",
      "        [[ 2,  0,  0, -2,  4],\n",
      "         [ 0, -2,  2,  0,  2]]],\n",
      "\n",
      "\n",
      "       [[[ 1,  0, -5,  1, -4],\n",
      "         [ 0,  3,  0, -1,  1]],\n",
      "\n",
      "        [[ 0, -1,  3, -2,  5],\n",
      "         [-1, -3,  2,  0,  0]]],\n",
      "\n",
      "\n",
      "       [[[ 3,  4, -2,  1, -2],\n",
      "         [ 4,  1, -3,  2,  3]],\n",
      "\n",
      "        [[-1, -2, -4,  1, -4],\n",
      "         [-2,  3,  1, -2, -1]]]])\n"
     ]
    }
   ],
   "source": [
    "# 3D\n",
    "\n",
    "\n",
    "\n",
    "# Shape : 4,2,3\n",
    "A = np.array([[[ 0,  1,  2],\n",
    "        [ 1,  1,  -1]],\n",
    "\n",
    "       [[ 0,  2,  -1],\n",
    "        [ 0, 0, 2]],\n",
    "\n",
    "       [[2, 1, -1],\n",
    "        [-1, -1, 2]],\n",
    "\n",
    "       [[0, 2, -1],\n",
    "        [2, 0, -1]]]);\n",
    "\n",
    "# Vector level representation\n",
    "# A = [[ A1,A2 ], [A3,A4], [A5,A6], [A7,A8] ]\n",
    "\n",
    "print(\"A.shape = \",A.shape)\n",
    "\n",
    "# Shape : 2,3,5\n",
    "B = np.array([\n",
    "        [[ 0,  -1,  -2,  0,  -1],\n",
    "        [ 2,  2,  -1,  0,  0],\n",
    "        [1, 0, 0, -1, 2]],\n",
    "\n",
    "       [[-1, 1, 1, -1, 0],\n",
    "        [2, 0, -1, 1, 2],\n",
    "        [0, -1, 1, 0, 1]]\n",
    "])\n",
    "\n",
    "# Vector level representation\n",
    "# B = [ [B1,B2,B3,B4,B5], [B6,B7,B8,B9,B10] ]\n",
    "\n",
    "print(\"B.shape = \",B.shape)\n",
    "\n",
    "print(\"dot(A,B).shape = \",np.dot(A,B).shape)\n",
    "\n",
    "print(\"dot(A,B) = \",np.dot(A,B))\n",
    "\n",
    "\n",
    "\n",
    "# DOT product vector representation : [[ A1,A2 ], [A3,A4], [A5,A6], [A7,A8] ] . [ [B1,B2,B3,B4,B5], [B6,B7,B8,B9,B10] ]\n",
    "\n",
    "\n",
    "# The LHS 3D matrix Vector representation\n",
    "#[\n",
    "# [\n",
    "#  A1,\n",
    "#  A2\n",
    "# ],\n",
    "# [\n",
    "#  A3,\n",
    "#  A4\n",
    "# ],\n",
    "# [\n",
    "#  A5,\n",
    "#  A6\n",
    "# ],\n",
    "# [\n",
    "#  A7,\n",
    "#  A8\n",
    "# ],\n",
    "#]\n",
    "\n",
    "# Conceptual dot product of two matrix in vector representation\n",
    "#[\n",
    "# [\n",
    "#  [A1.[B1,B2,B3,B4,B5], A1.[B6,B7,B8,B9,B10]], # A1 with all the vectors in another matrix at all levels\n",
    "#  [A2.[B1,B2,B3,B4,B5], A2.[B6,B7,B8,B9,B10]]  # A2 with all the vectors in another matrix at all levels\n",
    "# ],\n",
    "# [\n",
    "#  [A3.[B1,B2,B3,B4,B5], A3.[B6,B7,B8,B9,B10]], \n",
    "#  [A4.[B1,B2,B3,B4,B5], A4.[B6,B7,B8,B9,B10]]\n",
    "# ],\n",
    "# [\n",
    "#  [A5.[B1,B2,B3,B4,B5], A5.[B6,B7,B8,B9,B10]],\n",
    "#  [A6.[B1,B2,B3,B4,B5], A6.[B6,B7,B8,B9,B10]]\n",
    "# ],\n",
    "# [\n",
    "#  [A7.[B1,B2,B3,B4,B5], A7.[B6,B7,B8,B9,B10]],\n",
    "#  [A8.[B1,B2,B3,B4,B5], A8.[B6,B7,B8,B9,B10]]\n",
    "# ],\n",
    "#]\n",
    "\n",
    "#[\n",
    "# [\n",
    "#  [[A1.B1,A1.B2,A1.B3,A1.B4,A1.B5], [A1.B6,A1.B7,A1.B8,A1.B9,A1.B10]],\n",
    "#  [[A2.B1,A2.B2,A2.B3,A2.B4,A2.B5], [A2.B6,A2.B7,A2.B8,A2.B9,A2.B10]],\n",
    "# ],\n",
    "# [\n",
    "#  [[A3.B1,A3.B2,A3.B3,A3.B4,A3.B5], [A3.B6,A3.B7,A3.B8,A3.B9,A3.B10]],\n",
    "#  [[A4.B1,A4.B2,A4.B3,A4.B4,A4.B5], [A4.B6,A4.B7,A4.B8,A4.B9,A4.B10]],\n",
    "# ],\n",
    "# [\n",
    "#  [[A5.B1,A5.B2,A5.B3,A5.B4,A5.B5], [A5.B6,A5.B7,A5.B8,A5.B9,A5.B10]],\n",
    "#  [[A6.B1,A6.B2,A6.B3,A6.B4,A6.B5], [A6.B6,A6.B7,A6.B8,A6.B9,A6.B10]],\n",
    "# ],\n",
    "# [\n",
    "#  [[A7.B1,A7.B2,A7.B3,A7.B4,A7.B5], [A7.B6,A7.B7,A7.B8,A7.B9,A7.B10]],\n",
    "#  [[A8.B1,A8.B2,A8.B3,A8.B4,A8.B5], [A8.B6,A8.B7,A8.B8,A8.B9,A8.B10]],\n",
    "# ],\n",
    "#]\n",
    "\n",
    "\n",
    "# An array for each vector in LHS matrix and an array of vectors in RHS matrix\n",
    "\n",
    "#[\n",
    "# [\n",
    "#  [\n",
    "#    [A1.B1,A1.B2,A1.B3,A1.B4,A1.B5],\n",
    "#    [A1.B6,A1.B7,A1.B8,A1.B9,A1.B10]\n",
    "#  ],\n",
    "#  [\n",
    "#    [A2.B1,A2.B2,A2.B3,A2.B4,A2.B5],\n",
    "#    [A2.B6,A2.B7,A2.B8,A2.B9,A2.B10]\n",
    "#  ],\n",
    "# ],\n",
    "#\n",
    "# [\n",
    "#  [\n",
    "#    [A3.B1,A3.B2,A3.B3,A3.B4,A3.B5],\n",
    "#    [A3.B6,A3.B7,A3.B8,A3.B9,A3.B10]\n",
    "#  ],\n",
    "#  [\n",
    "#    [A4.B1,A4.B2,A4.B3,A4.B4,A4.B5],\n",
    "#    [A4.B6,A4.B7,A4.B8,A4.B9,A4.B10]\n",
    "#  ],\n",
    "# ],\n",
    "#\n",
    "# [\n",
    "#  [\n",
    "#    [A5.B1,A5.B2,A5.B3,A5.B4,A5.B5],\n",
    "#    [A5.B6,A5.B7,A5.B8,A5.B9,A5.B10]\n",
    "#  ],\n",
    "#  [\n",
    "#    [A6.B1,A6.B2,A6.B3,A6.B4,A6.B5],\n",
    "#    [A6.B6,A6.B7,A6.B8,A6.B9,A6.B10]\n",
    "#  ],\n",
    "# ],\n",
    "#\n",
    "# [\n",
    "#  [\n",
    "#    [A7.B1,A7.B2,A7.B3,A7.B4,A7.B5],\n",
    "#    [A7.B6,A7.B7,A7.B8,A7.B9,A7.B10]\n",
    "#  ],\n",
    "#  [\n",
    "#    [A8.B1,A8.B2,A8.B3,A8.B4,A8.B5],\n",
    "#    [A8.B6,A8.B7,A8.B8,A8.B9,A8.B10]\n",
    "#  ],\n",
    "# ],\n",
    "#]\n",
    "\n",
    "\n",
    "#      [[[[ 4,  2, -1, -2,  4],\n",
    "#         [ 2, -2,  1,  1,  4]],\n",
    "#\n",
    "#        [[ 1,  1, -3,  1, -3],\n",
    "#         [ 1,  2, -1,  0,  1]]],\n",
    "#\n",
    "#\n",
    "#       [[[ 3,  4, -2,  1, -2],\n",
    "#         [ 4,  1, -3,  2,  3]],\n",
    "#\n",
    "#        [[ 2,  0,  0, -2,  4],\n",
    "#         [ 0, -2,  2,  0,  2]]],\n",
    "#\n",
    "#\n",
    "#       [[[ 1,  0, -5,  1, -4],\n",
    "#         [ 0,  3,  0, -1,  1]],\n",
    "#\n",
    "#        [[ 0, -1,  3, -2,  5],\n",
    "#         [-1, -3,  2,  0,  0]]],\n",
    "#\n",
    "#\n",
    "#       [[[ 3,  4, -2,  1, -2],\n",
    "#         [ 4,  1, -3,  2,  3]],\n",
    "#\n",
    "#        [[-1, -2, -4,  1, -4],\n",
    "#         [-2,  3,  1, -2, -1]]]]\n",
    "\n",
    "# Dimensions calculations for 3D matrix dot product result: \n",
    "# First two dimensions of LHS matrix (The dot product start with the lowest dimension - which is a vector) + \n",
    "# First dimension of RHS matrix (as each vector in LHS is multiplied with each vector array in RHS) + \n",
    "# Last dimension of RHS matric (This decides the length of row in the product)"
   ]
  },
  {
   "cell_type": "markdown",
   "metadata": {},
   "source": [
    "### Actual matrices"
   ]
  },
  {
   "cell_type": "code",
   "execution_count": 81,
   "metadata": {},
   "outputs": [
    {
     "name": "stdout",
     "output_type": "stream",
     "text": [
      "[[0 1 2 3 4]\n",
      " [5 6 7 8 9]]\n",
      "[[0 1 0 0 0 0]\n",
      " [0 0 1 0 0 0]\n",
      " [0 0 0 1 0 0]\n",
      " [0 0 0 0 1 0]\n",
      " [0 0 0 0 0 1]]\n",
      "[[0 0 1 2 3 4]\n",
      " [0 5 6 7 8 9]]\n"
     ]
    }
   ],
   "source": [
    "# matrices can be constructed from 2D arrays like\n",
    "A = np.arange(0,10).reshape(2,5)\n",
    "AM = np.mat(A)\n",
    "print(AM)\n",
    "B = np.eye(5,6,k=1,dtype=int)\n",
    "BM = np.mat(B)\n",
    "print(BM)\n",
    "\n",
    "print(AM*BM) # This is actual matrix multiplication (dot product) and not product of 2D arrays"
   ]
  },
  {
   "cell_type": "markdown",
   "metadata": {},
   "source": [
    "### Array comparisions"
   ]
  },
  {
   "cell_type": "code",
   "execution_count": 85,
   "metadata": {},
   "outputs": [
    {
     "name": "stdout",
     "output_type": "stream",
     "text": [
      "[[ True False]\n",
      " [False  True]\n",
      " [False  True]]\n",
      "[[False  True]\n",
      " [ True False]\n",
      " [False False]]\n"
     ]
    }
   ],
   "source": [
    "A = np.array([[1,2],[3,4],[2,1]])\n",
    "B = np.array([[1,1],[1,4],[3,1]])\n",
    "\n",
    "C = (A == B)\n",
    "print(C)\n",
    "\n"
   ]
  },
  {
   "cell_type": "code",
   "execution_count": 86,
   "metadata": {},
   "outputs": [
    {
     "name": "stdout",
     "output_type": "stream",
     "text": [
      "[[False  True]\n",
      " [ True False]\n",
      " [False False]]\n"
     ]
    }
   ],
   "source": [
    "print(A > B)"
   ]
  },
  {
   "cell_type": "code",
   "execution_count": 87,
   "metadata": {},
   "outputs": [
    {
     "name": "stdout",
     "output_type": "stream",
     "text": [
      "[[ True  True]\n",
      " [ True  True]\n",
      " [False  True]]\n"
     ]
    }
   ],
   "source": [
    "print(A >= B)"
   ]
  },
  {
   "cell_type": "code",
   "execution_count": 89,
   "metadata": {},
   "outputs": [
    {
     "name": "stdout",
     "output_type": "stream",
     "text": [
      "False\n"
     ]
    }
   ],
   "source": [
    "print ( np.array_equal(A,B)) # Compare overall"
   ]
  },
  {
   "cell_type": "markdown",
   "metadata": {},
   "source": [
    "### Logical operators"
   ]
  },
  {
   "cell_type": "code",
   "execution_count": 96,
   "metadata": {},
   "outputs": [
    {
     "name": "stdout",
     "output_type": "stream",
     "text": [
      "[[ True  True]\n",
      " [ True  True]]\n"
     ]
    }
   ],
   "source": [
    "\n",
    "\n",
    "A = np.array([[True,False],[False,True]])\n",
    "B = np.array([[True,True],[False,False]])"
   ]
  },
  {
   "cell_type": "code",
   "execution_count": 91,
   "metadata": {},
   "outputs": [
    {
     "name": "stdout",
     "output_type": "stream",
     "text": [
      "[[ True  True]\n",
      " [False  True]]\n"
     ]
    }
   ],
   "source": [
    "print(np.logical_or(A,B))"
   ]
  },
  {
   "cell_type": "code",
   "execution_count": 92,
   "metadata": {},
   "outputs": [
    {
     "name": "stdout",
     "output_type": "stream",
     "text": [
      "[[ True False]\n",
      " [False False]]\n"
     ]
    }
   ],
   "source": [
    "print(np.logical_and(A,B))"
   ]
  },
  {
   "cell_type": "code",
   "execution_count": 93,
   "metadata": {},
   "outputs": [
    {
     "name": "stdout",
     "output_type": "stream",
     "text": [
      "[[False  True]\n",
      " [False  True]]\n"
     ]
    }
   ],
   "source": [
    "print(np.logical_xor(A,B))"
   ]
  },
  {
   "cell_type": "code",
   "execution_count": 98,
   "metadata": {},
   "outputs": [
    {
     "name": "stdout",
     "output_type": "stream",
     "text": [
      "[[ True  True]\n",
      " [ True  True]]\n"
     ]
    }
   ],
   "source": [
    "print(np.logical_or(A > B,A <= B))"
   ]
  },
  {
   "cell_type": "markdown",
   "metadata": {},
   "source": [
    "### Broadcasting : array shapes are matched by repeating singleton dimension elements \n",
    "#### For 2D it could be : vertically or/and horizontally\n",
    "#### Note : the shapes of the two arrays involved can have length 1 for any dimension, then that is multiplied by n at the other side\n",
    "#### E.g.  (m) * (1) : RHS is made m so (m) * (1) becomes (m)*(m)\n",
    "#### E.g.  (3,3) * (3,1) : RHS is made (3,3) for broadcasting\n",
    "#### E.g.  (2) * (3,2) : LHS is made (2) -> (1,2) -> (3,2) to match RHS shape\n",
    "#### E.g.  (3,1,2) * (3,3,1) : LHS is made (3,3,2) and RHS is made (3,3,2) \n"
   ]
  },
  {
   "cell_type": "code",
   "execution_count": 100,
   "metadata": {},
   "outputs": [
    {
     "name": "stdout",
     "output_type": "stream",
     "text": [
      "[2 3 4]\n"
     ]
    }
   ],
   "source": [
    "# Normal scalar operation\n",
    "print(np.array([1,2,3])+1) "
   ]
  },
  {
   "cell_type": "code",
   "execution_count": 101,
   "metadata": {},
   "outputs": [
    {
     "name": "stdout",
     "output_type": "stream",
     "text": [
      "[2 3 4]\n"
     ]
    }
   ],
   "source": [
    "# Broadcasting same as [1,2,3] + [1,1,1] : RHS is repeated LHS array size : (1) -> (3)\n",
    "print(np.array([1,2,3])+np.array([1])) "
   ]
  },
  {
   "cell_type": "code",
   "execution_count": 140,
   "metadata": {},
   "outputs": [
    {
     "ename": "ValueError",
     "evalue": "operands could not be broadcast together with shapes (4,) (2,) ",
     "output_type": "error",
     "traceback": [
      "\u001b[0;31m---------------------------------------------------------------------------\u001b[0m",
      "\u001b[0;31mValueError\u001b[0m                                Traceback (most recent call last)",
      "\u001b[0;32m<ipython-input-140-ce1b6a04b60d>\u001b[0m in \u001b[0;36m<module>\u001b[0;34m()\u001b[0m\n\u001b[0;32m----> 1\u001b[0;31m \u001b[0mprint\u001b[0m\u001b[0;34m(\u001b[0m\u001b[0mnp\u001b[0m\u001b[0;34m.\u001b[0m\u001b[0marray\u001b[0m\u001b[0;34m(\u001b[0m\u001b[0;34m[\u001b[0m\u001b[0;36m1\u001b[0m\u001b[0;34m,\u001b[0m\u001b[0;36m2\u001b[0m\u001b[0;34m,\u001b[0m\u001b[0;36m3\u001b[0m\u001b[0;34m,\u001b[0m\u001b[0;36m4\u001b[0m\u001b[0;34m]\u001b[0m\u001b[0;34m)\u001b[0m\u001b[0;34m+\u001b[0m\u001b[0mnp\u001b[0m\u001b[0;34m.\u001b[0m\u001b[0marray\u001b[0m\u001b[0;34m(\u001b[0m\u001b[0;34m[\u001b[0m\u001b[0;36m1\u001b[0m\u001b[0;34m,\u001b[0m\u001b[0;36m2\u001b[0m\u001b[0;34m]\u001b[0m\u001b[0;34m)\u001b[0m\u001b[0;34m)\u001b[0m \u001b[0;31m# This is not possible  (4) or (2) cannot be converted to each other\u001b[0m\u001b[0;34m\u001b[0m\u001b[0m\n\u001b[0m",
      "\u001b[0;31mValueError\u001b[0m: operands could not be broadcast together with shapes (4,) (2,) "
     ]
    }
   ],
   "source": [
    "print(np.array([1,2,3,4])+np.array([1,2])) # This is not possible  (4) or (2) cannot be converted to each other"
   ]
  },
  {
   "cell_type": "code",
   "execution_count": 114,
   "metadata": {},
   "outputs": [
    {
     "name": "stdout",
     "output_type": "stream",
     "text": [
      "[[ 1  3  5]\n",
      " [ 4  6  8]\n",
      " [ 7  9 11]]\n"
     ]
    }
   ],
   "source": [
    "# Broadcasting same as np.arange(0,9).reshape(3,3)+[[1,2,3],[1,2,3],[1,2,3]] : first dimension repeated : (1,3)->(3,3)\n",
    "print(np.arange(9).reshape(3,3)+np.array([1,2,3])) "
   ]
  },
  {
   "cell_type": "code",
   "execution_count": 113,
   "metadata": {},
   "outputs": [
    {
     "name": "stdout",
     "output_type": "stream",
     "text": [
      "[[ 1  2  3]\n",
      " [ 5  6  7]\n",
      " [ 9 10 11]]\n"
     ]
    }
   ],
   "source": [
    "# Broadcasting same as np.arange(0,9).reshape(3,3)+[[1,1,1],[2,2,2],[3,3,3]] : second dimension repeated : (3,1)->(3,3)\n",
    "print(np.arange(9).reshape(3,3)+np.array([[1],[2],[3]]))"
   ]
  },
  {
   "cell_type": "code",
   "execution_count": 112,
   "metadata": {},
   "outputs": [
    {
     "name": "stdout",
     "output_type": "stream",
     "text": [
      "[[1 2 3]\n",
      " [4 5 6]\n",
      " [7 8 9]]\n"
     ]
    }
   ],
   "source": [
    "# Double broadcasting : same as np.arange(0,9).reshape(3,3)+[[1,1,1],[1,1,1],[1,1,1]] : \n",
    "# both dimensions repeated : (1)->(3,3)\n",
    "print(np.arange(9).reshape(3,3)+np.array([1]))"
   ]
  },
  {
   "cell_type": "code",
   "execution_count": 111,
   "metadata": {},
   "outputs": [
    {
     "name": "stdout",
     "output_type": "stream",
     "text": [
      "[[1 2 3]\n",
      " [4 5 6]\n",
      " [7 8 9]]\n"
     ]
    }
   ],
   "source": [
    "# Double broadcasting : same as np.arange(0,9).reshape(3,3)+[[1,1,1],[1,1,1],[1,1,1]] : \n",
    "# both dimensions repeated : (1,1)->(3,3)\n",
    "print(np.arange(9).reshape(3,3)+np.array([[1]]))"
   ]
  },
  {
   "cell_type": "code",
   "execution_count": 109,
   "metadata": {},
   "outputs": [
    {
     "name": "stdout",
     "output_type": "stream",
     "text": [
      "[[0 1 2]\n",
      " [1 2 3]\n",
      " [2 3 4]]\n"
     ]
    }
   ],
   "source": [
    "# Broadcasting on LHS as well as RHS : same as [[0,1,2],[0,1,2],[0,1,2]] + [[0,0,0],[1,1,1],[2,2,2]]\n",
    "# (1,3) -> (3,3) AND (3,1) -> (3,3)\n",
    "print(np.array([0,1,2])+np.array([[0],[1],[2]]))"
   ]
  },
  {
   "cell_type": "markdown",
   "metadata": {},
   "source": [
    "#### 3D broadcasting"
   ]
  },
  {
   "cell_type": "code",
   "execution_count": 126,
   "metadata": {},
   "outputs": [
    {
     "name": "stdout",
     "output_type": "stream",
     "text": [
      "D3= [[[ 0  1]\n",
      "  [ 2  3]\n",
      "  [ 4  5]]\n",
      "\n",
      " [[ 6  7]\n",
      "  [ 8  9]\n",
      "  [10 11]]]\n",
      "\n",
      "D2= [[0 1]\n",
      " [2 3]\n",
      " [4 5]]\n",
      "\n",
      "D3*D2= [[[ 0  1]\n",
      "  [ 4  9]\n",
      "  [16 25]]\n",
      "\n",
      " [[ 0  7]\n",
      "  [16 27]\n",
      "  [40 55]]]\n"
     ]
    }
   ],
   "source": [
    "\n",
    "D3 = np.arange(12).reshape(2,3,2)\n",
    "print(\"D3=\",D3)\n",
    "D2 = np.arange(6).reshape(3,2) # Will be broadcasted as (3,2)->(2,3,2) : (3,2) is repeated twice\n",
    "print(\"\\nD2=\",D2)\n",
    "print(\"\\nD3*D2=\",D3*D2)"
   ]
  },
  {
   "cell_type": "code",
   "execution_count": 123,
   "metadata": {},
   "outputs": [
    {
     "name": "stdout",
     "output_type": "stream",
     "text": [
      "D3= [[[ 0  1]\n",
      "  [ 2  3]\n",
      "  [ 4  5]]\n",
      "\n",
      " [[ 6  7]\n",
      "  [ 8  9]\n",
      "  [10 11]]]\n",
      "\n",
      "D1= [1, 2]\n",
      "\n",
      "D3*D1= [[[ 0  2]\n",
      "  [ 2  6]\n",
      "  [ 4 10]]\n",
      "\n",
      " [[ 6 14]\n",
      "  [ 8 18]\n",
      "  [10 22]]]\n"
     ]
    }
   ],
   "source": [
    "D3 = np.arange(12).reshape(2,3,2)\n",
    "print(\"D3=\",D3)\n",
    "D1 = [1,2] # Will be broadcasted as (2)->(2,3,2) : (2) is repeated thrice [[1,2],[1,2],[1,2]] and then repeated twice\n",
    "print(\"\\nD1=\",D1)\n",
    "print(\"\\nD3*D1=\",D3*D1)"
   ]
  },
  {
   "cell_type": "code",
   "execution_count": 133,
   "metadata": {},
   "outputs": [
    {
     "name": "stdout",
     "output_type": "stream",
     "text": [
      "D3= [[[ 0  1]\n",
      "  [ 2  3]\n",
      "  [ 4  5]]\n",
      "\n",
      " [[ 6  7]\n",
      "  [ 8  9]\n",
      "  [10 11]]]\n",
      "\n",
      "D2= [[0], [1], [2]]\n",
      "\n",
      "D3*D2= [[[ 0  0]\n",
      "  [ 2  3]\n",
      "  [ 8 10]]\n",
      "\n",
      " [[ 0  0]\n",
      "  [ 8  9]\n",
      "  [20 22]]]\n"
     ]
    }
   ],
   "source": [
    "D3 = np.arange(12).reshape(2,3,2)\n",
    "print(\"D3=\",D3)\n",
    "D2 = [[0],[1],[2]] # Will be broadcasted as (3,1) -> (3,2) -> (2,3,2)\n",
    "print(\"\\nD2=\",D2)\n",
    "print(\"\\nD3*D2=\",D3*D2)"
   ]
  },
  {
   "cell_type": "code",
   "execution_count": 136,
   "metadata": {},
   "outputs": [
    {
     "name": "stdout",
     "output_type": "stream",
     "text": [
      "A= [[[ 0  1]\n",
      "  [ 2  3]\n",
      "  [ 4  5]]\n",
      "\n",
      " [[ 6  7]\n",
      "  [ 8  9]\n",
      "  [10 11]]]\n",
      "\n",
      "B= [[[0], [1], [2]], [[3], [4], [5]]]\n",
      "\n",
      "A*B= [[[ 0  0]\n",
      "  [ 2  3]\n",
      "  [ 8 10]]\n",
      "\n",
      " [[18 21]\n",
      "  [32 36]\n",
      "  [50 55]]]\n"
     ]
    }
   ],
   "source": [
    "A = np.arange(12).reshape(2,3,2)\n",
    "print(\"A=\",A)\n",
    "B = [[[0],[1],[2]],[[3],[4],[5]]] # Will be broadcasted as (2,3,1) -> (2,3,2) : [[[0,0],[1,1],[2,2]],[[3,3],[4,4],[5,5]]]\n",
    "print(\"\\nB=\",B)\n",
    "print(\"\\nA*B=\",A*B)"
   ]
  },
  {
   "cell_type": "code",
   "execution_count": 138,
   "metadata": {},
   "outputs": [
    {
     "name": "stdout",
     "output_type": "stream",
     "text": [
      "A= [[[ 0  1]\n",
      "  [ 2  3]\n",
      "  [ 4  5]]\n",
      "\n",
      " [[ 6  7]\n",
      "  [ 8  9]\n",
      "  [10 11]]]\n",
      "\n",
      "B= [[[0, 1]], [[2, 3]]]\n",
      "\n",
      "A*B= [[[ 0  1]\n",
      "  [ 0  3]\n",
      "  [ 0  5]]\n",
      "\n",
      " [[12 21]\n",
      "  [16 27]\n",
      "  [20 33]]]\n"
     ]
    }
   ],
   "source": [
    "A = np.arange(12).reshape(2,3,2)\n",
    "print(\"A=\",A)\n",
    "B = [[[0,1]],[[2,3]]] # Will be broadcasted as (2,1,2) -> (2,3,2) : [[[0,1],[2,3],[4,5]],[[0,1],[2,3],[4,5]]]\n",
    "print(\"\\nB=\",B)\n",
    "print(\"\\nA*B=\",A*B)"
   ]
  },
  {
   "cell_type": "code",
   "execution_count": 139,
   "metadata": {},
   "outputs": [
    {
     "name": "stdout",
     "output_type": "stream",
     "text": [
      "A= [[[0 1]]\n",
      "\n",
      " [[2 3]]\n",
      "\n",
      " [[4 5]]]\n",
      "\n",
      "B= [[[0]\n",
      "  [1]]]\n",
      "\n",
      "A*B= [[[0 0]\n",
      "  [0 1]]\n",
      "\n",
      " [[0 0]\n",
      "  [2 3]]\n",
      "\n",
      " [[0 0]\n",
      "  [4 5]]]\n"
     ]
    }
   ],
   "source": [
    "#(3,1,2) * (1,2,1)\n",
    "A = np.arange(6).reshape(3,1,2) # [[[0,1]],[[2,3]],[[4,5]]] -> [[[0,1],[0,1]],[[2,3],[2,3]],[[4,5],[4,5]]]\n",
    "print(\"A=\",A)\n",
    "B = np.arange(2).reshape(1,2,1) # [[[0],[1]]] -> [[[0,0],[1,1]]] -> [[[0,0],[1,1]],[[0,0],[1,1]],[[0,0],[1,1]]]\n",
    "  \n",
    "print(\"\\nB=\",B)\n",
    "print(\"\\nA*B=\",A*B)"
   ]
  },
  {
   "cell_type": "code",
   "execution_count": null,
   "metadata": {},
   "outputs": [],
   "source": []
  }
 ],
 "metadata": {
  "kernelspec": {
   "display_name": "Python 3",
   "language": "python",
   "name": "python3"
  },
  "language_info": {
   "codemirror_mode": {
    "name": "ipython",
    "version": 3
   },
   "file_extension": ".py",
   "mimetype": "text/x-python",
   "name": "python",
   "nbconvert_exporter": "python",
   "pygments_lexer": "ipython3",
   "version": "3.6.4"
  }
 },
 "nbformat": 4,
 "nbformat_minor": 2
}
