{
 "cells": [
  {
   "cell_type": "markdown",
   "metadata": {},
   "source": [
    "## Changing size of arrays"
   ]
  },
  {
   "cell_type": "markdown",
   "metadata": {},
   "source": [
    "### Flatten array"
   ]
  },
  {
   "cell_type": "code",
   "execution_count": 2,
   "metadata": {},
   "outputs": [],
   "source": [
    "import numpy as np"
   ]
  },
  {
   "cell_type": "code",
   "execution_count": 8,
   "metadata": {},
   "outputs": [
    {
     "name": "stdout",
     "output_type": "stream",
     "text": [
      "[[[ 0  1]\n",
      "  [ 2  3]\n",
      "  [ 4  5]]\n",
      "\n",
      " [[ 6  7]\n",
      "  [ 8  9]\n",
      "  [10 11]]]\n"
     ]
    }
   ],
   "source": [
    "A = np.arange(12).reshape(2,3,2)\n",
    "print(A)\n"
   ]
  },
  {
   "cell_type": "code",
   "execution_count": 9,
   "metadata": {},
   "outputs": [
    {
     "name": "stdout",
     "output_type": "stream",
     "text": [
      "[ 0  1  2  3  4  5  6  7  8  9 10 11]\n"
     ]
    }
   ],
   "source": [
    "print(A.flatten()) "
   ]
  },
  {
   "cell_type": "code",
   "execution_count": 41,
   "metadata": {},
   "outputs": [
    {
     "name": "stdout",
     "output_type": "stream",
     "text": [
      "[ 0  1  2  3  4  5  6  7  8  9 10 11]\n",
      "0\n",
      "1\n",
      "2\n",
      "3\n",
      "4\n",
      "5\n",
      "6\n",
      "7\n",
      "8\n",
      "9\n",
      "10\n",
      "11\n"
     ]
    }
   ],
   "source": [
    "print(A.flatten(order='C')) # C-style : DFS : Same as above, it is default\n",
    "\n",
    "print(A[(0,0,0)])\n",
    "print(A[(0,0,1)])\n",
    "print(A[(0,1,0)])\n",
    "print(A[(0,1,1)])\n",
    "print(A[(0,2,0)])\n",
    "print(A[(0,2,1)])\n",
    "print(A[(1,0,0)])\n",
    "print(A[(1,0,1)])\n",
    "print(A[(1,1,0)])\n",
    "print(A[(1,1,1)])\n",
    "print(A[(1,2,0)])\n",
    "print(A[(1,2,1)])"
   ]
  },
  {
   "cell_type": "code",
   "execution_count": 40,
   "metadata": {},
   "outputs": [
    {
     "name": "stdout",
     "output_type": "stream",
     "text": [
      "[ 0  6  2  8  4 10  1  7  3  9  5 11]\n",
      "0\n",
      "6\n",
      "2\n",
      "8\n",
      "4\n",
      "10\n",
      "1\n",
      "7\n",
      "3\n",
      "9\n",
      "5\n",
      "11\n"
     ]
    }
   ],
   "source": [
    "print(A.flatten(order='F')) # Fortran style :  first index changing fastest, and the last index changing slowest.\n",
    "\n",
    "# reverse the tuple\n",
    "def rev(*t):\n",
    "    return t[::-1]\n",
    "\n",
    "print(A[rev(0,0,0)])\n",
    "print(A[rev(0,0,1)])\n",
    "print(A[rev(0,1,0)])\n",
    "print(A[rev(0,1,1)])\n",
    "print(A[rev(0,2,0)])\n",
    "print(A[rev(0,2,1)])\n",
    "print(A[rev(1,0,0)])\n",
    "print(A[rev(1,0,1)])\n",
    "print(A[rev(1,1,0)])\n",
    "print(A[rev(1,1,1)])\n",
    "print(A[rev(1,2,0)])\n",
    "print(A[rev(1,2,1)])"
   ]
  },
  {
   "cell_type": "markdown",
   "metadata": {},
   "source": [
    "#### Difference between flatten and ravel:\n",
    "#### flatten always returns a copy.\n",
    "#### ravel returns a view of the original array whenever possible. This isn't visible in the printed output, but if you modify the array returned by ravel, it may modify the entries in the original array. If you modify the entries in an array returned from flatten this will never happen. ravel will often be faster since no memory is copied, but you have to be more careful about modifying the array it returns."
   ]
  },
  {
   "cell_type": "code",
   "execution_count": 42,
   "metadata": {},
   "outputs": [
    {
     "name": "stdout",
     "output_type": "stream",
     "text": [
      "[ 0  1  2  3  4  5  6  7  8  9 10 11]\n"
     ]
    }
   ],
   "source": [
    "print(A.ravel())"
   ]
  },
  {
   "cell_type": "code",
   "execution_count": 43,
   "metadata": {},
   "outputs": [
    {
     "name": "stdout",
     "output_type": "stream",
     "text": [
      "[ 0  1  2  3  4  5  6  7  8  9 10 11]\n"
     ]
    }
   ],
   "source": [
    "print(A.ravel(order='K'))"
   ]
  },
  {
   "cell_type": "markdown",
   "metadata": {},
   "source": [
    "### Reshape"
   ]
  },
  {
   "cell_type": "code",
   "execution_count": 44,
   "metadata": {},
   "outputs": [
    {
     "name": "stdout",
     "output_type": "stream",
     "text": [
      "[[[[ 0  1]\n",
      "   [ 2  3]\n",
      "   [ 4  5]]\n",
      "\n",
      "  [[ 6  7]\n",
      "   [ 8  9]\n",
      "   [10 11]]\n",
      "\n",
      "  [[12 13]\n",
      "   [14 15]\n",
      "   [16 17]]]\n",
      "\n",
      "\n",
      " [[[18 19]\n",
      "   [20 21]\n",
      "   [22 23]]\n",
      "\n",
      "  [[24 25]\n",
      "   [26 27]\n",
      "   [28 29]]\n",
      "\n",
      "  [[30 31]\n",
      "   [32 33]\n",
      "   [34 35]]]]\n"
     ]
    }
   ],
   "source": [
    "print(np.arange(36).reshape(2,3,3,2))"
   ]
  },
  {
   "cell_type": "markdown",
   "metadata": {},
   "source": [
    "### Concatenate arrays"
   ]
  },
  {
   "cell_type": "code",
   "execution_count": 174,
   "metadata": {},
   "outputs": [
    {
     "data": {
      "text/plain": [
       "array([ 1,  2,  3,  4, -1, -2, -3, -4,  4,  3,  2])"
      ]
     },
     "execution_count": 174,
     "metadata": {},
     "output_type": "execute_result"
    }
   ],
   "source": [
    "A = np.array([1,2,3,4])\n",
    "B = np.array([-1,-2,-3,-4])\n",
    "C = np.array([4,3,2])\n",
    "\n",
    "np.concatenate((A,B,C))"
   ]
  },
  {
   "cell_type": "markdown",
   "metadata": {},
   "source": [
    "#### Concatenate around different axis"
   ]
  },
  {
   "cell_type": "code",
   "execution_count": 76,
   "metadata": {},
   "outputs": [
    {
     "name": "stdout",
     "output_type": "stream",
     "text": [
      "A= [[[ 0  1  2  3]\n",
      "  [ 4  5  6  7]\n",
      "  [ 8  9 10 11]]\n",
      "\n",
      " [[12 13 14 15]\n",
      "  [16 17 18 19]\n",
      "  [20 21 22 23]]]\n",
      "B= [[[24 25 26 27]\n",
      "  [28 29 30 31]\n",
      "  [32 33 34 35]]\n",
      "\n",
      " [[36 37 38 39]\n",
      "  [40 41 42 43]\n",
      "  [44 45 46 47]]]\n"
     ]
    }
   ],
   "source": [
    "A = np.arange(24).reshape(2,3,4)\n",
    "print(\"A=\",A)\n",
    "B = np.arange(24,48).reshape(2,3,4)\n",
    "print(\"B=\",B)"
   ]
  },
  {
   "cell_type": "code",
   "execution_count": 77,
   "metadata": {},
   "outputs": [
    {
     "name": "stdout",
     "output_type": "stream",
     "text": [
      "(4, 3, 4)\n",
      "[[[ 0  1  2  3]\n",
      "  [ 4  5  6  7]\n",
      "  [ 8  9 10 11]]\n",
      "\n",
      " [[12 13 14 15]\n",
      "  [16 17 18 19]\n",
      "  [20 21 22 23]]\n",
      "\n",
      " [[24 25 26 27]\n",
      "  [28 29 30 31]\n",
      "  [32 33 34 35]]\n",
      "\n",
      " [[36 37 38 39]\n",
      "  [40 41 42 43]\n",
      "  [44 45 46 47]]]\n"
     ]
    }
   ],
   "source": [
    "C = np.concatenate((A,B))\n",
    "print(C.shape) # 4,3,4 : first element in shape is doubled : nodes at first level in the tree are concatenated\n",
    "print(C) # default is axis 0, the outer-most arrays are concatenated"
   ]
  },
  {
   "cell_type": "code",
   "execution_count": 61,
   "metadata": {},
   "outputs": [
    {
     "name": "stdout",
     "output_type": "stream",
     "text": [
      "(2, 6, 4)\n",
      "[[[ 0  1  2  3]\n",
      "  [ 4  5  6  7]\n",
      "  [ 8  9 10 11]\n",
      "  [24 25 26 27]\n",
      "  [28 29 30 31]\n",
      "  [32 33 34 35]]\n",
      "\n",
      " [[12 13 14 15]\n",
      "  [16 17 18 19]\n",
      "  [20 21 22 23]\n",
      "  [36 37 38 39]\n",
      "  [40 41 42 43]\n",
      "  [44 45 46 47]]]\n"
     ]
    }
   ],
   "source": [
    "C = np.concatenate((A,B),axis=1)\n",
    "print(C.shape) # 2,6,4 : second element in shape is doubled\n",
    "print(C)"
   ]
  },
  {
   "cell_type": "code",
   "execution_count": 62,
   "metadata": {},
   "outputs": [
    {
     "name": "stdout",
     "output_type": "stream",
     "text": [
      "(2, 3, 8)\n",
      "[[[ 0  1  2  3 24 25 26 27]\n",
      "  [ 4  5  6  7 28 29 30 31]\n",
      "  [ 8  9 10 11 32 33 34 35]]\n",
      "\n",
      " [[12 13 14 15 36 37 38 39]\n",
      "  [16 17 18 19 40 41 42 43]\n",
      "  [20 21 22 23 44 45 46 47]]]\n"
     ]
    }
   ],
   "source": [
    "# concatenate the inner most arrays from the two 3D arrays\n",
    "C = np.concatenate((A,B),axis=2)\n",
    "print(C.shape) # 2,3,8 : third element in shape is doubled\n",
    "print(C) "
   ]
  },
  {
   "cell_type": "code",
   "execution_count": 64,
   "metadata": {},
   "outputs": [
    {
     "name": "stdout",
     "output_type": "stream",
     "text": [
      "(2, 3, 8)\n",
      "[[[ 0  1  2  3 24 25 26 27]\n",
      "  [ 4  5  6  7 28 29 30 31]\n",
      "  [ 8  9 10 11 32 33 34 35]]\n",
      "\n",
      " [[12 13 14 15 36 37 38 39]\n",
      "  [16 17 18 19 40 41 42 43]\n",
      "  [20 21 22 23 44 45 46 47]]]\n"
     ]
    }
   ],
   "source": [
    "# concatenate the inner most arrays from the two arrays (of any shape)\n",
    "C = np.concatenate((A,B),axis=-1)\n",
    "print(C.shape)# 2,3,8 : last element in shape is doubled\n",
    "print(C) "
   ]
  },
  {
   "cell_type": "code",
   "execution_count": 66,
   "metadata": {},
   "outputs": [
    {
     "name": "stdout",
     "output_type": "stream",
     "text": [
      "[1 2 3 4 5]\n"
     ]
    }
   ],
   "source": [
    "# concatenation axis array dimension may be different\n",
    "print(np.concatenate((np.array([1,2,3]),np.array([4,5]))))"
   ]
  },
  {
   "cell_type": "code",
   "execution_count": 85,
   "metadata": {},
   "outputs": [
    {
     "name": "stdout",
     "output_type": "stream",
     "text": [
      "A= [[[ 0  1  2  3]\n",
      "  [ 4  5  6  7]\n",
      "  [ 8  9 10 11]]\n",
      "\n",
      " [[12 13 14 15]\n",
      "  [16 17 18 19]\n",
      "  [20 21 22 23]]]\n",
      "B= [[[ 0  1  2  3]\n",
      "  [ 4  5  6  7]\n",
      "  [ 8  9 10 11]\n",
      "  [12 13 14 15]]\n",
      "\n",
      " [[16 17 18 19]\n",
      "  [20 21 22 23]\n",
      "  [24 25 26 27]\n",
      "  [28 29 30 31]]]\n",
      "C= [[[ 0  1  2  3]\n",
      "  [ 4  5  6  7]]\n",
      "\n",
      " [[ 8  9 10 11]\n",
      "  [12 13 14 15]]]\n",
      "concatenate(A,B,C).shape= (2, 9, 4)\n",
      "concatenate(A,B,C)= [[[ 0  1  2  3]\n",
      "  [ 4  5  6  7]\n",
      "  [ 8  9 10 11]\n",
      "  [ 0  1  2  3]\n",
      "  [ 4  5  6  7]\n",
      "  [ 8  9 10 11]\n",
      "  [12 13 14 15]\n",
      "  [ 0  1  2  3]\n",
      "  [ 4  5  6  7]]\n",
      "\n",
      " [[12 13 14 15]\n",
      "  [16 17 18 19]\n",
      "  [20 21 22 23]\n",
      "  [16 17 18 19]\n",
      "  [20 21 22 23]\n",
      "  [24 25 26 27]\n",
      "  [28 29 30 31]\n",
      "  [ 8  9 10 11]\n",
      "  [12 13 14 15]]]\n"
     ]
    }
   ],
   "source": [
    "A = np.arange(24).reshape(2,3,4)\n",
    "print(\"A=\",A)\n",
    "B = np.arange(32).reshape(2,4,4)\n",
    "print(\"B=\",B)\n",
    "C = np.arange(16).reshape(2,2,4)\n",
    "print(\"C=\",C)\n",
    "D = np.concatenate((A,B,C),axis = 1)\n",
    "print('concatenate(A,B,C).shape=',D.shape) # (2,3,4)+(2,4,4)+(2,2,4) = (2,9,4)\n",
    "print(\"concatenate(A,B,C)=\",D)"
   ]
  },
  {
   "cell_type": "markdown",
   "metadata": {},
   "source": [
    "### Adding new dimension"
   ]
  },
  {
   "cell_type": "code",
   "execution_count": 90,
   "metadata": {},
   "outputs": [
    {
     "name": "stdout",
     "output_type": "stream",
     "text": [
      "(3, 1)\n",
      "[[2]\n",
      " [3]\n",
      " [4]]\n"
     ]
    }
   ],
   "source": [
    "\n",
    "A = np.array([2,3,4])\n",
    "B = A[:,np.newaxis]\n",
    "print(B.shape)\n",
    "print(B)"
   ]
  },
  {
   "cell_type": "code",
   "execution_count": 92,
   "metadata": {},
   "outputs": [
    {
     "name": "stdout",
     "output_type": "stream",
     "text": [
      "(1, 3)\n",
      "[[2 3 4]]\n"
     ]
    }
   ],
   "source": [
    "A = np.array([2,3,4])\n",
    "B = A[np.newaxis,:]\n",
    "print(B.shape) # 1,3 : 1 at the place of newaxis\n",
    "print(B)"
   ]
  },
  {
   "cell_type": "code",
   "execution_count": 91,
   "metadata": {},
   "outputs": [
    {
     "name": "stdout",
     "output_type": "stream",
     "text": [
      "(1, 3, 1)\n",
      "[[[2]\n",
      "  [3]\n",
      "  [4]]]\n"
     ]
    }
   ],
   "source": [
    "A = np.array([2,3,4])\n",
    "B = A[np.newaxis,:,np.newaxis]\n",
    "print(B.shape) # 1,3,1 : 1 at the place of newaxis\n",
    "print(B)"
   ]
  },
  {
   "cell_type": "code",
   "execution_count": 95,
   "metadata": {},
   "outputs": [
    {
     "name": "stdout",
     "output_type": "stream",
     "text": [
      "Original= [[[ 0  1  2  3]\n",
      "  [ 4  5  6  7]\n",
      "  [ 8  9 10 11]]\n",
      "\n",
      " [[12 13 14 15]\n",
      "  [16 17 18 19]\n",
      "  [20 21 22 23]]]\n",
      "(2, 3, 1, 4)\n",
      "After adding axis: [[[[ 0  1  2  3]]\n",
      "\n",
      "  [[ 4  5  6  7]]\n",
      "\n",
      "  [[ 8  9 10 11]]]\n",
      "\n",
      "\n",
      " [[[12 13 14 15]]\n",
      "\n",
      "  [[16 17 18 19]]\n",
      "\n",
      "  [[20 21 22 23]]]]\n"
     ]
    }
   ],
   "source": [
    "A = np.arange(24).reshape(2,3,4)\n",
    "print(\"Original=\",A)\n",
    "B = A[:,:,np.newaxis,:]\n",
    "print(B.shape)\n",
    "print(\"After adding axis:\",B)"
   ]
  },
  {
   "cell_type": "markdown",
   "metadata": {},
   "source": [
    "### Vector stacking"
   ]
  },
  {
   "cell_type": "markdown",
   "metadata": {},
   "source": [
    "#### row_stack (vstack)\n",
    "\n",
    "#### stack at axis 0 and concat all the arrays at the new level(axis), 1D arrays are promoted to 2D by adding an axis before\n"
   ]
  },
  {
   "cell_type": "code",
   "execution_count": 168,
   "metadata": {},
   "outputs": [
    {
     "name": "stdout",
     "output_type": "stream",
     "text": [
      "[[1 2 3]\n",
      " [4 5 6]]\n"
     ]
    }
   ],
   "source": [
    "\n",
    "A = np.array([1,2,3]) # promoted to [[1,2,3]] (1,3)\n",
    "B = np.array([4,5,6]) # promoted to [[4,5,6]] (1,3)\n",
    " \n",
    "print(np.row_stack((A,B))) "
   ]
  },
  {
   "cell_type": "markdown",
   "metadata": {},
   "source": [
    "#### For more than 1 dimension arrays, row_stack looks to be same as concatenate around axis 0\n",
    "\n",
    "####  one sequence after another, symbolical example\n",
    "\n",
    "#### seq1 : x x x x x\n",
    "#### seq2 : + + + + +\n",
    "#### seq3 : o o o o o\n",
    "\n",
    "#### output: [x x x x x + + + + + o o o o o]\n",
    "\n",
    "#### Now consider the sequences as multidimensional arrays, i.e. each element in the input sequence is itself an array (maybe itself multidimensional). In this case, the same principal above would be applied : considering the outermost array as the sequence of the inner arrays : shape (2,3,4) will be sequence of two elements each one is an array with shape (3,4) (Let's name those inner arrays as A,B,C,D)\n",
    "\n",
    "#### seq1 : (3,4),(3,4) : A,B\n",
    "#### seq2 : (3,4),(3,4) : C,D\n",
    "#### output : concat(seq1,seq2) : [A,B,C,D]\n"
   ]
  },
  {
   "cell_type": "code",
   "execution_count": 167,
   "metadata": {},
   "outputs": [
    {
     "name": "stdout",
     "output_type": "stream",
     "text": [
      "[[-2 -1  0]\n",
      " [ 1  2  3]\n",
      " [ 4  5  6]\n",
      " [ 7  8  9]]\n"
     ]
    }
   ],
   "source": [
    "\n",
    "A = np.array([[-2,-1,0],[1,2,3]]) \n",
    "B = np.array([[4,5,6],[7,8,9]]) \n",
    "\n",
    "\n",
    "print(np.row_stack((A,B))) \n",
    "\n"
   ]
  },
  {
   "cell_type": "code",
   "execution_count": 126,
   "metadata": {},
   "outputs": [
    {
     "name": "stdout",
     "output_type": "stream",
     "text": [
      "A= [[[ 0  1  2  3]\n",
      "  [ 4  5  6  7]\n",
      "  [ 8  9 10 11]]\n",
      "\n",
      " [[12 13 14 15]\n",
      "  [16 17 18 19]\n",
      "  [20 21 22 23]]]\n",
      "B= [[[24 25 26 27]\n",
      "  [28 29 30 31]\n",
      "  [32 33 34 35]]\n",
      "\n",
      " [[36 37 38 39]\n",
      "  [40 41 42 43]\n",
      "  [44 45 46 47]]]\n",
      "row_stack.shape= (4, 3, 4)\n",
      "row_stack=\n",
      " [[[ 0  1  2  3]\n",
      "  [ 4  5  6  7]\n",
      "  [ 8  9 10 11]]\n",
      "\n",
      " [[12 13 14 15]\n",
      "  [16 17 18 19]\n",
      "  [20 21 22 23]]\n",
      "\n",
      " [[24 25 26 27]\n",
      "  [28 29 30 31]\n",
      "  [32 33 34 35]]\n",
      "\n",
      " [[36 37 38 39]\n",
      "  [40 41 42 43]\n",
      "  [44 45 46 47]]]\n"
     ]
    }
   ],
   "source": [
    "A = np.arange(24).reshape(2,3,4)\n",
    "print(\"A=\",A)\n",
    "\n",
    "B = np.arange(24,48).reshape(2,3,4)\n",
    "print(\"B=\",B)\n",
    "\n",
    "row_stack = np.row_stack((A,B))\n",
    "print(\"row_stack.shape=\",row_stack.shape)\n",
    "print(\"row_stack=\\n\",row_stack)\n"
   ]
  },
  {
   "cell_type": "markdown",
   "metadata": {},
   "source": [
    "#### column_stack (hstack)\n",
    "\n",
    "#### <i> stacking happens at axis 1, concat happens below the new nodes </i>\n",
    "\n",
    "#### consider column stacking similar to zip: one element from each input sequence is taken and then all of them are combined to form a single element in the output, symbolical example:\n",
    "\n",
    "####     seq1 : x x x x x\n",
    "####     seq2 : + + + + +\n",
    "####     seq3 : o o o o o\n",
    "####     output : [x + o,x + o,x + o,x + o,x + o]\n",
    "\n",
    "#### Now consider the sequences as multidimensional arrays, i.e. each element in the input sequence is itself an array (maybe itself multidimensional). In this case, the same principal above would be applied : considering the outermost array as the sequence of the inner arrays : shape (2,3,4) will be sequence of two elements each one is an array with shape (3,4) (Let's name those inner arrays as A,B,C,D)\n",
    "\n",
    "#### seq1 : (3,4),(3,4) : A,B\n",
    "#### seq2 : (3,4),(3,4) : C,D\n",
    "#### output : [concat(A ,C)],[concat(B,D)]"
   ]
  },
  {
   "cell_type": "code",
   "execution_count": 120,
   "metadata": {},
   "outputs": [
    {
     "name": "stdout",
     "output_type": "stream",
     "text": [
      "[[1 4]\n",
      " [2 5]\n",
      " [3 6]]\n"
     ]
    }
   ],
   "source": [
    "A = [1,2,3]\n",
    "B = [4,5,6]\n",
    "\n",
    "column_stack = np.column_stack((A,B))\n",
    "\n",
    "print(column_stack)"
   ]
  },
  {
   "cell_type": "code",
   "execution_count": 172,
   "metadata": {},
   "outputs": [
    {
     "name": "stdout",
     "output_type": "stream",
     "text": [
      "[[-2 -1  0  4  5  6]\n",
      " [ 1  2  3  7  8  9]]\n",
      "[[[-2 -1  0]\n",
      "  [ 4  5  6]]\n",
      "\n",
      " [[ 1  2  3]\n",
      "  [ 7  8  9]]]\n"
     ]
    }
   ],
   "source": [
    "A = np.array([[-2,-1,0],[1,2,3]]) # [A,B]\n",
    "B = np.array([[4,5,6],[7,8,9]]) # [C,D]\n",
    "\n",
    "print(np.column_stack((A,B))) \n",
    "print(np.stack((A,B),axis=1))\n",
    "# A,C\n",
    "# B,D"
   ]
  },
  {
   "cell_type": "code",
   "execution_count": 173,
   "metadata": {},
   "outputs": [
    {
     "name": "stdout",
     "output_type": "stream",
     "text": [
      "[[1 1 4 5]\n",
      " [1 2 5 5]\n",
      " [3 1 5 4]]\n",
      "[[[1 1]\n",
      "  [4 5]]\n",
      "\n",
      " [[1 2]\n",
      "  [5 5]]\n",
      "\n",
      " [[3 1]\n",
      "  [5 4]]]\n"
     ]
    }
   ],
   "source": [
    "A = np.array([[1,1],[1,2],[3,1]]) # [A,B,C]\n",
    "B = np.array([[4,5],[5,5],[5,4]]) # [D,E,F]\n",
    "\n",
    "print(np.column_stack((A,B))) \n",
    "print(np.stack((A,B),axis=1)) \n",
    "# A,D\n",
    "# B,E\n",
    "# C,F"
   ]
  },
  {
   "cell_type": "code",
   "execution_count": 154,
   "metadata": {},
   "outputs": [
    {
     "name": "stdout",
     "output_type": "stream",
     "text": [
      "A= [[[ 0  1  2  3]\n",
      "  [ 4  5  6  7]\n",
      "  [ 8  9 10 11]]\n",
      "\n",
      " [[12 13 14 15]\n",
      "  [16 17 18 19]\n",
      "  [20 21 22 23]]]\n",
      "B= [[[24 25 26 27]\n",
      "  [28 29 30 31]\n",
      "  [32 33 34 35]]\n",
      "\n",
      " [[36 37 38 39]\n",
      "  [40 41 42 43]\n",
      "  [44 45 46 47]]]\n",
      "column_stack.shape= (2, 6, 4)\n",
      "column_stack=\n",
      " [[[ 0  1  2  3]\n",
      "  [ 4  5  6  7]\n",
      "  [ 8  9 10 11]\n",
      "  [24 25 26 27]\n",
      "  [28 29 30 31]\n",
      "  [32 33 34 35]]\n",
      "\n",
      " [[12 13 14 15]\n",
      "  [16 17 18 19]\n",
      "  [20 21 22 23]\n",
      "  [36 37 38 39]\n",
      "  [40 41 42 43]\n",
      "  [44 45 46 47]]]\n"
     ]
    }
   ],
   "source": [
    "A = np.arange(24).reshape(2,3,4) # [P,Q] # both P and Q are arrays of shapes (3,4)\n",
    "print(\"A=\",A) \n",
    "\n",
    "B = np.arange(24,48).reshape(2,3,4) # [X,Y] # both X and Y are arrays of shapes (3,4)\n",
    "print(\"B=\",B)\n",
    "\n",
    "column_stack = np.column_stack((A,B))\n",
    "print(\"column_stack.shape=\",column_stack.shape) # (2,6,4) : sum of the second dimensions (3+3)\n",
    "print(\"column_stack=\\n\",column_stack)\n",
    "\n",
    "# [concat(P,X),concat(Q,Y)]\n",
    "\n",
    "\n"
   ]
  },
  {
   "cell_type": "markdown",
   "metadata": {},
   "source": [
    "#### dstack\n",
    "\n",
    "#### Stack arrays in sequence depth wise (along third axis).\n",
    "\n",
    "#### This is equivalent to concatenation along the third axis after 2-D arrays of shape (M,N) have been reshaped to (M,N,1) and 1-D arrays of shape (N,) have been reshaped to (1,N,1)."
   ]
  },
  {
   "cell_type": "code",
   "execution_count": 131,
   "metadata": {},
   "outputs": [
    {
     "name": "stdout",
     "output_type": "stream",
     "text": [
      "[[[1 4]\n",
      "  [2 5]\n",
      "  [3 6]]]\n"
     ]
    }
   ],
   "source": [
    "\n",
    "A = np.array([1,2,3]) # reshaped to (1,3,1): [[[1],[2],[3]]]\n",
    "B = np.array([4,5,6]) # reshaped to (1,3,1): [[[4],[5],[6]]]\n",
    "\n",
    "# concatenate at the third axis : concat([1],[4]) = [1,4]\n",
    "print(np.dstack((A,B)))"
   ]
  },
  {
   "cell_type": "code",
   "execution_count": 132,
   "metadata": {},
   "outputs": [
    {
     "name": "stdout",
     "output_type": "stream",
     "text": [
      "[[[-2  4]\n",
      "  [-1  5]\n",
      "  [ 0  6]]\n",
      "\n",
      " [[ 1  7]\n",
      "  [ 2  8]\n",
      "  [ 3  9]]]\n"
     ]
    }
   ],
   "source": [
    "A = np.array([[-2,-1,0],[1,2,3]]) # reshaped to (2,3,1) : [[[-2],[-1],[0]],[[1],[2],[3]]]\n",
    "B = np.array([[4,5,6],[7,8,9]]) # reshaped to (2,3,1) : [[[4],[5],[6]],[[7],[8],[9]]]\n",
    "\n",
    "# concatenate at the third axis : concat([-2],[4]) = [-2,4]\n",
    "print(np.dstack((A,B))) "
   ]
  },
  {
   "cell_type": "code",
   "execution_count": 136,
   "metadata": {},
   "outputs": [
    {
     "name": "stdout",
     "output_type": "stream",
     "text": [
      "[[[1 4]\n",
      "  [1 5]]\n",
      "\n",
      " [[1 5]\n",
      "  [2 5]]\n",
      "\n",
      " [[3 5]\n",
      "  [1 4]]]\n"
     ]
    }
   ],
   "source": [
    "A = np.array([[1,1],[1,2],[3,1]])  # reshaped to (3,2,1) : [[[1],[1]],[[1],[2]],[[3],[1]]]\n",
    "B = np.array([[4,5],[5,5],[5,4]])  # reshaped to (3,2,1) : [[[4],[5]],[[5],[5]],[[5],[4]]]\n",
    "\n",
    "\n",
    "# concatenate at the third axis : concat([1],[4]) = [1,4]\n",
    "print(np.dstack((A,B))) "
   ]
  },
  {
   "cell_type": "code",
   "execution_count": 146,
   "metadata": {},
   "outputs": [
    {
     "name": "stdout",
     "output_type": "stream",
     "text": [
      "A= [[[ 0  1  2  3]\n",
      "  [ 4  5  6  7]\n",
      "  [ 8  9 10 11]]\n",
      "\n",
      " [[12 13 14 15]\n",
      "  [16 17 18 19]\n",
      "  [20 21 22 23]]]\n",
      "B= [[[24 25 26 27]\n",
      "  [28 29 30 31]\n",
      "  [32 33 34 35]]\n",
      "\n",
      " [[36 37 38 39]\n",
      "  [40 41 42 43]\n",
      "  [44 45 46 47]]]\n",
      "dstack.shape= (2, 3, 8)\n",
      "dstack=\n",
      " [[[ 0  1  2  3 24 25 26 27]\n",
      "  [ 4  5  6  7 28 29 30 31]\n",
      "  [ 8  9 10 11 32 33 34 35]]\n",
      "\n",
      " [[12 13 14 15 36 37 38 39]\n",
      "  [16 17 18 19 40 41 42 43]\n",
      "  [20 21 22 23 44 45 46 47]]]\n"
     ]
    }
   ],
   "source": [
    "A = np.arange(24).reshape(2,3,4) \n",
    "print(\"A=\",A) \n",
    "\n",
    "B = np.arange(24,48).reshape(2,3,4) \n",
    "print(\"B=\",B)\n",
    "\n",
    "# concatenate at the third axis : cancat([ 0  1  2  3],[24 25 26 27]) = [0  1  2  3 24 25 26 27]\n",
    "\n",
    "the_dstack = np.dstack((A,B))\n",
    "print(\"dstack.shape=\",the_dstack.shape) \n",
    "print(\"dstack=\\n\",the_dstack)"
   ]
  },
  {
   "cell_type": "markdown",
   "metadata": {},
   "source": [
    "#### stack\n",
    "\n",
    "#### Consider the arrays as trees\n",
    "\n",
    "#### The trees are combined at differenrt levels (level is decided by the axis param)\n",
    "\n",
    "#### notice the place of '2' in the stacking result\n",
    "\n",
    "#### stack((1,3,4) , (1,3,4), axis=0) = (2,1,3,4) :  a new array at axis 0 which contains both the input arrays\n",
    "\n",
    "#### stack((1,3,4) , (1,3,4), axis=1) = (1,2,3,4) :  a new array at axis 1 which contains one element [ an array of shape (3,4)] from each of the two arrays of shape (1,3,4)\n",
    "\n",
    "#### stack((1,3,4) , (1,3,4), axis=2) = (1,3,2,4) :  a new array at axis 2 which contains one element [ an array of shape (4)] from each of the two arrays of shape (3,4) \n",
    "\n",
    "#### stack((1,3,4) , (1,3,4), axis=3) = (1,3,4,2) :  a new array at axis 3 which contains one element [ a single element] from each of the two arrays of shape 4"
   ]
  },
  {
   "cell_type": "code",
   "execution_count": 157,
   "metadata": {},
   "outputs": [
    {
     "name": "stdout",
     "output_type": "stream",
     "text": [
      "A= [[[ 0  1  2  3]\n",
      "  [ 4  5  6  7]\n",
      "  [ 8  9 10 11]]]\n",
      "B= [[[12 13 14 15]\n",
      "  [16 17 18 19]\n",
      "  [20 21 22 23]]]\n",
      "AXIS= 0\n",
      "stacked.shape= (2, 1, 3, 4)\n",
      "stacked=\n",
      " [[[[ 0  1  2  3]\n",
      "   [ 4  5  6  7]\n",
      "   [ 8  9 10 11]]]\n",
      "\n",
      "\n",
      " [[[12 13 14 15]\n",
      "   [16 17 18 19]\n",
      "   [20 21 22 23]]]]\n",
      "AXIS= 1\n",
      "stacked.shape= (1, 2, 3, 4)\n",
      "stacked=\n",
      " [[[[ 0  1  2  3]\n",
      "   [ 4  5  6  7]\n",
      "   [ 8  9 10 11]]\n",
      "\n",
      "  [[12 13 14 15]\n",
      "   [16 17 18 19]\n",
      "   [20 21 22 23]]]]\n",
      "AXIS= 2\n",
      "stacked.shape= (1, 3, 2, 4)\n",
      "stacked=\n",
      " [[[[ 0  1  2  3]\n",
      "   [12 13 14 15]]\n",
      "\n",
      "  [[ 4  5  6  7]\n",
      "   [16 17 18 19]]\n",
      "\n",
      "  [[ 8  9 10 11]\n",
      "   [20 21 22 23]]]]\n",
      "AXIS= 3\n",
      "stacked.shape= (1, 3, 4, 2)\n",
      "stacked=\n",
      " [[[[ 0 12]\n",
      "   [ 1 13]\n",
      "   [ 2 14]\n",
      "   [ 3 15]]\n",
      "\n",
      "  [[ 4 16]\n",
      "   [ 5 17]\n",
      "   [ 6 18]\n",
      "   [ 7 19]]\n",
      "\n",
      "  [[ 8 20]\n",
      "   [ 9 21]\n",
      "   [10 22]\n",
      "   [11 23]]]]\n"
     ]
    }
   ],
   "source": [
    "A = np.arange(12).reshape(1,3,4) \n",
    "print(\"A=\",A) \n",
    "\n",
    "B = np.arange(12,24).reshape(1,3,4) \n",
    "print(\"B=\",B)\n",
    "\n",
    "for ax in range(4):\n",
    "    print(\"AXIS=\",ax)\n",
    "    stacked = np.stack((A,B),axis=ax)\n",
    "    print(\"stacked.shape=\",stacked.shape)\n",
    "    print(\"stacked=\\n\",stacked)"
   ]
  },
  {
   "cell_type": "code",
   "execution_count": 160,
   "metadata": {},
   "outputs": [
    {
     "name": "stdout",
     "output_type": "stream",
     "text": [
      "A= [[ 0  1  2  3]\n",
      " [ 4  5  6  7]\n",
      " [ 8  9 10 11]]\n",
      "B= [[12 13 14 15]\n",
      " [16 17 18 19]\n",
      " [20 21 22 23]]\n",
      "AXIS= 0\n",
      "stacked.shape= (2, 3, 4)\n",
      "stacked=\n",
      " [[[ 0  1  2  3]\n",
      "  [ 4  5  6  7]\n",
      "  [ 8  9 10 11]]\n",
      "\n",
      " [[12 13 14 15]\n",
      "  [16 17 18 19]\n",
      "  [20 21 22 23]]]\n",
      "AXIS= 1\n",
      "stacked.shape= (3, 2, 4)\n",
      "stacked=\n",
      " [[[ 0  1  2  3]\n",
      "  [12 13 14 15]]\n",
      "\n",
      " [[ 4  5  6  7]\n",
      "  [16 17 18 19]]\n",
      "\n",
      " [[ 8  9 10 11]\n",
      "  [20 21 22 23]]]\n",
      "AXIS= 2\n",
      "stacked.shape= (3, 4, 2)\n",
      "stacked=\n",
      " [[[ 0 12]\n",
      "  [ 1 13]\n",
      "  [ 2 14]\n",
      "  [ 3 15]]\n",
      "\n",
      " [[ 4 16]\n",
      "  [ 5 17]\n",
      "  [ 6 18]\n",
      "  [ 7 19]]\n",
      "\n",
      " [[ 8 20]\n",
      "  [ 9 21]\n",
      "  [10 22]\n",
      "  [11 23]]]\n"
     ]
    }
   ],
   "source": [
    "A = np.arange(12).reshape(3,4) \n",
    "print(\"A=\",A) \n",
    "\n",
    "B = np.arange(12,24).reshape(3,4) \n",
    "print(\"B=\",B)\n",
    "\n",
    "for ax in range(3):\n",
    "    print(\"AXIS=\",ax)\n",
    "    stacked = np.stack((A,B),axis=ax)\n",
    "    print(\"stacked.shape=\",stacked.shape)\n",
    "    print(\"stacked=\\n\",stacked)"
   ]
  },
  {
   "cell_type": "code",
   "execution_count": 161,
   "metadata": {},
   "outputs": [
    {
     "name": "stdout",
     "output_type": "stream",
     "text": [
      "A= [0 1 2]\n",
      "B= [3 4 5]\n",
      "AXIS= 0\n",
      "stacked.shape= (2, 3)\n",
      "stacked=\n",
      " [[0 1 2]\n",
      " [3 4 5]]\n",
      "AXIS= 1\n",
      "stacked.shape= (3, 2)\n",
      "stacked=\n",
      " [[0 3]\n",
      " [1 4]\n",
      " [2 5]]\n"
     ]
    }
   ],
   "source": [
    "A = np.arange(3)\n",
    "print(\"A=\",A) \n",
    "\n",
    "B = np.arange(3,6)\n",
    "print(\"B=\",B)\n",
    "\n",
    "for ax in range(2):\n",
    "    print(\"AXIS=\",ax)\n",
    "    stacked = np.stack((A,B),axis=ax)\n",
    "    print(\"stacked.shape=\",stacked.shape)\n",
    "    print(\"stacked=\\n\",stacked)"
   ]
  },
  {
   "cell_type": "code",
   "execution_count": null,
   "metadata": {},
   "outputs": [],
   "source": []
  }
 ],
 "metadata": {
  "kernelspec": {
   "display_name": "Python 3",
   "language": "python",
   "name": "python3"
  },
  "language_info": {
   "codemirror_mode": {
    "name": "ipython",
    "version": 3
   },
   "file_extension": ".py",
   "mimetype": "text/x-python",
   "name": "python",
   "nbconvert_exporter": "python",
   "pygments_lexer": "ipython3",
   "version": "3.6.4"
  }
 },
 "nbformat": 4,
 "nbformat_minor": 2
}
