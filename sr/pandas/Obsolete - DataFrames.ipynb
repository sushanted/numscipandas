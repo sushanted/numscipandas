{
 "cells": [
  {
   "cell_type": "code",
   "execution_count": null,
   "metadata": {},
   "outputs": [],
   "source": [
    "import numpy as np;\n",
    "import pandas as pd;"
   ]
  },
  {
   "cell_type": "markdown",
   "metadata": {},
   "source": [
    "### Note : \n",
    "Consider Series as a Java Map with values of a specific data type e.g. ```Map<String,Integer>, Map<String,String>```\n",
    "and keys which are called as index in pandas.\n",
    "A DataFrame is collection of Series (each series with it's specific data type for value) and each series having the same/similar index.\n",
    "With Java analogy DataFrame is a group of Maps having same keys but different value data types, each column in the dataframe represents a Map (more specifically values in the Map)\n",
    "\n",
    "__Java represenation__\n",
    "\n",
    "```java\n",
    "Map<String,Float> population = new HashMap<String, Float>(){\n",
    "\t\t{\n",
    "\t\t\tput(\"Mumbai\",1.84f);\n",
    "\t\t\tput(\"Delhi\",1.9f);\n",
    "\t\t\tput(\"Pune\",0.31f);\n",
    "\t\t}\n",
    "\t};\n",
    "\t\n",
    "\tMap<String,Integer> area = new HashMap<String, Integer>(){\n",
    "\t\t{\n",
    "\t\t\tput(\"Mumbai\",603);\n",
    "\t\t\tput(\"Delhi\",1484);\n",
    "\t\t\tput(\"Pune\",331);\n",
    "\t\t}\n",
    "\t};\n",
    "\t\n",
    "\tMap<String,String> state = new HashMap<String, String>(){\n",
    "\t\t{\n",
    "\t\t\tput(\"Mumbai\",\"Maharashtra\");\n",
    "\t\t\tput(\"Delhi\",\"Central\");\n",
    "\t\t\tput(\"Pune\",\"Maharashtra\");\n",
    "\t\t}\n",
    "\t};\n",
    "```\n",
    "\n",
    "__Python represenation:__\n",
    "\n",
    "```python\n",
    "cities = {\n",
    "    'population':{'Delhi':1.9,'Pune':0.31,'Mumbai':1.84},\n",
    "    'area':{'Delhi':1484,'Pune':331,'Mumbai':603},\n",
    "    'state':{'Delhi':'Central','Pune':'Maharashtra','Mumbai':'Maharashtra'}\n",
    "}\n",
    "```\n",
    "\n",
    "With MS Excel analogy, Dataframe is a worksheet, index is an index column(left most bold column ;)) and other columns as excel columns having same data-type values.\n",
    "\n",
    "\n",
    "__Excel representation:__\n",
    "\n",
    "\n",
    "\n",
    "city|area|\tpopulation\t|state\n",
    "-|-|-|-\n",
    "Delhi|1484|1.90|Central\n",
    "Mumbai|603|1.84|Maharashtra\n",
    "Pune|331|0.31|Maharashtra\n",
    "\n",
    "\n",
    "__Database representation:__\n",
    "\n",
    "<pre>\n",
    "CREATE TABLE CITIES(\n",
    "city VARCHAR,\n",
    "area NUMBER,\n",
    "population NUMBER,\n",
    "state VARCHAR\n",
    ");\n",
    "</pre>"
   ]
  },
  {
   "cell_type": "markdown",
   "metadata": {},
   "source": [
    "## DDL"
   ]
  },
  {
   "cell_type": "markdown",
   "metadata": {},
   "source": [
    "### DataFrame creation"
   ]
  },
  {
   "cell_type": "code",
   "execution_count": null,
   "metadata": {
    "scrolled": true
   },
   "outputs": [],
   "source": [
    "# Naming a series\n",
    "pune = pd.Series(dict(apple=30,mango=45,banana=67))\n",
    "pune.name = \"Pune\"\n",
    "print(pune)\n",
    "print(pune.name)"
   ]
  },
  {
   "cell_type": "markdown",
   "metadata": {},
   "source": [
    "####  concatenating multiple series"
   ]
  },
  {
   "cell_type": "code",
   "execution_count": null,
   "metadata": {},
   "outputs": [],
   "source": [
    "\n",
    "mumbai = pd.Series(dict(apple=30,mango=45,banana=67))\n",
    "kolkata = pd.Series(dict(apple=32,mango=90,banana=34))\n",
    "delhi = pd.Series(dict(apple=20,mango=94,banana=45))\n",
    "\n",
    "# axis should be 1, else the contents will be merged into a single series\n",
    "fruits_df = pd.concat([mumbai,kolkata,delhi],axis=1)\n",
    "\n",
    "print(type(fruits_df))\n",
    "\n",
    "fruits_df"
   ]
  },
  {
   "cell_type": "code",
   "execution_count": null,
   "metadata": {},
   "outputs": [],
   "source": [
    "# assign column names\n",
    "fruits_df.columns = ['Mumbai','Kolkata','Delhi']\n",
    "\n",
    "mumbai.name = \"MUMBAI\" # This won't take effect because dataFrame has already been created\n",
    "\n",
    "fruits_df"
   ]
  },
  {
   "cell_type": "code",
   "execution_count": null,
   "metadata": {},
   "outputs": [],
   "source": [
    "# Another way to assign column names : assign names to series BEFORE concatenation\n",
    "\n",
    "\n",
    "mumbai.name = \"Mumbai\"\n",
    "kolkata.name = \"Kolkata\"\n",
    "delhi.name = \"Delhi\"\n",
    "\n",
    "pd.concat([mumbai,delhi,kolkata],axis=1)"
   ]
  },
  {
   "cell_type": "markdown",
   "metadata": {},
   "source": [
    "#### From list of series : when it (outer) is a list, every element in the list is a row"
   ]
  },
  {
   "cell_type": "code",
   "execution_count": null,
   "metadata": {},
   "outputs": [],
   "source": [
    "pd.DataFrame([mumbai,kolkata]) # Each series becomes a row"
   ]
  },
  {
   "cell_type": "markdown",
   "metadata": {},
   "source": [
    "#### From list of lists : when it (outer) is a list, every element in the list is a row"
   ]
  },
  {
   "cell_type": "code",
   "execution_count": null,
   "metadata": {},
   "outputs": [],
   "source": [
    "# The 2d array would look like the DataFrame when punctuations(,[,]) are removed\n",
    "\n",
    "temperatures = [\n",
    "    [20,32,32],# Row1\n",
    "    [35,40,40],# Row2\n",
    "    [10,10,30],# Row3\n",
    "]\n",
    "\n",
    "pd.DataFrame(temperatures)"
   ]
  },
  {
   "cell_type": "code",
   "execution_count": null,
   "metadata": {},
   "outputs": [],
   "source": [
    "# From random array\n",
    "\n",
    "pd.DataFrame(\n",
    "    np.random.choice(range(1,32),size=(7,4),replace=False),\n",
    "    index=['S','M','T','W','T','F','S'],\n",
    "    columns=('week '+str(i) for i in range(4))\n",
    ")"
   ]
  },
  {
   "cell_type": "markdown",
   "metadata": {},
   "source": [
    "#### From list of dictionaries : when it (outer) is a list, every element in the list is a row"
   ]
  },
  {
   "cell_type": "code",
   "execution_count": null,
   "metadata": {},
   "outputs": [],
   "source": [
    "# This is a little strange\n",
    "# The array would look like the DataFrame when punctuations(,[,]) are removed\n",
    "# Column names derived from keys in the dictionaries\n",
    "\n",
    "temperatures = [# Columns are named\n",
    "    {'Bengaluru':20,'Delhi':32,'Mumbai':32}, # Row1\n",
    "    {'Bengaluru':35,'Delhi':40,'Mumbai':40}, # Row2\n",
    "    {'Bengaluru':10,'Delhi':10,'Mumbai':30}, # Row3\n",
    "]\n",
    "\n",
    "pd.DataFrame(temperatures)"
   ]
  },
  {
   "cell_type": "markdown",
   "metadata": {},
   "source": [
    "#### From dictionary of lists : when it (outer) is a dictionary, every key is a column"
   ]
  },
  {
   "cell_type": "code",
   "execution_count": null,
   "metadata": {},
   "outputs": [],
   "source": [
    "# Column names from the keys in the dictionaries\n",
    "\n",
    "temperatures = {\n",
    "    \"Bengaluru\":[20,35,10],# Column1\n",
    "    \"Delhi\":[32,40,10], # Column2\n",
    "    \"Mumbai\":[32,40,30], # Column3\n",
    "}\n",
    "\n",
    "pd.DataFrame(temperatures)"
   ]
  },
  {
   "cell_type": "markdown",
   "metadata": {},
   "source": [
    "#### From dictionary of dictionaries : when it (outer) is a dictionary, every key is a column"
   ]
  },
  {
   "cell_type": "code",
   "execution_count": null,
   "metadata": {},
   "outputs": [],
   "source": [
    "# Column names from the keys in outer dictioanry and index from the inner dictionary\n",
    "# Logically most dictionaries have same data-type elements, so analogous to an excel/db column\n",
    "\n",
    "temperatures = {\n",
    "    \"Bengaluru\" : {'rain':20,'summer':35,'winter':10}, # Column1\n",
    "    \"Delhi\" : {'rain':32,'summer':40,'winter':10}, # Column2\n",
    "    \"Mumbai\" : {'rain':32,'summer':40,'winter':30}, # Column3\n",
    "}\n",
    "\n",
    "pd.DataFrame(temperatures)"
   ]
  },
  {
   "cell_type": "markdown",
   "metadata": {},
   "source": [
    "### Index and Column arrangement"
   ]
  },
  {
   "cell_type": "markdown",
   "metadata": {},
   "source": [
    "#### Reorder the columns/index while frame creation"
   ]
  },
  {
   "cell_type": "code",
   "execution_count": null,
   "metadata": {},
   "outputs": [],
   "source": [
    "temperatures = {\n",
    "    \"Bengaluru\" : {'rain':20,'summer':35,'winter':10}, # Column1\n",
    "    \"Delhi\" : {'rain':32,'summer':40,'winter':10}, # Column2\n",
    "    \"Mumbai\" : {'rain':32,'summer':40,'winter':30}, # Column3\n",
    "}\n",
    "\n",
    "# Columns are already named in the data, we just re-order them, if given differnt name it becomes a NaN column\n",
    "temperatures_frame = pd.DataFrame(temperatures\n",
    "             ,index=['winter','rain','summer']\n",
    "             ,columns=['Mumbai','Delhi','Bengaluru']\n",
    ")\n",
    "\n",
    "temperatures_frame"
   ]
  },
  {
   "cell_type": "markdown",
   "metadata": {},
   "source": [
    " #### Name the columns/index while frame creation"
   ]
  },
  {
   "cell_type": "code",
   "execution_count": null,
   "metadata": {},
   "outputs": [],
   "source": [
    "temperatures = [\n",
    "    [27,33,35,42,41,43,34,35,37,41,26,23],\n",
    "    [9,10,35,42,41,43,34,35,37,38,12,8],\n",
    "    [9,10,30,34,36,35,30,28,22,27,12,8]\n",
    "]\n",
    "\n",
    "\n",
    "# Note : While creating this data-frame we are just naming the index and columns (in case of list-of-dict,\n",
    "# dict-of-list,dict-of-dict \n",
    "# columns/index could be already named, in those cases we just re-order while creation)\n",
    "temperatures_frame = pd.DataFrame(temperatures\n",
    "             ,columns=['Jan','Feb','Mar','Apr','May','Jun','Jul','Aug','Sep','Oct','Nov','Dec']\n",
    "             ,index=['Mumbai','Delhi','Bengaluru']\n",
    "            \n",
    ")\n",
    "\n",
    "temperatures_frame\n",
    "\n",
    "\n"
   ]
  },
  {
   "cell_type": "markdown",
   "metadata": {},
   "source": [
    "#### Reindexing : only re-order the column/index"
   ]
  },
  {
   "cell_type": "code",
   "execution_count": null,
   "metadata": {
    "scrolled": true
   },
   "outputs": [],
   "source": [
    "# Re-indexing : Change/Drop the index/columns and/or change their order\n",
    "\n",
    "# This gives out a new dataFrame\n",
    "temperatures_frame.reindex(columns=['Dec','May','Jul','Oct'],index=['Bengaluru','Mumbai'])\n",
    "\n"
   ]
  },
  {
   "cell_type": "code",
   "execution_count": null,
   "metadata": {},
   "outputs": [],
   "source": [
    "# This is same as above, as reindex anyways give out a new dataFrame\n",
    "\n",
    "pd.DataFrame(temperatures_frame,columns=['Dec','May','Jul','Oct'],index=['Bengaluru','Mumbai'])"
   ]
  },
  {
   "cell_type": "markdown",
   "metadata": {},
   "source": [
    "#### Renaming column/index : provide maps (old=>new) for renaming"
   ]
  },
  {
   "cell_type": "code",
   "execution_count": null,
   "metadata": {},
   "outputs": [],
   "source": [
    "temperatures_frame.rename(index={'Mumbai':'Mum'},columns={'Jan':'January','Oct':'October'},inplace=True)\n",
    "temperatures_frame"
   ]
  },
  {
   "cell_type": "markdown",
   "metadata": {},
   "source": [
    "#### Existing column as index "
   ]
  },
  {
   "cell_type": "code",
   "execution_count": null,
   "metadata": {},
   "outputs": [],
   "source": [
    "\n",
    "cities = {\n",
    "    'name':['Delhi','Pune','Mumbai'],\n",
    "    'population':[1.9,0.31,1.84],\n",
    "    'area':[1484,331,603],\n",
    "    'state':['Central','Maharashtra','Maharashtra']\n",
    "}\n"
   ]
  },
  {
   "cell_type": "code",
   "execution_count": null,
   "metadata": {},
   "outputs": [],
   "source": [
    "pd.DataFrame(cities)"
   ]
  },
  {
   "cell_type": "code",
   "execution_count": null,
   "metadata": {},
   "outputs": [],
   "source": [
    "# A nice idea to use an existing column as index\n",
    "\n",
    "pd.DataFrame(cities,\n",
    "             index=cities['name'], # This gives all the city names\n",
    "             columns=cities.keys()-['name'] # Now exclude the 'name' column as it is already the index column\n",
    "            )"
   ]
  },
  {
   "cell_type": "code",
   "execution_count": null,
   "metadata": {},
   "outputs": [],
   "source": [
    "# Another inplace and simpler way to set existing column as index\n",
    "\n",
    "cities_frame = pd.DataFrame(cities)\n",
    "cities_frame.set_index('name',inplace=True)\n",
    "cities_frame"
   ]
  },
  {
   "cell_type": "markdown",
   "metadata": {},
   "source": [
    "#### Insert new columns "
   ]
  },
  {
   "cell_type": "code",
   "execution_count": null,
   "metadata": {},
   "outputs": [],
   "source": [
    "# alter table add column region \n",
    "cities_with_regions = cities_frame.copy(deep=True)\n",
    "cities_with_regions.insert(1,'region',None)\n",
    "cities_with_regions"
   ]
  },
  {
   "cell_type": "code",
   "execution_count": null,
   "metadata": {},
   "outputs": [],
   "source": [
    "# alter table add column region default True\n",
    "cities_with_it = cities_frame.copy(deep=True)\n",
    "cities_with_it.insert(2,'it',True)\n",
    "cities_with_it"
   ]
  },
  {
   "cell_type": "code",
   "execution_count": null,
   "metadata": {},
   "outputs": [],
   "source": [
    "# new column value derived from an existing column\n",
    "# alter table add column region default ....\n",
    "cities_with_readable_population = cities_frame.copy(deep=True)\n",
    "cities_with_readable_population.insert(\n",
    "    loc=3,\n",
    "    column='readable population',\n",
    "    value = cities_with_readable_population.population.apply(lambda p : str(p)+' lacs')\n",
    ")\n",
    "cities_with_readable_population"
   ]
  },
  {
   "cell_type": "markdown",
   "metadata": {},
   "source": [
    "## DQL"
   ]
  },
  {
   "cell_type": "code",
   "execution_count": null,
   "metadata": {},
   "outputs": [],
   "source": [
    "cities = {\n",
    "    'population':[1.9,0.31,1.84],\n",
    "    'area':[1484,331,603],\n",
    "    'state':['Delhi','Maharashtra','Maharashtra']\n",
    "}\n",
    "\n",
    "pd.DataFrame(cities,index=['Delhi','Pune','Mumbai'])\n",
    "\n"
   ]
  },
  {
   "cell_type": "code",
   "execution_count": null,
   "metadata": {},
   "outputs": [],
   "source": [
    "# Each column is a series\n",
    "\n",
    "print(type(cities_frame.area))\n",
    "cities_frame.area\n"
   ]
  },
  {
   "cell_type": "code",
   "execution_count": null,
   "metadata": {},
   "outputs": [],
   "source": [
    "# Each index is also a series (with columns as index)\n",
    "\n",
    "print(type(cities_frame.loc['Delhi']))\n",
    "print(cities_frame.loc['Delhi'].index)\n",
    "cities_frame.loc['Delhi']"
   ]
  },
  {
   "cell_type": "markdown",
   "metadata": {},
   "source": [
    "### Note :  \n",
    "Important to understand that the operations on dataFrames give back another dataFrames/Series. And further operations can be applied on the results (chaining)"
   ]
  },
  {
   "cell_type": "markdown",
   "metadata": {},
   "source": [
    "#### Projection"
   ]
  },
  {
   "cell_type": "code",
   "execution_count": null,
   "metadata": {},
   "outputs": [],
   "source": [
    "cities_frame['area']"
   ]
  },
  {
   "cell_type": "code",
   "execution_count": null,
   "metadata": {},
   "outputs": [],
   "source": [
    "cities_frame.area # same as above"
   ]
  },
  {
   "cell_type": "code",
   "execution_count": null,
   "metadata": {},
   "outputs": [],
   "source": [
    "cities_frame[['area','population']] # select area,population from cities"
   ]
  },
  {
   "cell_type": "code",
   "execution_count": null,
   "metadata": {},
   "outputs": [],
   "source": [
    "# Apply function on each row : apply is done on the series\n",
    "cities_frame.population.apply(np.log10) # select log10(population) from cities"
   ]
  },
  {
   "cell_type": "code",
   "execution_count": null,
   "metadata": {},
   "outputs": [],
   "source": [
    "# population density\n",
    "# select population*100000/area from cities where index in ('Delhi','Pune')\n",
    "(cities_frame.population*100000/cities_frame.area)[['Delhi','Pune']]"
   ]
  },
  {
   "cell_type": "markdown",
   "metadata": {},
   "source": [
    "### Note : \n",
    "<ul>apply : the provided function works on each index(row) of the dataFrame\n",
    "<li>if the result of the operation on each index is a scalar, 'apply' outputs a series\n",
    "<li>if the result of the operation on each index is a series, 'apply' outputs a dataFrame with each vector result represented as series as index.\n",
    "<li>if the result of the operation on each index is a list (of same cardinality as each index in the dataFrame), 'apply' outputs a dataFrame with each vector result represented as series as index.\n",
    "</ul>"
   ]
  },
  {
   "cell_type": "code",
   "execution_count": null,
   "metadata": {},
   "outputs": [],
   "source": [
    "# The output of lambda is the modified series, so final output of apply is a dataFrame\n",
    "cities_frame.apply(lambda series : series.apply(lambda value : value.upper() if type(value)==str else value),axis=1)"
   ]
  },
  {
   "cell_type": "code",
   "execution_count": null,
   "metadata": {},
   "outputs": [],
   "source": [
    "# [0,0,None] has same cardinality(3) as Delhi,Pune and Mumbai\n",
    "cities_frame.apply(lambda series : [0,0,None],axis=1)"
   ]
  },
  {
   "cell_type": "code",
   "execution_count": null,
   "metadata": {},
   "outputs": [],
   "source": [
    "# [0,0,0,0] has different cardinality(4) than Delhi,Pune and Mumbai\n",
    "cities_frame.apply(lambda series : [0,0,0,0],axis=1)"
   ]
  },
  {
   "cell_type": "code",
   "execution_count": null,
   "metadata": {},
   "outputs": [],
   "source": [
    "# This is same as above example of population density\n",
    "# select population*100000/area from cities where index in ('Delhi','Pune')\n",
    "cities_frame.apply(lambda series : series.population*100000/series.area,axis=1)[['Delhi','Pune']]"
   ]
  },
  {
   "cell_type": "code",
   "execution_count": null,
   "metadata": {},
   "outputs": [],
   "source": [
    "# select area||' sq.kms',population||' lakhs' from cities\n",
    "\n",
    "cities_frame[['area','population']] \\\n",
    ".apply(lambda series : [str(series.area)+' sq.kms',str(series.population)+' lakhs'],axis=1)"
   ]
  },
  {
   "cell_type": "code",
   "execution_count": null,
   "metadata": {},
   "outputs": [],
   "source": [
    "cities_frame[['area','population']]  \\\n",
    ".apply(lambda series : series.area,axis=1)"
   ]
  },
  {
   "cell_type": "markdown",
   "metadata": {},
   "source": [
    "#### Selection (where clause) "
   ]
  },
  {
   "cell_type": "code",
   "execution_count": null,
   "metadata": {},
   "outputs": [],
   "source": [
    "cities_frame.loc['Delhi']  # Where index='Delhi'"
   ]
  },
  {
   "cell_type": "code",
   "execution_count": null,
   "metadata": {},
   "outputs": [],
   "source": [
    "cities_frame.loc[['Delhi','Pune']] # Where index in ('Delhi','Pune')"
   ]
  },
  {
   "cell_type": "code",
   "execution_count": null,
   "metadata": {},
   "outputs": [],
   "source": [
    "cities_frame.loc[cities_frame.area>600] # Note : cities_frame.area>600 is a bool series"
   ]
  },
  {
   "cell_type": "markdown",
   "metadata": {},
   "source": [
    "#### Projection + Selection"
   ]
  },
  {
   "cell_type": "code",
   "execution_count": null,
   "metadata": {},
   "outputs": [],
   "source": [
    "cities_frame[['state','population']].loc[cities_frame.area>600] # select state,population from cities where area>600"
   ]
  },
  {
   "cell_type": "code",
   "execution_count": null,
   "metadata": {},
   "outputs": [],
   "source": [
    "cities_frame.loc[cities_frame.area>600][['state','population']] # select state,population from cities where area>600"
   ]
  },
  {
   "cell_type": "code",
   "execution_count": null,
   "metadata": {},
   "outputs": [],
   "source": [
    "# select area from cities where name = 'Delhi'\n",
    "cities_frame.loc['Delhi','area'] # Note first param is index and second param is column"
   ]
  },
  {
   "cell_type": "code",
   "execution_count": null,
   "metadata": {},
   "outputs": [],
   "source": [
    "# select area from cities where name = 'Delhi'\n",
    "cities_frame.at['Delhi','area']"
   ]
  },
  {
   "cell_type": "markdown",
   "metadata": {},
   "source": [
    "#### Note : Use 'at' if you only need to get or set a single value in a DataFrame or Series.\" \n",
    "#### loc on the other hand can be used to access a single value but also to access a group \n",
    "#### of rows and columns by a label or labels.\n",
    "#### When it comes to speed the answer is clear: we should definitely use at."
   ]
  },
  {
   "cell_type": "code",
   "execution_count": null,
   "metadata": {},
   "outputs": [],
   "source": [
    "# select area where name in ('Delhi','Mumbai')\n",
    "cities_frame.loc[['Delhi','Mumbai'],'area']"
   ]
  },
  {
   "cell_type": "code",
   "execution_count": null,
   "metadata": {},
   "outputs": [],
   "source": [
    "# select state, population from cities where area > 600\n",
    "cities_frame.loc[cities_frame.area>600,['state','population']]"
   ]
  },
  {
   "cell_type": "code",
   "execution_count": null,
   "metadata": {},
   "outputs": [],
   "source": [
    "# Nested query\n",
    "# select * from cities where area>600 (select * from cities where state='Maharashtra')\n",
    "cities_frame.loc[cities_frame.area>600].loc[cities_frame.state=='Maharashtra'] "
   ]
  },
  {
   "cell_type": "markdown",
   "metadata": {},
   "source": [
    "#### Order by"
   ]
  },
  {
   "cell_type": "code",
   "execution_count": null,
   "metadata": {},
   "outputs": [],
   "source": [
    "# select state,population from cities order by state desc, population asc\n",
    "\n",
    "cities_frame.sort_values(by=['state','population'],ascending=[False,True])[['state','population']]"
   ]
  },
  {
   "cell_type": "markdown",
   "metadata": {},
   "source": [
    "#### Aggregation"
   ]
  },
  {
   "cell_type": "code",
   "execution_count": null,
   "metadata": {},
   "outputs": [],
   "source": [
    "cities_frame.area.sum() # select sum(area) from cities"
   ]
  },
  {
   "cell_type": "code",
   "execution_count": null,
   "metadata": {},
   "outputs": [],
   "source": [
    "np.mean(cities_frame.population) # select avg(area) from cities"
   ]
  },
  {
   "cell_type": "code",
   "execution_count": null,
   "metadata": {},
   "outputs": [],
   "source": [
    "cities_frame.area.max(),cities_frame.population.min() # select max(area),min(population) from cities"
   ]
  },
  {
   "cell_type": "markdown",
   "metadata": {},
   "source": [
    "### DML"
   ]
  },
  {
   "cell_type": "markdown",
   "metadata": {},
   "source": [
    "#### Updates"
   ]
  },
  {
   "cell_type": "code",
   "execution_count": null,
   "metadata": {},
   "outputs": [],
   "source": [
    "cities_frame = pd.DataFrame(\n",
    "    cities,\n",
    "    index=['Delhi','Pune','Mumbai'],\n",
    "    columns=['area','population','state','type','tier','old_name']\n",
    ")\n",
    "cities_frame"
   ]
  },
  {
   "cell_type": "code",
   "execution_count": null,
   "metadata": {},
   "outputs": [],
   "source": [
    "# update cities set type = 'Unassigned'\n",
    "# Update all values in column to a single value\n",
    "cities_frame.type = 'Unassigned'\n",
    "cities_frame"
   ]
  },
  {
   "cell_type": "code",
   "execution_count": null,
   "metadata": {},
   "outputs": [],
   "source": [
    "# Update values with a list\n",
    "cities_frame.type = ['UT','Normal','State Capital']\n",
    "cities_frame"
   ]
  },
  {
   "cell_type": "code",
   "execution_count": null,
   "metadata": {},
   "outputs": [],
   "source": [
    "# Update values with a series\n",
    "cities_frame.old_name = cities_frame.index\n",
    "cities_frame.type = cities_frame.area > 500\n",
    "cities_frame"
   ]
  },
  {
   "cell_type": "code",
   "execution_count": null,
   "metadata": {},
   "outputs": [],
   "source": [
    "# Update values with a series\n",
    "cities_frame.type = cities_frame.area.apply(lambda v : 'Big' if v > 500 else 'Small')\n",
    "cities_frame"
   ]
  },
  {
   "cell_type": "code",
   "execution_count": null,
   "metadata": {},
   "outputs": [],
   "source": [
    "# Update values with a series (which has subset of keys)\n",
    "cities_frame.type = pd.Series(['UT','Capital'],index=['Delhi','Mumbai'])\n",
    "cities_frame"
   ]
  },
  {
   "cell_type": "code",
   "execution_count": null,
   "metadata": {},
   "outputs": [],
   "source": [
    "# update cities set type = 'Big' where area > 600\n",
    "cities_frame.loc[cities_frame.area>600,'type']='Big'\n",
    "cities_frame"
   ]
  },
  {
   "cell_type": "code",
   "execution_count": null,
   "metadata": {},
   "outputs": [],
   "source": [
    "# update cities set type = 'Big',tier = 1 where area > 600\n",
    "cities_frame.loc[cities_frame.area>600,['type','tier']]=('Big',1)\n",
    "cities_frame"
   ]
  },
  {
   "cell_type": "code",
   "execution_count": null,
   "metadata": {},
   "outputs": [],
   "source": [
    "# update cities set type = 'Big',tier = 1 where index in ('Delhi','Mumbai')\n",
    "cities_frame.loc[['Delhi','Mumbai'],['type','tier']]=('Big',1)\n",
    "cities_frame"
   ]
  },
  {
   "cell_type": "code",
   "execution_count": null,
   "metadata": {},
   "outputs": [],
   "source": [
    "# Set all value in All rows having area>1000 to None\n",
    "\n",
    "cities_frame.loc[cities_frame.area>1000] = None\n",
    "cities_frame\n"
   ]
  },
  {
   "cell_type": "code",
   "execution_count": null,
   "metadata": {},
   "outputs": [],
   "source": [
    "cities_frame.loc['Delhi'] = (1484,1.90,'Delhi','Big',1,'Delhi')\n",
    "cities_frame"
   ]
  },
  {
   "cell_type": "markdown",
   "metadata": {},
   "source": [
    "#### Update using Replace"
   ]
  },
  {
   "cell_type": "code",
   "execution_count": null,
   "metadata": {},
   "outputs": [],
   "source": []
  },
  {
   "cell_type": "code",
   "execution_count": null,
   "metadata": {},
   "outputs": [],
   "source": [
    "series = pd.Series([2,3,5,1,4,5])"
   ]
  },
  {
   "cell_type": "code",
   "execution_count": null,
   "metadata": {},
   "outputs": [],
   "source": [
    "series.replace(5,0)"
   ]
  },
  {
   "cell_type": "code",
   "execution_count": null,
   "metadata": {},
   "outputs": [],
   "source": [
    "series.replace(5,0,inplace=True)\n",
    "series"
   ]
  },
  {
   "cell_type": "code",
   "execution_count": null,
   "metadata": {},
   "outputs": [],
   "source": [
    "# update n where n in ()\n",
    "series.replace([1,2,3],-1)"
   ]
  },
  {
   "cell_type": "code",
   "execution_count": null,
   "metadata": {},
   "outputs": [],
   "source": [
    "series.replace([1,2,3],[-1,-2,-3])"
   ]
  },
  {
   "cell_type": "code",
   "execution_count": null,
   "metadata": {},
   "outputs": [],
   "source": [
    "# replace all values in all columns and all indices\n",
    "cities_frame.replace('Delhi','Dilli')"
   ]
  },
  {
   "cell_type": "code",
   "execution_count": null,
   "metadata": {},
   "outputs": [],
   "source": [
    "# replace multiple values with multiple values\n",
    "cities_frame.replace(['Delhi','Mumbai'],['Dilli','Bombay'])"
   ]
  },
  {
   "cell_type": "code",
   "execution_count": null,
   "metadata": {},
   "outputs": [],
   "source": [
    "# replace with regex\n",
    "cities_frame.replace(r'(.+)i$',r'\\1y',regex=True)"
   ]
  },
  {
   "cell_type": "code",
   "execution_count": null,
   "metadata": {},
   "outputs": [],
   "source": [
    "# replace with dictionary\n",
    "cities_frame.replace(to_replace={'Delhi':'Dilli','Mumbai':'Bombay'})"
   ]
  },
  {
   "cell_type": "code",
   "execution_count": null,
   "metadata": {},
   "outputs": [],
   "source": [
    "# replace with dictionary, mentioning the specific columns\n",
    "cities_frame.replace(to_replace={'state':{'Delhi':'Dilli'},'old_name':{'Mumbai':'Bombay'}})"
   ]
  },
  {
   "cell_type": "code",
   "execution_count": null,
   "metadata": {},
   "outputs": [],
   "source": [
    "# replace inplace : mutate original values\n",
    "mutable_cities_frame = cities_frame.copy(deep=True)\n",
    "mutable_cities_frame.replace(to_replace={'state':{'Delhi':'Dilli'},'old_name':{'Mumbai':'Bombay'}},inplace=True)\n",
    "mutable_cities_frame"
   ]
  },
  {
   "cell_type": "code",
   "execution_count": null,
   "metadata": {},
   "outputs": [],
   "source": [
    "cities_frame.replace(to_replace='Maharashtra', \n",
    "           value=None, \n",
    "           method='ffill')"
   ]
  },
  {
   "cell_type": "code",
   "execution_count": null,
   "metadata": {},
   "outputs": [],
   "source": []
  }
 ],
 "metadata": {
  "kernelspec": {
   "display_name": "Python 3",
   "language": "python",
   "name": "python3"
  },
  "language_info": {
   "codemirror_mode": {
    "name": "ipython",
    "version": 3
   },
   "file_extension": ".py",
   "mimetype": "text/x-python",
   "name": "python",
   "nbconvert_exporter": "python",
   "pygments_lexer": "ipython3",
   "version": "3.6.4"
  }
 },
 "nbformat": 4,
 "nbformat_minor": 2
}
