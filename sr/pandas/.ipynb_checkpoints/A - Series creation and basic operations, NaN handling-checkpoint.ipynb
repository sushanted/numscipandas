{
 "cells": [
  {
   "cell_type": "code",
   "execution_count": 1,
   "metadata": {},
   "outputs": [],
   "source": [
    "import pandas as pd\n",
    "import numpy as np"
   ]
  },
  {
   "cell_type": "markdown",
   "metadata": {},
   "source": [
    "### series with default index"
   ]
  },
  {
   "cell_type": "code",
   "execution_count": 2,
   "metadata": {},
   "outputs": [
    {
     "name": "stdout",
     "output_type": "stream",
     "text": [
      "0    1\n",
      "1    2\n",
      "2    3\n",
      "3    4\n",
      "dtype: int64\n"
     ]
    }
   ],
   "source": [
    "s = pd.Series([1,2,3,4])\n",
    "print(s)"
   ]
  },
  {
   "cell_type": "code",
   "execution_count": 3,
   "metadata": {},
   "outputs": [
    {
     "name": "stdout",
     "output_type": "stream",
     "text": [
      "RangeIndex(start=0, stop=4, step=1)\n",
      "[1 2 3 4]\n",
      "<class 'pandas.core.series.Series'>\n",
      "<class 'pandas.core.indexes.range.RangeIndex'>\n",
      "<class 'numpy.ndarray'>\n"
     ]
    }
   ],
   "source": [
    "print(s.index)\n",
    "print(s.values)\n",
    "\n",
    "print(type(s)) # series\n",
    "print(type(s.index)) # default index is range index\n",
    "print(type(s.values)) # it numpy array"
   ]
  },
  {
   "cell_type": "markdown",
   "metadata": {},
   "source": [
    "#### numpy like operations based on numeric index"
   ]
  },
  {
   "cell_type": "code",
   "execution_count": 4,
   "metadata": {},
   "outputs": [
    {
     "name": "stdout",
     "output_type": "stream",
     "text": [
      "3\n"
     ]
    }
   ],
   "source": [
    "print(s[2]) # Gives the element with key 2 (just like a dictionary)"
   ]
  },
  {
   "cell_type": "code",
   "execution_count": 5,
   "metadata": {},
   "outputs": [
    {
     "name": "stdout",
     "output_type": "stream",
     "text": [
      "1    2\n",
      "3    4\n",
      "dtype: int64\n"
     ]
    }
   ],
   "source": [
    "print(s[1:4:2])"
   ]
  },
  {
   "cell_type": "code",
   "execution_count": 6,
   "metadata": {},
   "outputs": [],
   "source": [
    "s[1] = -2  # Series individual values can be mutated using key"
   ]
  },
  {
   "cell_type": "code",
   "execution_count": 7,
   "metadata": {},
   "outputs": [
    {
     "name": "stdout",
     "output_type": "stream",
     "text": [
      "0    1\n",
      "1   -2\n",
      "2    3\n",
      "3    4\n",
      "dtype: int64\n"
     ]
    }
   ],
   "source": [
    "print(s)"
   ]
  },
  {
   "cell_type": "code",
   "execution_count": 8,
   "metadata": {},
   "outputs": [],
   "source": [
    "s[1:3] = [4,5] # Series range of values can be mutated"
   ]
  },
  {
   "cell_type": "code",
   "execution_count": 9,
   "metadata": {},
   "outputs": [
    {
     "name": "stdout",
     "output_type": "stream",
     "text": [
      "0    1\n",
      "1    4\n",
      "2    5\n",
      "3    4\n",
      "dtype: int64\n"
     ]
    }
   ],
   "source": [
    "print(s)"
   ]
  },
  {
   "cell_type": "code",
   "execution_count": 10,
   "metadata": {},
   "outputs": [
    {
     "name": "stdout",
     "output_type": "stream",
     "text": [
      "0    1\n",
      "3    4\n",
      "dtype: int64\n"
     ]
    }
   ],
   "source": [
    "print(s[[0,3]]) # Series with specific keys"
   ]
  },
  {
   "cell_type": "markdown",
   "metadata": {},
   "source": [
    "#### subseries : A view on the original series"
   ]
  },
  {
   "cell_type": "code",
   "execution_count": 11,
   "metadata": {},
   "outputs": [
    {
     "name": "stdout",
     "output_type": "stream",
     "text": [
      "1    4\n",
      "2    5\n",
      "3    4\n",
      "dtype: int64\n",
      "<class 'pandas.core.series.Series'>\n"
     ]
    }
   ],
   "source": [
    "subseries = s[1:4] # Gives another series (just like numpy gives array), it is a view on the original series\n",
    "print(subseries) \n",
    "print(type(subseries))\n"
   ]
  },
  {
   "cell_type": "code",
   "execution_count": 12,
   "metadata": {},
   "outputs": [
    {
     "name": "stdout",
     "output_type": "stream",
     "text": [
      "key 0 is not present in the view\n"
     ]
    }
   ],
   "source": [
    "try:\n",
    "    subseries[0]\n",
    "except KeyError:\n",
    "    print(\"key 0 is not present in the view\")\n",
    "    \n"
   ]
  },
  {
   "cell_type": "code",
   "execution_count": 13,
   "metadata": {},
   "outputs": [
    {
     "name": "stdout",
     "output_type": "stream",
     "text": [
      "0    1\n",
      "1   -1\n",
      "2    5\n",
      "3    4\n",
      "dtype: int64\n"
     ]
    }
   ],
   "source": [
    "subseries[1] = -1 # Original series gets modified (if the key is shared between orignial and sub series)\n",
    "print(s)"
   ]
  },
  {
   "cell_type": "code",
   "execution_count": 14,
   "metadata": {},
   "outputs": [
    {
     "name": "stdout",
     "output_type": "stream",
     "text": [
      "1   -1\n",
      "2    5\n",
      "3    4\n",
      "dtype: int64\n"
     ]
    }
   ],
   "source": [
    "print(subseries)"
   ]
  },
  {
   "cell_type": "code",
   "execution_count": 15,
   "metadata": {},
   "outputs": [
    {
     "name": "stdout",
     "output_type": "stream",
     "text": [
      "1   -1\n",
      "2    5\n",
      "3   -4\n",
      "dtype: int64\n"
     ]
    }
   ],
   "source": [
    "s[3] = -4\n",
    "print(subseries) # subseries gets modified (if the key is shared between orignial and sub series)"
   ]
  },
  {
   "cell_type": "code",
   "execution_count": 16,
   "metadata": {},
   "outputs": [
    {
     "name": "stdout",
     "output_type": "stream",
     "text": [
      "1   -1\n",
      "2    5\n",
      "3   -4\n",
      "0   -2\n",
      "dtype: int64\n",
      "0     1\n",
      "1    -1\n",
      "2     5\n",
      "3    -4\n",
      "4    10\n",
      "dtype: int64\n"
     ]
    }
   ],
   "source": [
    "subseries[0] = -2 # new key added only in the subseries\n",
    "s[4] = 10  # new key added only in the originial series\n",
    "print(subseries) # 0 key got added, 4 key not added \n",
    "print(s) # 0 key not modified because the key 0 wasn't included in the sub-series when it was created\n",
    "# the key 0 is different for original and sub-series"
   ]
  },
  {
   "cell_type": "markdown",
   "metadata": {},
   "source": [
    "### series with custom index"
   ]
  },
  {
   "cell_type": "code",
   "execution_count": 17,
   "metadata": {},
   "outputs": [],
   "source": [
    "cis = pd.Series([1,2,3,4,5,6,7],index=['Sun','Mon','Tue','Wed','Thu','Fri','Sat'])"
   ]
  },
  {
   "cell_type": "code",
   "execution_count": 18,
   "metadata": {},
   "outputs": [
    {
     "name": "stdout",
     "output_type": "stream",
     "text": [
      "<class 'pandas.core.indexes.base.Index'>\n",
      "<class 'numpy.ndarray'>\n"
     ]
    }
   ],
   "source": [
    "print(type(cis.index))\n",
    "print(type(cis.values))"
   ]
  },
  {
   "cell_type": "code",
   "execution_count": 19,
   "metadata": {},
   "outputs": [
    {
     "name": "stdout",
     "output_type": "stream",
     "text": [
      "4\n",
      "Mon    2\n",
      "Fri    6\n",
      "dtype: int64\n"
     ]
    }
   ],
   "source": [
    "# Accessing like a dictionary with the custom index\n",
    "print(cis['Wed']) # Individual keys\n",
    "print(cis[['Mon','Fri']]) # Multiple keys : gives a view\n",
    "\n",
    "\n",
    "#d = dict(a=3,b=9,c=27)\n",
    "#print(d['b'])\n",
    "#print(d[['a','b']]) # This doesn't work with dictionary"
   ]
  },
  {
   "cell_type": "code",
   "execution_count": 20,
   "metadata": {},
   "outputs": [
    {
     "name": "stdout",
     "output_type": "stream",
     "text": [
      "2\n"
     ]
    }
   ],
   "source": [
    "# Default int index is also available\n",
    "print(cis[1])"
   ]
  },
  {
   "cell_type": "code",
   "execution_count": 21,
   "metadata": {},
   "outputs": [
    {
     "name": "stdout",
     "output_type": "stream",
     "text": [
      "Mon    2\n",
      "Wed    4\n",
      "Fri    6\n",
      "dtype: int64\n"
     ]
    }
   ],
   "source": [
    "print(cis[[1,3,5]])"
   ]
  },
  {
   "cell_type": "code",
   "execution_count": 22,
   "metadata": {},
   "outputs": [
    {
     "name": "stdout",
     "output_type": "stream",
     "text": [
      "Wed    4\n",
      "Thu    5\n",
      "Fri    6\n",
      "Sat    7\n",
      "dtype: int64\n"
     ]
    }
   ],
   "source": [
    "print(cis[3:7])"
   ]
  },
  {
   "cell_type": "code",
   "execution_count": 23,
   "metadata": {},
   "outputs": [],
   "source": [
    "# Series with a custom int index\n",
    "ciis = pd.Series([1,2,3,4,5],index=[5,2,3,6,1])"
   ]
  },
  {
   "cell_type": "code",
   "execution_count": 24,
   "metadata": {},
   "outputs": [
    {
     "name": "stdout",
     "output_type": "stream",
     "text": [
      "<class 'pandas.core.indexes.base.Index'>\n",
      "<class 'numpy.ndarray'>\n"
     ]
    }
   ],
   "source": [
    "print(type(cis.index))\n",
    "print(type(cis.values))"
   ]
  },
  {
   "cell_type": "code",
   "execution_count": 25,
   "metadata": {},
   "outputs": [
    {
     "name": "stdout",
     "output_type": "stream",
     "text": [
      "5    1\n",
      "2    2\n",
      "3    3\n",
      "6    4\n",
      "1    5\n",
      "dtype: int64\n"
     ]
    }
   ],
   "source": [
    "print(ciis)"
   ]
  },
  {
   "cell_type": "code",
   "execution_count": 26,
   "metadata": {},
   "outputs": [
    {
     "name": "stdout",
     "output_type": "stream",
     "text": [
      "3    3\n",
      "6    4\n",
      "dtype: int64\n"
     ]
    }
   ],
   "source": [
    "print(ciis[[3,6]])"
   ]
  },
  {
   "cell_type": "code",
   "execution_count": 27,
   "metadata": {},
   "outputs": [
    {
     "name": "stdout",
     "output_type": "stream",
     "text": [
      "Doesn't work on default index but works on custom index\n"
     ]
    }
   ],
   "source": [
    "try : \n",
    "    print(ciis[0])\n",
    "except:\n",
    "    print(\"Doesn't work on default index but works on custom index\")"
   ]
  },
  {
   "cell_type": "code",
   "execution_count": 28,
   "metadata": {},
   "outputs": [
    {
     "name": "stdout",
     "output_type": "stream",
     "text": [
      "2    2\n",
      "3    3\n",
      "6    4\n",
      "1    5\n",
      "dtype: int64\n",
      "Series([], dtype: int64)\n"
     ]
    }
   ],
   "source": [
    "print(ciis[1:6]) # This works on default index (better say : ordial of index)\n",
    "print(ciis[11:41]) # Does not work on custom index, but uses custom index"
   ]
  },
  {
   "cell_type": "code",
   "execution_count": 29,
   "metadata": {},
   "outputs": [],
   "source": [
    "# Series with a custom float index\n",
    "cfis = pd.Series([1,2,3,4,5],index=np.arange(0,1.5,0.3))"
   ]
  },
  {
   "cell_type": "code",
   "execution_count": 30,
   "metadata": {},
   "outputs": [
    {
     "name": "stdout",
     "output_type": "stream",
     "text": [
      "<class 'pandas.core.indexes.base.Index'>\n",
      "<class 'numpy.ndarray'>\n"
     ]
    }
   ],
   "source": [
    "print(type(cis.index))\n",
    "print(type(cis.values))"
   ]
  },
  {
   "cell_type": "code",
   "execution_count": 31,
   "metadata": {},
   "outputs": [
    {
     "name": "stdout",
     "output_type": "stream",
     "text": [
      "0.0    1\n",
      "0.3    2\n",
      "0.6    3\n",
      "0.9    4\n",
      "1.2    5\n",
      "dtype: int64\n"
     ]
    }
   ],
   "source": [
    "print(cfis)"
   ]
  },
  {
   "cell_type": "code",
   "execution_count": 32,
   "metadata": {},
   "outputs": [
    {
     "name": "stdout",
     "output_type": "stream",
     "text": [
      "3\n"
     ]
    }
   ],
   "source": [
    "print(cfis[0.6])"
   ]
  },
  {
   "cell_type": "code",
   "execution_count": 33,
   "metadata": {},
   "outputs": [
    {
     "name": "stdout",
     "output_type": "stream",
     "text": [
      "As custom numeric index is defined, default index won't be available now\n"
     ]
    }
   ],
   "source": [
    "try : \n",
    "    print(cfis[2])\n",
    "except:\n",
    "    print(\"As custom numeric index is defined, default index won't be available now\")"
   ]
  },
  {
   "cell_type": "code",
   "execution_count": 34,
   "metadata": {},
   "outputs": [
    {
     "name": "stdout",
     "output_type": "stream",
     "text": [
      "0.0    1\n",
      "0.3    2\n",
      "0.6    3\n",
      "0.9    4\n",
      "dtype: int64\n",
      "0.0    1\n",
      "0.3    2\n",
      "0.6    3\n",
      "dtype: int64\n"
     ]
    }
   ],
   "source": [
    "print(cfis[0:1])  # This works on the custom index\n",
    "print(cfis[0.0:0.6]) # This works on the custom index"
   ]
  },
  {
   "cell_type": "markdown",
   "metadata": {},
   "source": [
    "#### Series from dictionary"
   ]
  },
  {
   "cell_type": "code",
   "execution_count": 35,
   "metadata": {},
   "outputs": [
    {
     "name": "stdout",
     "output_type": "stream",
     "text": [
      "Index(['apple', 'mange', 'orange', 'strawberry'], dtype='object')\n",
      "apple         1\n",
      "mange         2\n",
      "orange        3\n",
      "strawberry    4\n",
      "dtype: int64\n"
     ]
    }
   ],
   "source": [
    "dict_index = pd.Series(dict(strawberry=4,apple=1,mange=2,orange=3))\n",
    "print(dict_index.index) # sorted by index value\n",
    "print(dict_index) # sorted by index value"
   ]
  },
  {
   "cell_type": "code",
   "execution_count": 36,
   "metadata": {},
   "outputs": [
    {
     "name": "stdout",
     "output_type": "stream",
     "text": [
      "1\n",
      "3\n"
     ]
    }
   ],
   "source": [
    "print(dict_index['apple'])\n",
    "print(dict_index[2]) # not much sense, but gives the element at 2 in sorted series by index value"
   ]
  },
  {
   "cell_type": "markdown",
   "metadata": {},
   "source": [
    "### Operations on series"
   ]
  },
  {
   "cell_type": "code",
   "execution_count": 37,
   "metadata": {},
   "outputs": [
    {
     "name": "stdout",
     "output_type": "stream",
     "text": [
      "apple          NaN\n",
      "banana        33.0\n",
      "mango         12.0\n",
      "orange        46.0\n",
      "strawberry     NaN\n",
      "dtype: float64\n"
     ]
    }
   ],
   "source": [
    "s1 = pd.Series(dict(strawberry=7,banana=3,orange=4,mango=6))\n",
    "s2 = pd.Series(dict(apple=1,banana=30,orange=42,mango=6))\n",
    "\n",
    "print(s1+s2) # NaN for elements which are not present in any of the two series\n"
   ]
  },
  {
   "cell_type": "code",
   "execution_count": 38,
   "metadata": {},
   "outputs": [
    {
     "name": "stdout",
     "output_type": "stream",
     "text": [
      "apple          NaN\n",
      "banana       -27.0\n",
      "mango          0.0\n",
      "orange       -38.0\n",
      "strawberry     NaN\n",
      "dtype: float64\n"
     ]
    }
   ],
   "source": [
    "print(s1-s2) # NaN for elements which are not present in any of the two series"
   ]
  },
  {
   "cell_type": "code",
   "execution_count": 39,
   "metadata": {},
   "outputs": [
    {
     "name": "stdout",
     "output_type": "stream",
     "text": [
      "banana         8\n",
      "mango         11\n",
      "orange         9\n",
      "strawberry    12\n",
      "dtype: int64\n"
     ]
    }
   ],
   "source": [
    "print(s1+5)"
   ]
  },
  {
   "cell_type": "code",
   "execution_count": 40,
   "metadata": {},
   "outputs": [
    {
     "name": "stdout",
     "output_type": "stream",
     "text": [
      "banana        1.584963\n",
      "mango         2.584963\n",
      "orange        2.000000\n",
      "strawberry    2.807355\n",
      "dtype: float64\n"
     ]
    }
   ],
   "source": [
    "print(np.log2(s1))"
   ]
  },
  {
   "cell_type": "code",
   "execution_count": 41,
   "metadata": {},
   "outputs": [
    {
     "name": "stdout",
     "output_type": "stream",
     "text": [
      "banana        1.584963\n",
      "mango         2.584963\n",
      "orange        2.000000\n",
      "strawberry    2.807355\n",
      "dtype: float64\n"
     ]
    }
   ],
   "source": [
    "print(s1.apply(np.log2)) # Same as above, different format, any function can be used"
   ]
  },
  {
   "cell_type": "code",
   "execution_count": 42,
   "metadata": {},
   "outputs": [
    {
     "name": "stdout",
     "output_type": "stream",
     "text": [
      "banana        3\n",
      "mango         6\n",
      "orange        4\n",
      "strawberry    7\n",
      "dtype: int64\n",
      "banana        4\n",
      "mango         5\n",
      "orange        5\n",
      "strawberry    6\n",
      "dtype: int64\n"
     ]
    }
   ],
   "source": [
    "print(s1)\n",
    "print(s1.apply(lambda x : x-1 if x>4 else x+1)) # lambda can be used in apply"
   ]
  },
  {
   "cell_type": "code",
   "execution_count": 43,
   "metadata": {},
   "outputs": [
    {
     "name": "stdout",
     "output_type": "stream",
     "text": [
      "banana         9\n",
      "mango         15\n",
      "orange        11\n",
      "strawberry    17\n",
      "dtype: int64\n"
     ]
    }
   ],
   "source": [
    "def fun(a,b):\n",
    "    return 2*a+b\n",
    "\n",
    "print(s1.apply(fun,b=3))"
   ]
  },
  {
   "cell_type": "markdown",
   "metadata": {},
   "source": [
    "#### Filtering with boolean array"
   ]
  },
  {
   "cell_type": "code",
   "execution_count": 44,
   "metadata": {},
   "outputs": [
    {
     "name": "stdout",
     "output_type": "stream",
     "text": [
      "banana        False\n",
      "mango          True\n",
      "orange        False\n",
      "strawberry     True\n",
      "dtype: bool\n"
     ]
    }
   ],
   "source": [
    "print(s1>4) # Returns an array which satisfies the predicate"
   ]
  },
  {
   "cell_type": "code",
   "execution_count": 45,
   "metadata": {},
   "outputs": [
    {
     "name": "stdout",
     "output_type": "stream",
     "text": [
      "banana    3\n",
      "mango     6\n",
      "orange    4\n",
      "dtype: int64\n"
     ]
    }
   ],
   "source": [
    "print(s1[pd.Series(dict(orange=True,banana=True,mango=True,strawberry=False))]) # key can be a boolean series"
   ]
  },
  {
   "cell_type": "code",
   "execution_count": 46,
   "metadata": {},
   "outputs": [
    {
     "name": "stdout",
     "output_type": "stream",
     "text": [
      "mango         6\n",
      "strawberry    7\n",
      "dtype: int64\n"
     ]
    }
   ],
   "source": [
    "print(s1[s1>4])"
   ]
  },
  {
   "cell_type": "code",
   "execution_count": 47,
   "metadata": {},
   "outputs": [
    {
     "name": "stdout",
     "output_type": "stream",
     "text": [
      "False\n",
      "True\n"
     ]
    }
   ],
   "source": [
    "# in operator same as iterables\n",
    "print('pomogranate' in s1)\n",
    "print('mango' in s1)\n"
   ]
  },
  {
   "cell_type": "markdown",
   "metadata": {},
   "source": [
    "### Missing data"
   ]
  },
  {
   "cell_type": "code",
   "execution_count": 48,
   "metadata": {},
   "outputs": [
    {
     "name": "stdout",
     "output_type": "stream",
     "text": [
      "apple     NaN\n",
      "mango     6.0\n",
      "banana    3.0\n",
      "dtype: float64\n"
     ]
    }
   ],
   "source": [
    "fruits = dict(strawberry=7,banana=3,orange=4,mango=6)  # apple not in dictionary\n",
    "mds = pd.Series(fruits,index = ['apple','mango','banana'])  # strawberry, orange not in the index\n",
    "print(mds)  # because NaN values other present values turn into float64"
   ]
  },
  {
   "cell_type": "code",
   "execution_count": 49,
   "metadata": {},
   "outputs": [
    {
     "name": "stdout",
     "output_type": "stream",
     "text": [
      "apple      True\n",
      "mango     False\n",
      "banana    False\n",
      "dtype: bool\n"
     ]
    }
   ],
   "source": [
    "print(mds.isnull())  # boolean array telling the null values"
   ]
  },
  {
   "cell_type": "code",
   "execution_count": 50,
   "metadata": {},
   "outputs": [
    {
     "name": "stdout",
     "output_type": "stream",
     "text": [
      "mango     6.0\n",
      "banana    3.0\n",
      "dtype: float64\n"
     ]
    }
   ],
   "source": [
    "print(mds[mds.notnull()]) # boolean array telling the not null values"
   ]
  },
  {
   "cell_type": "code",
   "execution_count": 51,
   "metadata": {},
   "outputs": [
    {
     "name": "stdout",
     "output_type": "stream",
     "text": [
      "mango     6.0\n",
      "banana    3.0\n",
      "dtype: float64\n"
     ]
    }
   ],
   "source": [
    "print(mds.dropna()) # simplified representation of above"
   ]
  },
  {
   "cell_type": "code",
   "execution_count": 52,
   "metadata": {},
   "outputs": [
    {
     "name": "stdout",
     "output_type": "stream",
     "text": [
      "apple     0.0\n",
      "mango     6.0\n",
      "banana    3.0\n",
      "dtype: float64\n"
     ]
    }
   ],
   "source": [
    "print(mds.fillna(0)) # returns filling missing values with given value"
   ]
  },
  {
   "cell_type": "code",
   "execution_count": 53,
   "metadata": {},
   "outputs": [
    {
     "name": "stdout",
     "output_type": "stream",
     "text": [
      "apple     0\n",
      "mango     6\n",
      "banana    3\n",
      "dtype: int64\n"
     ]
    }
   ],
   "source": [
    "print(mds.fillna(0).astype(int)) # Restore the data-type to desired : int"
   ]
  },
  {
   "cell_type": "code",
   "execution_count": 54,
   "metadata": {},
   "outputs": [
    {
     "name": "stdout",
     "output_type": "stream",
     "text": [
      "apple     9.0\n",
      "mango     6.0\n",
      "banana    3.0\n",
      "dtype: float64\n"
     ]
    }
   ],
   "source": [
    "print(mds.fillna(dict(apple=9,banana=8))) # fill all matching NaN value keys with the dictionary keys (patch NaN with dictionary)"
   ]
  },
  {
   "cell_type": "markdown",
   "metadata": {},
   "source": [
    "### Concatenating series"
   ]
  },
  {
   "cell_type": "code",
   "execution_count": 55,
   "metadata": {},
   "outputs": [
    {
     "name": "stdout",
     "output_type": "stream",
     "text": [
      "apple        9\n",
      "banana       8\n",
      "orange       9\n",
      "pineapple    3\n",
      "dtype: int64\n"
     ]
    }
   ],
   "source": [
    "conser1 = pd.Series(dict(apple=9,banana=8))\n",
    "conser2 = pd.Series(dict(orange=9,pineapple=3))\n",
    "\n",
    "print(pd.concat([conser1,conser2]))\n"
   ]
  },
  {
   "cell_type": "markdown",
   "metadata": {},
   "source": [
    "### Mutating series values"
   ]
  },
  {
   "cell_type": "code",
   "execution_count": 70,
   "metadata": {},
   "outputs": [
    {
     "data": {
      "text/plain": [
       "A    1\n",
       "B    2\n",
       "C    3\n",
       "X    0\n",
       "dtype: int64"
      ]
     },
     "execution_count": 70,
     "metadata": {},
     "output_type": "execute_result"
    }
   ],
   "source": [
    "# Adding new values\n",
    "simple_series = pd.Series([1,2,3],['A','B','C'])\n",
    "simple_series['X'] = 0\n",
    "simple_series"
   ]
  },
  {
   "cell_type": "code",
   "execution_count": 69,
   "metadata": {},
   "outputs": [
    {
     "data": {
      "text/plain": [
       "A    0\n",
       "B    2\n",
       "C    3\n",
       "dtype: int64"
      ]
     },
     "execution_count": 69,
     "metadata": {},
     "output_type": "execute_result"
    }
   ],
   "source": [
    "# Updating existing values\n",
    "simple_series = pd.Series([1,2,3],['A','B','C'])\n",
    "simple_series['A'] = 0\n",
    "simple_series"
   ]
  },
  {
   "cell_type": "code",
   "execution_count": 71,
   "metadata": {},
   "outputs": [
    {
     "data": {
      "text/plain": [
       "B    2\n",
       "C    3\n",
       "dtype: int64"
      ]
     },
     "execution_count": 71,
     "metadata": {},
     "output_type": "execute_result"
    }
   ],
   "source": [
    "# deleting values\n",
    "simple_series = pd.Series([1,2,3],['A','B','C'])\n",
    "del simple_series['A']\n",
    "simple_series"
   ]
  },
  {
   "cell_type": "code",
   "execution_count": 68,
   "metadata": {},
   "outputs": [
    {
     "data": {
      "text/plain": [
       "A    5\n",
       "B    6\n",
       "C    3\n",
       "dtype: int64"
      ]
     },
     "execution_count": 68,
     "metadata": {},
     "output_type": "execute_result"
    }
   ],
   "source": [
    "simple_series = pd.Series([1,2,3],['A','B','C'])\n",
    "simple_series[simple_series<3] = pd.Series(dict(A=5,B=6,C=9))\n",
    "# The sub-view (and thus the original view) gets modified for the values which are present in the sub-series(A,B)\n",
    "# But not for the values which are not in the view of the sub-series (C)\n",
    "simple_series"
   ]
  },
  {
   "cell_type": "code",
   "execution_count": null,
   "metadata": {},
   "outputs": [],
   "source": []
  },
  {
   "cell_type": "code",
   "execution_count": null,
   "metadata": {},
   "outputs": [],
   "source": []
  }
 ],
 "metadata": {
  "kernelspec": {
   "display_name": "Python 3",
   "language": "python",
   "name": "python3"
  },
  "language_info": {
   "codemirror_mode": {
    "name": "ipython",
    "version": 3
   },
   "file_extension": ".py",
   "mimetype": "text/x-python",
   "name": "python",
   "nbconvert_exporter": "python",
   "pygments_lexer": "ipython3",
   "version": "3.6.4"
  }
 },
 "nbformat": 4,
 "nbformat_minor": 2
}
