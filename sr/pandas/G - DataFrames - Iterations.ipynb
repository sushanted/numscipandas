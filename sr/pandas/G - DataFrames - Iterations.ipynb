{
 "cells": [
  {
   "cell_type": "code",
   "execution_count": 3,
   "metadata": {},
   "outputs": [],
   "source": [
    "import pandas as pd\n",
    "import numpy as np"
   ]
  },
  {
   "cell_type": "code",
   "execution_count": 7,
   "metadata": {},
   "outputs": [],
   "source": [
    "df = pd.DataFrame(np.random.random((3,7)),columns=['S','M','T','W','T','F','S'])"
   ]
  },
  {
   "cell_type": "code",
   "execution_count": 9,
   "metadata": {},
   "outputs": [
    {
     "name": "stdout",
     "output_type": "stream",
     "text": [
      "S\n",
      "M\n",
      "T\n",
      "W\n",
      "T\n",
      "F\n",
      "S\n"
     ]
    }
   ],
   "source": [
    "# prints only keys\n",
    "for i in df:\n",
    "    print(i)"
   ]
  },
  {
   "cell_type": "code",
   "execution_count": 22,
   "metadata": {},
   "outputs": [
    {
     "name": "stdout",
     "output_type": "stream",
     "text": [
      "S\n",
      "0    0.915241\n",
      "1    0.320718\n",
      "2    0.946279\n",
      "Name: S, dtype: float64\n",
      "M\n",
      "0    0.418658\n",
      "1    0.966587\n",
      "2    0.797119\n",
      "Name: M, dtype: float64\n",
      "T\n",
      "0    0.740419\n",
      "1    0.852746\n",
      "2    0.564459\n",
      "Name: T, dtype: float64\n",
      "W\n",
      "0    0.942251\n",
      "1    0.142251\n",
      "2    0.777187\n",
      "Name: W, dtype: float64\n",
      "T\n",
      "0    0.740261\n",
      "1    0.577027\n",
      "2    0.774944\n",
      "Name: T, dtype: float64\n",
      "F\n",
      "0    0.763123\n",
      "1    0.378831\n",
      "2    0.782772\n",
      "Name: F, dtype: float64\n",
      "S\n",
      "0    0.699081\n",
      "1    0.229062\n",
      "2    0.267720\n",
      "Name: S, dtype: float64\n"
     ]
    }
   ],
   "source": [
    "# iterate through column_name and columns as series\n",
    "# This is same as iteritems()\n",
    "for (col_name,series) in df.items():\n",
    "    print(col_name)\n",
    "    print(series)"
   ]
  },
  {
   "cell_type": "code",
   "execution_count": 27,
   "metadata": {},
   "outputs": [
    {
     "name": "stdout",
     "output_type": "stream",
     "text": [
      "[0.91524075 0.41865808 0.74041862 0.94225082 0.74026072 0.76312337\n",
      " 0.6990806 ]\n",
      "[0.32071822 0.96658748 0.85274628 0.14225137 0.57702732 0.37883068\n",
      " 0.22906224]\n",
      "[0.94627881 0.79711938 0.56445927 0.77718707 0.77494355 0.78277213\n",
      " 0.26772044]\n"
     ]
    }
   ],
   "source": [
    "# iterate through row values\n",
    "for row in df.values:\n",
    "    print(row)"
   ]
  },
  {
   "cell_type": "code",
   "execution_count": 31,
   "metadata": {},
   "outputs": [
    {
     "name": "stdout",
     "output_type": "stream",
     "text": [
      "0\n",
      "S    0.915241\n",
      "M    0.418658\n",
      "T    0.740419\n",
      "W    0.942251\n",
      "T    0.740261\n",
      "F    0.763123\n",
      "S    0.699081\n",
      "Name: 0, dtype: float64\n",
      "1\n",
      "S    0.320718\n",
      "M    0.966587\n",
      "T    0.852746\n",
      "W    0.142251\n",
      "T    0.577027\n",
      "F    0.378831\n",
      "S    0.229062\n",
      "Name: 1, dtype: float64\n",
      "2\n",
      "S    0.946279\n",
      "M    0.797119\n",
      "T    0.564459\n",
      "W    0.777187\n",
      "T    0.774944\n",
      "F    0.782772\n",
      "S    0.267720\n",
      "Name: 2, dtype: float64\n"
     ]
    }
   ],
   "source": [
    "for row_index,row_series in df.iterrows():\n",
    "    print(row_index)\n",
    "    print(row_series)"
   ]
  },
  {
   "cell_type": "code",
   "execution_count": 39,
   "metadata": {},
   "outputs": [
    {
     "name": "stdout",
     "output_type": "stream",
     "text": [
      "0\n",
      "[0.9152407494113022, 0.41865807960525836, 0.7404186158000085, 0.9422508207167336, 0.7402607211758495, 0.7631233657824896, 0.6990805971485357]\n",
      "1\n",
      "[0.32071822493302926, 0.9665874800581931, 0.8527462787527037, 0.14225137167508084, 0.5770273248483808, 0.3788306786301826, 0.22906223683951565]\n",
      "2\n",
      "[0.9462788053419451, 0.7971193840161926, 0.5644592699238921, 0.777187068786242, 0.7749435542363455, 0.782772133160761, 0.26772043510017984]\n"
     ]
    }
   ],
   "source": [
    "# iterate through rows as tuples, where first item in tuple is the index\n",
    "for (idx,*values) in df.itertuples():\n",
    "    print(idx)\n",
    "    print(values)"
   ]
  },
  {
   "cell_type": "code",
   "execution_count": null,
   "metadata": {},
   "outputs": [],
   "source": []
  }
 ],
 "metadata": {
  "kernelspec": {
   "display_name": "Python 3",
   "language": "python",
   "name": "python3"
  },
  "language_info": {
   "codemirror_mode": {
    "name": "ipython",
    "version": 3
   },
   "file_extension": ".py",
   "mimetype": "text/x-python",
   "name": "python",
   "nbconvert_exporter": "python",
   "pygments_lexer": "ipython3",
   "version": "3.6.4"
  }
 },
 "nbformat": 4,
 "nbformat_minor": 2
}
