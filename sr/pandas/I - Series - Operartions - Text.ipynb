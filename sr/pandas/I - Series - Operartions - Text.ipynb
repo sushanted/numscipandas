{
 "cells": [
  {
   "cell_type": "code",
   "execution_count": 1,
   "metadata": {},
   "outputs": [],
   "source": [
    "import numpy as np\n",
    "import pandas as pd"
   ]
  },
  {
   "cell_type": "code",
   "execution_count": 2,
   "metadata": {},
   "outputs": [],
   "source": [
    "# None/NaN values are ignored\n",
    "series = df = pd.Series(['Sun',None,'Mercury','Venus','Earth','Mars','Jupiter','Saturn','Uranus','Neptune'])\n",
    "\n"
   ]
  },
  {
   "cell_type": "code",
   "execution_count": 3,
   "metadata": {},
   "outputs": [
    {
     "data": {
      "text/plain": [
       "0        Sun\n",
       "1       None\n",
       "2    Mercury\n",
       "3      Venus\n",
       "4      Earth\n",
       "5       Mars\n",
       "6    Jupiter\n",
       "7     Saturn\n",
       "8     Uranus\n",
       "9    Neptune\n",
       "dtype: object"
      ]
     },
     "execution_count": 3,
     "metadata": {},
     "output_type": "execute_result"
    }
   ],
   "source": [
    "series"
   ]
  },
  {
   "cell_type": "code",
   "execution_count": 4,
   "metadata": {},
   "outputs": [
    {
     "data": {
      "text/plain": [
       "0        sun\n",
       "1       None\n",
       "2    mercury\n",
       "3      venus\n",
       "4      earth\n",
       "5       mars\n",
       "6    jupiter\n",
       "7     saturn\n",
       "8     uranus\n",
       "9    neptune\n",
       "dtype: object"
      ]
     },
     "execution_count": 4,
     "metadata": {},
     "output_type": "execute_result"
    }
   ],
   "source": [
    "series.str.lower()"
   ]
  },
  {
   "cell_type": "code",
   "execution_count": 5,
   "metadata": {},
   "outputs": [
    {
     "data": {
      "text/plain": [
       "0    3.0\n",
       "1    NaN\n",
       "2    7.0\n",
       "3    5.0\n",
       "4    5.0\n",
       "5    4.0\n",
       "6    7.0\n",
       "7    6.0\n",
       "8    6.0\n",
       "9    7.0\n",
       "dtype: float64"
      ]
     },
     "execution_count": 5,
     "metadata": {},
     "output_type": "execute_result"
    }
   ],
   "source": [
    "series.str.len()"
   ]
  },
  {
   "cell_type": "code",
   "execution_count": 6,
   "metadata": {},
   "outputs": [
    {
     "data": {
      "text/plain": [
       "0          [S, n]\n",
       "1            None\n",
       "2     [M, rc, ry]\n",
       "3       [V, n, s]\n",
       "4        [E, rth]\n",
       "5         [M, rs]\n",
       "6    [J, p, t, r]\n",
       "7      [S, t, rn]\n",
       "8      [Ur, n, s]\n",
       "9    [N, pt, n, ]\n",
       "dtype: object"
      ]
     },
     "execution_count": 6,
     "metadata": {},
     "output_type": "execute_result"
    }
   ],
   "source": [
    "series.str.split('a|e|i|o|u')"
   ]
  },
  {
   "cell_type": "code",
   "execution_count": 7,
   "metadata": {},
   "outputs": [
    {
     "data": {
      "text/plain": [
       "'Sun Mercury Venus Earth Mars Jupiter Saturn Uranus Neptune'"
      ]
     },
     "execution_count": 7,
     "metadata": {},
     "output_type": "execute_result"
    }
   ],
   "source": [
    "# Gives a single value\n",
    "series.str.cat(sep=' ')"
   ]
  },
  {
   "cell_type": "code",
   "execution_count": 8,
   "metadata": {},
   "outputs": [
    {
     "data": {
      "text/plain": [
       "0    33.333333\n",
       "1          NaN\n",
       "2    28.571429\n",
       "3    40.000000\n",
       "4    20.000000\n",
       "5    25.000000\n",
       "6    42.857143\n",
       "7    33.333333\n",
       "8    33.333333\n",
       "9    42.857143\n",
       "dtype: float64"
      ]
     },
     "execution_count": 8,
     "metadata": {},
     "output_type": "execute_result"
    }
   ],
   "source": [
    "series.str.count('[aeiou]')*100/series.str.len()"
   ]
  },
  {
   "cell_type": "code",
   "execution_count": 9,
   "metadata": {},
   "outputs": [
    {
     "data": {
      "text/plain": [
       "0        SXn\n",
       "1       None\n",
       "2    MXrcXry\n",
       "3      VXnXs\n",
       "4      EXrth\n",
       "5       MXrs\n",
       "6    JXpXtXr\n",
       "7     SXtXrn\n",
       "8     UrXnXs\n",
       "9    NXptXnX\n",
       "dtype: object"
      ]
     },
     "execution_count": 9,
     "metadata": {},
     "output_type": "execute_result"
    }
   ],
   "source": [
    "series.str.replace('[aeiou]','X')"
   ]
  },
  {
   "cell_type": "code",
   "execution_count": 10,
   "metadata": {},
   "outputs": [
    {
     "name": "stdout",
     "output_type": "stream",
     "text": [
      "0                    Sun Sun Sun Sun \n",
      "1                                 NaN\n",
      "2    Mercury Mercury Mercury Mercury \n",
      "3            Venus Venus Venus Venus \n",
      "4            Earth Earth Earth Earth \n",
      "5                Mars Mars Mars Mars \n",
      "6    Jupiter Jupiter Jupiter Jupiter \n",
      "7        Saturn Saturn Saturn Saturn \n",
      "8        Uranus Uranus Uranus Uranus \n",
      "9    Neptune Neptune Neptune Neptune \n",
      "dtype: object\n",
      "0                    Sun Sun Sun Sun \n",
      "1                                 NaN\n",
      "2    Mercury Mercury Mercury Mercury \n",
      "3            Venus Venus Venus Venus \n",
      "4            Earth Earth Earth Earth \n",
      "5                Mars Mars Mars Mars \n",
      "6    Jupiter Jupiter Jupiter Jupiter \n",
      "7        Saturn Saturn Saturn Saturn \n",
      "8        Uranus Uranus Uranus Uranus \n",
      "9    Neptune Neptune Neptune Neptune \n",
      "dtype: object\n"
     ]
    }
   ],
   "source": [
    "print((series+' ').str.repeat(4))\n",
    "# Same as above\n",
    "print((series+' ')*4)"
   ]
  },
  {
   "cell_type": "code",
   "execution_count": 11,
   "metadata": {},
   "outputs": [
    {
     "data": {
      "text/plain": [
       "0   -1.0\n",
       "1    NaN\n",
       "2    1.0\n",
       "3    1.0\n",
       "4   -1.0\n",
       "5   -1.0\n",
       "6    5.0\n",
       "7   -1.0\n",
       "8   -1.0\n",
       "9    1.0\n",
       "dtype: float64"
      ]
     },
     "execution_count": 11,
     "metadata": {},
     "output_type": "execute_result"
    }
   ],
   "source": [
    "# first index of 'e'\n",
    "series.str.find('e')"
   ]
  },
  {
   "cell_type": "code",
   "execution_count": null,
   "metadata": {},
   "outputs": [],
   "source": []
  }
 ],
 "metadata": {
  "kernelspec": {
   "display_name": "Python 3",
   "language": "python",
   "name": "python3"
  },
  "language_info": {
   "codemirror_mode": {
    "name": "ipython",
    "version": 3
   },
   "file_extension": ".py",
   "mimetype": "text/x-python",
   "name": "python",
   "nbconvert_exporter": "python",
   "pygments_lexer": "ipython3",
   "version": "3.6.4"
  }
 },
 "nbformat": 4,
 "nbformat_minor": 2
}
